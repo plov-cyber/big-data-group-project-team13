{
 "cells": [
  {
   "cell_type": "markdown",
   "id": "c9564208-8d41-4a7b-a12e-b13f6b3e3027",
   "metadata": {},
   "source": [
    "# Predictive Data Analytics"
   ]
  },
  {
   "cell_type": "code",
   "execution_count": 1,
   "id": "f419ae18-5559-43bb-8a6d-b0d1bec4d46e",
   "metadata": {},
   "outputs": [],
   "source": [
    "import os\n",
    "\n",
    "from pyspark.sql import Row\n",
    "from pyspark.sql import SparkSession, DataFrame, Row\n",
    "import pyspark.sql.functions as F\n",
    "from pyspark.sql.functions import col, udf, split, when, sin, cos\n",
    "from pyspark.sql.types import IntegerType, StringType\n",
    "from pyspark import keyword_only\n",
    "from pyspark.ml import Transformer, Pipeline\n",
    "from pyspark.ml.linalg import Vector\n",
    "from pyspark.ml.param.shared import HasInputCol, HasOutputCol, Param, Params, TypeConverters\n",
    "from pyspark.ml.util import DefaultParamsReadable, DefaultParamsWritable\n",
    "from pyspark.ml.feature import StringIndexer, OneHotEncoder, VectorAssembler, Tokenizer\n",
    "from pyspark.ml.regression import LinearRegression, GBTRegressor\n",
    "from pyspark.ml.evaluation import Evaluator, RegressionEvaluator \n",
    "from pyspark.ml.tuning import ParamGridBuilder, CrossValidator \n",
    "\n",
    "import numpy as np\n",
    "import math\n",
    "from pprint import pprint"
   ]
  },
  {
   "cell_type": "markdown",
   "id": "706a9825-4d00-420b-88a9-b6490506674b",
   "metadata": {},
   "source": [
    "## Read Hive tables"
   ]
  },
  {
   "cell_type": "markdown",
   "id": "64b50299-c3da-4793-b2f1-9b9c87866aeb",
   "metadata": {},
   "source": [
    "### Connect to Hive"
   ]
  },
  {
   "cell_type": "code",
   "execution_count": 2,
   "id": "9a4ecd01-d86b-4de2-b0c0-1e6ca3a67bff",
   "metadata": {},
   "outputs": [],
   "source": [
    "# Add here your team number teamx\n",
    "team = \"team13\"\n",
    "\n",
    "# Location of Hive database in HDFS\n",
    "warehouse = \"project/hive/warehouse\"\n",
    "\n",
    "spark = SparkSession.builder \\\n",
    "        .appName(\"{} - spark ML\".format(team)) \\\n",
    "        .master(\"yarn\") \\\n",
    "        .config(\"hive.metastore.uris\", \"thrift://hadoop-02.uni.innopolis.ru:9883\") \\\n",
    "        .config(\"spark.sql.warehouse.dir\", warehouse) \\\n",
    "        .config(\"spark.sql.avro.compression.codec\", \"snappy\") \\\n",
    "        .config(\"spark.executor.instances\", 8) \\\n",
    "        .config(\"spark.executor.cores\", 1) \\\n",
    "        .config(\"spark.executor.memory\", \"2g\") \\\n",
    "        .config(\"spark.dynamicAllocation.enabled\", \"false\") \\\n",
    "        .enableHiveSupport() \\\n",
    "        .getOrCreate()"
   ]
  },
  {
   "cell_type": "code",
   "execution_count": 3,
   "id": "33b4a7e4-7934-4eb6-9b43-46bafd99a20b",
   "metadata": {},
   "outputs": [
    {
     "data": {
      "text/html": [
       "\n",
       "            <div>\n",
       "                <p><b>SparkSession - hive</b></p>\n",
       "                \n",
       "        <div>\n",
       "            <p><b>SparkContext</b></p>\n",
       "\n",
       "            <p><a href=\"http://hadoop-01.uni.innopolis.ru:4140\">Spark UI</a></p>\n",
       "\n",
       "            <dl>\n",
       "              <dt>Version</dt>\n",
       "                <dd><code>v3.2.4</code></dd>\n",
       "              <dt>Master</dt>\n",
       "                <dd><code>yarn</code></dd>\n",
       "              <dt>AppName</dt>\n",
       "                <dd><code>team13 - spark ML</code></dd>\n",
       "            </dl>\n",
       "        </div>\n",
       "        \n",
       "            </div>\n",
       "        "
      ],
      "text/plain": [
       "<pyspark.sql.session.SparkSession at 0x7f199feb5e80>"
      ]
     },
     "execution_count": 3,
     "metadata": {},
     "output_type": "execute_result"
    }
   ],
   "source": [
    "spark"
   ]
  },
  {
   "cell_type": "markdown",
   "id": "7982d97e-f132-4af8-ba23-c12848742735",
   "metadata": {},
   "source": [
    "### List all databases"
   ]
  },
  {
   "cell_type": "code",
   "execution_count": 4,
   "id": "a1c5c347-762d-4e98-89d5-7fd80e79efed",
   "metadata": {},
   "outputs": [
    {
     "name": "stdout",
     "output_type": "stream",
     "text": [
      "+--------------------+\n",
      "|           namespace|\n",
      "+--------------------+\n",
      "|             default|\n",
      "|             root_db|\n",
      "|     team0_projectdb|\n",
      "|team12_hive_proje...|\n",
      "|    team13_projectdb|\n",
      "|    team14_projectdb|\n",
      "|    team15_projectdb|\n",
      "|    team16_projectdb|\n",
      "|    team17_projectdb|\n",
      "|    team18_projectdb|\n",
      "|    team19_projectdb|\n",
      "|     team1_projectdb|\n",
      "|    team20_projectdb|\n",
      "|    team21_projectdb|\n",
      "|    team22_projectdb|\n",
      "|    team23_projectdb|\n",
      "|    team24_projectdb|\n",
      "|    team25_projectdb|\n",
      "|    team26_projectdb|\n",
      "|    team27_projectdb|\n",
      "+--------------------+\n",
      "only showing top 20 rows\n",
      "\n"
     ]
    }
   ],
   "source": [
    "spark.sql(\"SHOW DATABASES;\").show()"
   ]
  },
  {
   "cell_type": "markdown",
   "id": "bff740cc-e16f-4338-913b-38c2c3181759",
   "metadata": {},
   "source": [
    "### List all tables"
   ]
  },
  {
   "cell_type": "code",
   "execution_count": 5,
   "id": "4c66ed2a-3c11-43be-b564-8c48facf7a6b",
   "metadata": {},
   "outputs": [
    {
     "name": "stdout",
     "output_type": "stream",
     "text": [
      "[Table(name='acquisitions', database='team13_projectdb', description=None, tableType='EXTERNAL', isTemporary=False), Table(name='degrees', database='team13_projectdb', description=None, tableType='EXTERNAL', isTemporary=False), Table(name='funding_rounds', database='team13_projectdb', description=None, tableType='EXTERNAL', isTemporary=False), Table(name='funding_rounds_part', database='team13_projectdb', description=None, tableType='EXTERNAL', isTemporary=False), Table(name='funds', database='team13_projectdb', description=None, tableType='EXTERNAL', isTemporary=False), Table(name='investments', database='team13_projectdb', description=None, tableType='EXTERNAL', isTemporary=False), Table(name='ipos', database='team13_projectdb', description=None, tableType='EXTERNAL', isTemporary=False), Table(name='milestones', database='team13_projectdb', description=None, tableType='EXTERNAL', isTemporary=False), Table(name='objects', database='team13_projectdb', description=None, tableType='EXTERNAL', isTemporary=False), Table(name='objects_part', database='team13_projectdb', description=None, tableType='EXTERNAL', isTemporary=False), Table(name='offices', database='team13_projectdb', description=None, tableType='EXTERNAL', isTemporary=False), Table(name='people', database='team13_projectdb', description=None, tableType='EXTERNAL', isTemporary=False), Table(name='q1_results', database='team13_projectdb', description=None, tableType='EXTERNAL', isTemporary=False), Table(name='q2_results', database='team13_projectdb', description=None, tableType='EXTERNAL', isTemporary=False), Table(name='q3_results', database='team13_projectdb', description=None, tableType='EXTERNAL', isTemporary=False), Table(name='relationships', database='team13_projectdb', description=None, tableType='EXTERNAL', isTemporary=False)]\n"
     ]
    }
   ],
   "source": [
    "print(spark.catalog.listTables(\"team13_projectdb\"))"
   ]
  },
  {
   "cell_type": "markdown",
   "id": "a0e3edd2-c0b4-456f-82d1-2c033a8d5e41",
   "metadata": {},
   "source": [
    "### Read Hive tables"
   ]
  },
  {
   "cell_type": "code",
   "execution_count": 6,
   "id": "0e93ce30-1b85-40c4-8d94-8c3ffcbc1b8a",
   "metadata": {},
   "outputs": [],
   "source": [
    "objects = spark.read.format(\"avro\").table('team13_projectdb.objects_part')\n",
    "\n",
    "fund_rounds = spark.read.format(\"avro\").table('team13_projectdb.funding_rounds_part')"
   ]
  },
  {
   "cell_type": "markdown",
   "id": "69a6c089-c75c-4974-a9a0-2466227583a9",
   "metadata": {
    "tags": []
   },
   "source": [
    "## ML Modeling"
   ]
  },
  {
   "cell_type": "markdown",
   "id": "51a04a0a-9d25-4655-9538-e7a2abd02fac",
   "metadata": {
    "tags": []
   },
   "source": [
    "### Preprocessing the data"
   ]
  },
  {
   "cell_type": "markdown",
   "id": "ba7659be-c6f9-47f1-a43f-9b9b75ee93f4",
   "metadata": {},
   "source": [
    "#### Feature selection\n"
   ]
  },
  {
   "cell_type": "code",
   "execution_count": 7,
   "id": "100093a7-e039-412d-a123-217c8995e169",
   "metadata": {},
   "outputs": [],
   "source": [
    "# Select features and the label\n",
    "obj_features = ['id', 'status', 'category_code', 'country_code', 'investment_rounds', 'invested_companies', 'milestones', 'relationships']\n",
    "\n",
    "fund_features = ['object_id', 'funded_at', 'funding_round_type', 'participants', 'is_first_round', 'is_last_round']\n",
    "label = 'raised_amount_usd'"
   ]
  },
  {
   "cell_type": "code",
   "execution_count": 8,
   "id": "d2e09cf2-a117-4667-92a8-87df44f6b810",
   "metadata": {},
   "outputs": [],
   "source": [
    "objects = objects.select(obj_features)\n",
    "fund_rounds = fund_rounds.select(fund_features + [label])"
   ]
  },
  {
   "cell_type": "code",
   "execution_count": 9,
   "id": "d62b31f1-160e-4aa3-8a54-ee7ccac7fb51",
   "metadata": {},
   "outputs": [],
   "source": [
    "# Join tables to form one Dataframe for the ML task\n",
    "final = objects.join(fund_rounds, objects['id'] == fund_rounds['object_id'], how='right').drop('id').drop('object_id')"
   ]
  },
  {
   "cell_type": "code",
   "execution_count": 10,
   "id": "13da2f46-26a7-4048-adc6-3ba5d9ba8b13",
   "metadata": {},
   "outputs": [
    {
     "name": "stdout",
     "output_type": "stream",
     "text": [
      "+---------+----------------+------------+-----------------+------------------+----------+-------------+----------+------------------+------------+--------------+-------------+-----------------+\n",
      "|status   |category_code   |country_code|investment_rounds|invested_companies|milestones|relationships|funded_at |funding_round_type|participants|is_first_round|is_last_round|raised_amount_usd|\n",
      "+---------+----------------+------------+-----------------+------------------+----------+-------------+----------+------------------+------------+--------------+-------------+-----------------+\n",
      "|operating|enterprise      |USA         |0                |0                 |3         |16           |2010-09-24|series-a          |2           |1             |0            |5600000.00       |\n",
      "|closed   |web             |null        |0                |0                 |0         |2            |2008-01-01|angel             |0           |1             |1            |100000.00        |\n",
      "|operating|other           |USA         |0                |0                 |0         |1            |2009-07-27|series-c+         |6           |0             |0            |12200000.00      |\n",
      "|acquired |public_relations|USA         |0                |0                 |3         |37           |2005-07-01|series-b          |2           |0             |0            |8000000.00       |\n",
      "|acquired |mobile          |USA         |0                |0                 |2         |6            |2011-03-14|angel             |5           |1             |1            |500000.00        |\n",
      "|operating|software        |USA         |0                |0                 |1         |2            |2011-08-01|other             |1           |0             |1            |50000.00         |\n",
      "|operating|web             |USA         |0                |0                 |3         |17           |2008-01-01|series-a          |3           |0             |1            |580000.00        |\n",
      "|operating|news            |USA         |0                |0                 |1         |2            |2012-01-06|angel             |0           |1             |1            |50000.00         |\n",
      "|operating|enterprise      |USA         |0                |0                 |0         |2            |2012-06-04|angel             |1           |1             |1            |25000.00         |\n",
      "|acquired |games_video     |USA         |0                |0                 |5         |21           |2002-01-01|angel             |4           |0             |1            |700000.00        |\n",
      "|operating|software        |USA         |0                |0                 |1         |5            |2011-04-18|other             |0           |0             |1            |70000.00         |\n",
      "|acquired |games_video     |null        |0                |0                 |3         |5            |2009-11-10|series-a          |0           |1             |1            |2100000.00       |\n",
      "|acquired |cleantech       |USA         |0                |0                 |2         |10           |2008-05-23|series-b          |6           |0             |1            |131000000.00     |\n",
      "|acquired |cleantech       |USA         |0                |0                 |2         |10           |2008-05-25|other             |6           |0             |0            |30000000.00      |\n",
      "|operating|health          |USA         |0                |0                 |0         |0            |2013-07-25|venture           |0           |1             |1            |3000000.00       |\n",
      "|operating|web             |GBR         |0                |0                 |0         |0            |2013-07-30|other             |0           |1             |1            |0.00             |\n",
      "|acquired |mobile          |USA         |0                |0                 |3         |9            |2003-03-01|series-c+         |1           |0             |0            |15500000.00      |\n",
      "|acquired |mobile          |USA         |0                |0                 |3         |9            |2002-05-01|series-b          |1           |0             |0            |5000000.00       |\n",
      "|acquired |mobile          |USA         |0                |0                 |3         |9            |2000-05-01|series-a          |1           |0             |1            |7700000.00       |\n",
      "|operating|software        |USA         |0                |0                 |2         |15           |2006-10-23|series-a          |5           |0             |1            |3850000.00       |\n",
      "+---------+----------------+------------+-----------------+------------------+----------+-------------+----------+------------------+------------+--------------+-------------+-----------------+\n",
      "only showing top 20 rows\n",
      "\n"
     ]
    }
   ],
   "source": [
    "final.show(truncate=False)"
   ]
  },
  {
   "cell_type": "code",
   "execution_count": 11,
   "id": "dcea836e-e374-41ab-bf3c-c7da9a804065",
   "metadata": {},
   "outputs": [],
   "source": [
    "leisure = ['games_video', 'photo_video', 'social', 'hospitality', 'sports', 'fashion', 'messaging', 'music']\n",
    "bizsupport = ['network_hosting', 'advertising', 'enterprise', 'consulting', 'analytics', 'public_relations', 'security', 'legal']\n",
    "building = ['cleantech', 'manufacturing', 'semiconductor', 'automotive', 'real_eastate', 'nanotech']\n",
    "petcare = ['pets']\n",
    "travel = ['travel', 'transportation']\n",
    "health = ['health', 'medical', 'biotech']\n",
    "other = ['web', 'other', 'mobile', 'software', 'finance', 'education', 'ecommerce', 'search', 'hardware', 'news', 'government', 'nonprofit', 'local']\n",
    "\n",
    "@udf(returnType=StringType())\n",
    "def map_category_code(category_code):\n",
    "    if category_code in leisure:\n",
    "        return 'leisure'\n",
    "    elif category_code in bizsupport:\n",
    "        return 'bizsupport'\n",
    "    elif category_code in building:\n",
    "        return 'building'\n",
    "    elif category_code in petcare:\n",
    "        return 'petcare'\n",
    "    elif category_code in travel:\n",
    "        return 'travel'\n",
    "    elif category_code in health:\n",
    "        return 'health'\n",
    "    else:\n",
    "        return 'other'\n",
    "\n",
    "final = final.withColumn('category_code', map_category_code(final['category_code']))"
   ]
  },
  {
   "cell_type": "code",
   "execution_count": 12,
   "id": "32b75737-5b5c-4758-be86-0d5154c2ad99",
   "metadata": {},
   "outputs": [],
   "source": [
    "Africa = ['AGO', 'BDI', 'BEN', 'BWA', 'CIV', 'CMR', 'DZA', 'EGY', 'ETH', 'GHA', 'GIN', 'KEN', 'LSO', 'MAR', 'MDG', 'MUS', 'NAM', 'NER','NGA', 'REU','RWA', 'SDN','SEN', 'SLE', 'SOM','SWZ', 'SYC', 'TUN', 'TZA', 'UGA', 'ZAF', 'ZMB', 'ZWE']\n",
    "Asia = ['AFG', 'ARE', 'BGD', 'BHR', 'BRN', 'CHN', 'HKG', 'IDN', 'IND', 'IOT', 'IRN', 'IRQ', 'ISR','JOR', 'JPN', 'KAZ', 'KGZ', 'KHM', 'KOR', 'KWT','LAO', 'LBN', 'LKA', 'MAC', 'MDV', 'MMR', 'MYS', 'NPL', 'OMN', 'PAK', 'PCN','PHL','PRK','PST', 'QAT', 'SAU', 'SGP','SYR', 'THA', 'TJK', 'TWN', 'UZB', 'VNM', 'YEM']\n",
    "Europe = ['AIA', 'ALB', 'AND', 'ARM', 'AUT', 'AZE', 'BEL', 'BGR','BIH', 'BLR', 'CHE', 'CYP', 'CZE', 'DEU', 'DNK','ESP', 'EST', 'FIN', 'FRA', 'GBR', 'GEO', 'GIB', 'GLB', 'GRC', 'HRV', 'HUN', 'IRL', 'ISL', 'ITA', 'LIE', 'LTU','LUX', 'LVA', 'MCO', 'MDA', 'MKD', 'MLT', 'NLD', 'NOR', 'POL', 'PRT', 'ROM', 'RUS', 'SMR', 'SVK', 'SVN','SWE', 'TUR', 'UKR']\n",
    "North_America = ['ATG', 'BHS','BLZ', 'BMU', 'BRB', 'CAN', 'CRI','CUB','CYM', 'DMA', 'GRD', 'GTM', 'HND', 'HTI', 'JAM', 'MEX', 'MTQ', 'PAN', 'PRI', 'SLV', 'UMI','USA', 'VGB', 'VIR']\n",
    "South_America = ['ARG', 'BOL', 'BRA', 'CHL', 'COL', 'DOM', 'ECU', 'NIC', 'PER', 'PRY', 'SUR', 'TTO', 'URY','VEN', 'VCT']\n",
    "Other = ['ANT', 'ARA', 'AUS', 'CSS', 'FST', 'HMI','NCL', 'NFK','NRU', 'NZL']\n",
    "\n",
    "@udf(returnType=StringType())\n",
    "def map_country(country_code):\n",
    "    if country_code in Africa:\n",
    "        return 'Africa'\n",
    "    elif country_code in Asia:\n",
    "        return 'Asia'\n",
    "    elif country_code in Europe:\n",
    "        return 'Europe'\n",
    "    elif country_code in North_America:\n",
    "        return 'North_America'\n",
    "    elif country_code in South_America:\n",
    "        return 'South_America'\n",
    "    else:\n",
    "        return 'Other'\n",
    "    \n",
    "    \n",
    "final = final.withColumn('country_code', map_country(final['country_code']))"
   ]
  },
  {
   "cell_type": "code",
   "execution_count": 13,
   "id": "173d8a11-c009-4a18-a63f-00ca03731772",
   "metadata": {},
   "outputs": [],
   "source": [
    "# Split funded_at with datetime to year, month and day\n",
    "split_col = F.split(F.to_date(\"funded_at\"), \"-\")\n",
    "final = final.withColumn(\"funded_year\", split_col.getItem(0).cast(IntegerType())) \\\n",
    "            .withColumn(\"funded_month\", split_col.getItem(1).cast(IntegerType())) \\\n",
    "            .withColumn(\"funded_day\", split_col.getItem(2).cast(IntegerType()))\n",
    "# Remove funded_at\n",
    "final = final.drop(\"funded_at\")\n",
    "\n",
    "# Drop all records which contain nulls\n",
    "final = final.na.drop()\n",
    "\n",
    "# Remove 0 values in raised_amount_usd (label) \n",
    "final = final.filter(\"raised_amount_usd > 0\")\n",
    "\n",
    "# Transform raised_amount_usd (label) \n",
    "final = final.withColumn(\"raised_amount_usd\", F.log10(col(\"raised_amount_usd\")))\n",
    "\n",
    "# Rename label\n",
    "final = final.withColumnRenamed(\"raised_amount_usd\", \"label\")\n",
    "\n",
    "# Saving intermediate results\n",
    "final = final.cache()"
   ]
  },
  {
   "cell_type": "code",
   "execution_count": 14,
   "id": "04711d8f-c32b-4b76-9f65-79205da45baf",
   "metadata": {},
   "outputs": [
    {
     "name": "stdout",
     "output_type": "stream",
     "text": [
      "Size of the DataFrame: 46460 rows, 15 columns\n"
     ]
    }
   ],
   "source": [
    "print(\"Size of the DataFrame: {} rows, {} columns\".format(final.count(), len(final.columns)))"
   ]
  },
  {
   "cell_type": "code",
   "execution_count": 15,
   "id": "5c5b678f-0c4e-4056-ab99-8682147ef676",
   "metadata": {},
   "outputs": [
    {
     "name": "stdout",
     "output_type": "stream",
     "text": [
      "root\n",
      " |-- status: string (nullable = true)\n",
      " |-- category_code: string (nullable = true)\n",
      " |-- country_code: string (nullable = true)\n",
      " |-- investment_rounds: integer (nullable = true)\n",
      " |-- invested_companies: integer (nullable = true)\n",
      " |-- milestones: integer (nullable = true)\n",
      " |-- relationships: integer (nullable = true)\n",
      " |-- funding_round_type: string (nullable = true)\n",
      " |-- participants: integer (nullable = true)\n",
      " |-- is_first_round: integer (nullable = true)\n",
      " |-- is_last_round: integer (nullable = true)\n",
      " |-- label: double (nullable = true)\n",
      " |-- funded_year: integer (nullable = true)\n",
      " |-- funded_month: integer (nullable = true)\n",
      " |-- funded_day: integer (nullable = true)\n",
      "\n"
     ]
    }
   ],
   "source": [
    "final.printSchema()"
   ]
  },
  {
   "cell_type": "code",
   "execution_count": 16,
   "id": "ee78b23a-4cfe-4db6-b026-0de99b4a63b4",
   "metadata": {},
   "outputs": [
    {
     "name": "stdout",
     "output_type": "stream",
     "text": [
      "+---------+-------------+-------------+-----------------+------------------+----------+-------------+------------------+------------+--------------+-------------+------------------+-----------+------------+----------+\n",
      "|status   |category_code|country_code |investment_rounds|invested_companies|milestones|relationships|funding_round_type|participants|is_first_round|is_last_round|label             |funded_year|funded_month|funded_day|\n",
      "+---------+-------------+-------------+-----------------+------------------+----------+-------------+------------------+------------+--------------+-------------+------------------+-----------+------------+----------+\n",
      "|closed   |other        |North_America|0                |0                 |3         |4            |series-a          |0           |1             |0            |6.361727836017593 |2011       |4           |25        |\n",
      "|operating|health       |North_America|0                |0                 |0         |0            |series-a          |1           |1             |1            |6.845098040014257 |2011       |9           |22        |\n",
      "|operating|other        |North_America|0                |0                 |2         |14           |series-a          |0           |0             |1            |5.954242509439325 |2008       |5           |31        |\n",
      "|operating|other        |North_America|0                |0                 |2         |14           |series-b          |1           |0             |0            |6.301029995663981 |2009       |9           |1         |\n",
      "|operating|other        |North_America|0                |0                 |2         |14           |series-c+         |0           |1             |0            |6.477121254719663 |2012       |9           |12        |\n",
      "|operating|other        |North_America|0                |0                 |0         |6            |series-b          |2           |0             |1            |6.544068044350276 |2005       |1           |16        |\n",
      "|operating|other        |North_America|0                |0                 |0         |6            |series-a          |0           |0             |0            |6.477121254719663 |2008       |1           |1         |\n",
      "|operating|other        |North_America|0                |0                 |0         |6            |series-b          |3           |0             |0            |6.903089986991944 |2008       |11          |11        |\n",
      "|operating|other        |North_America|0                |0                 |0         |6            |venture           |4           |1             |0            |6.903089986991944 |2011       |9           |20        |\n",
      "|operating|other        |North_America|0                |0                 |2         |13           |series-a          |1           |1             |0            |6.3226513062053655|2013       |7           |15        |\n",
      "|operating|other        |North_America|0                |0                 |2         |13           |angel             |0           |0             |1            |5.0               |2012       |11          |30        |\n",
      "|closed   |bizsupport   |Europe       |0                |0                 |0         |2            |angel             |0           |1             |1            |5.021189299069938 |2006       |9           |1         |\n",
      "|operating|health       |North_America|0                |0                 |0         |2            |series-a          |3           |1             |1            |7.176091259055681 |2011       |11          |16        |\n",
      "|closed   |health       |North_America|0                |0                 |0         |0            |series-b          |0           |1             |0            |6.929418925714293 |2012       |1           |5         |\n",
      "|closed   |health       |North_America|0                |0                 |0         |0            |series-b          |0           |0             |1            |7.176091259055681 |2008       |5           |30        |\n",
      "|operating|health       |Other        |0                |0                 |0         |0            |angel             |1           |0             |0            |6.0               |2012       |2           |2         |\n",
      "|operating|health       |Other        |0                |0                 |0         |0            |venture           |2           |1             |0            |5.8750612633917   |2012       |10          |11        |\n",
      "|operating|health       |Other        |0                |0                 |0         |0            |venture           |0           |0             |1            |5.999999565705301 |2012       |1           |26        |\n",
      "|operating|leisure      |Europe       |0                |0                 |3         |5            |angel             |0           |1             |0            |5.477121254719663 |2013       |4           |1         |\n",
      "|operating|leisure      |Europe       |0                |0                 |3         |5            |angel             |0           |0             |1            |5.477121254719663 |2011       |6           |22        |\n",
      "+---------+-------------+-------------+-----------------+------------------+----------+-------------+------------------+------------+--------------+-------------+------------------+-----------+------------+----------+\n",
      "only showing top 20 rows\n",
      "\n"
     ]
    }
   ],
   "source": [
    "final.show(truncate=False)"
   ]
  },
  {
   "cell_type": "markdown",
   "id": "201afa64-ca41-43ee-a8fd-afd3d1225c5e",
   "metadata": {},
   "source": [
    "#### Building the Pipeline"
   ]
  },
  {
   "cell_type": "code",
   "execution_count": 17,
   "id": "b040e880-03e7-44a3-ab80-02662b66509d",
   "metadata": {},
   "outputs": [],
   "source": [
    "# Extract categorical, numerical and cyclical features\n",
    "categorical_cols = ['status', 'funding_round_type', 'category_code', 'country_code']\n",
    "\n",
    "numerical_cols = ['investment_rounds', 'invested_companies', 'milestones', 'relationships', 'funded_year', 'participants', 'is_first_round', 'is_last_round']\n",
    "\n",
    "cyclical_cols = ['funded_month', 'funded_day']\n",
    "periods = [12, 31]  # periods for months and days accordingly"
   ]
  },
  {
   "cell_type": "code",
   "execution_count": 18,
   "id": "87304e13-0cf5-42b6-8cd5-692542aea18a",
   "metadata": {},
   "outputs": [],
   "source": [
    "# Build a custom tranformer to encode cyclical features\n",
    "class CyclicTransformer(Transformer, HasInputCol, HasOutputCol, DefaultParamsReadable, DefaultParamsWritable):\n",
    "    inputCol = Param(Params._dummy(), \"inputCol\", \"input column name.\", typeConverter=TypeConverters.toString)\n",
    "    outputCol = Param(Params._dummy(), \"outputCol\", \"output column name.\", typeConverter=TypeConverters.toString)\n",
    "  \n",
    "    @keyword_only\n",
    "    def __init__(self, inputCol: str = \"input\", outputCol: str = \"output\", period: int = 12):\n",
    "        super(CyclicTransformer, self).__init__()\n",
    "        self._setDefault(inputCol=None, outputCol=None)\n",
    "        kwargs = self._input_kwargs\n",
    "        del(kwargs[\"period\"])\n",
    "        self.set_params(**kwargs)\n",
    "        self.period = period\n",
    "    \n",
    "    @keyword_only\n",
    "    def set_params(self, inputCol: str = \"input\", outputCol: str = \"output\"):\n",
    "        kwargs = self._input_kwargs\n",
    "        self._set(**kwargs)\n",
    "    \n",
    "    def getInputCol(self):\n",
    "        return self.getOrDefault(self.inputCol)\n",
    "  \n",
    "    def getOutputCol(self):\n",
    "        return self.getOrDefault(self.outputCol)\n",
    "  \n",
    "    def _transform(self, df: DataFrame):\n",
    "        input_col = self.getInputCol()\n",
    "        output_col = self.getOutputCol()\n",
    "        \n",
    "        sin_col = sin(2 * math.pi * df[input_col] / self.period) \n",
    "        cos_col = cos(2 * math.pi * df[input_col] / self.period)\n",
    "       \n",
    "        return df.withColumn(output_col + \"_sin\", sin_col).withColumn(output_col + \"_cos\", cos_col)"
   ]
  },
  {
   "cell_type": "code",
   "execution_count": 19,
   "id": "2bdc866e-010f-423c-94af-c9a8c318da15",
   "metadata": {},
   "outputs": [
    {
     "name": "stdout",
     "output_type": "stream",
     "text": [
      "+---------+-------------+-------------+-----------------+------------------+----------+-------------+------------------+------------+--------------+-------------+------------------+-----------+------------+----------+--------------+--------------------------+---------------------+--------------------+----------------------+----------------------------------+-----------------------------+----------------------------+------------------------+------------------------+----------------------+----------------------+--------------------+\n",
      "|   status|category_code| country_code|investment_rounds|invested_companies|milestones|relationships|funding_round_type|participants|is_first_round|is_last_round|             label|funded_year|funded_month|funded_day|status_indexed|funding_round_type_indexed|category_code_indexed|country_code_indexed|status_indexed_encoded|funding_round_type_indexed_encoded|category_code_indexed_encoded|country_code_indexed_encoded|funded_month_cyc_enc_sin|funded_month_cyc_enc_cos|funded_day_cyc_enc_sin|funded_day_cyc_enc_cos|            features|\n",
      "+---------+-------------+-------------+-----------------+------------------+----------+-------------+------------------+------------+--------------+-------------+------------------+-----------+------------+----------+--------------+--------------------------+---------------------+--------------------+----------------------+----------------------------------+-----------------------------+----------------------------+------------------------+------------------------+----------------------+----------------------+--------------------+\n",
      "|   closed|        other|North_America|                0|                 0|         3|            4|          series-a|           0|             1|            0| 6.361727836017593|       2011|           4|        25|           2.0|                       2.0|                  0.0|                 0.0|         (3,[2],[1.0])|                     (8,[2],[1.0])|                (6,[0],[1.0])|               (5,[0],[1.0])|      0.8660254037844387|     -0.4999999999999998|   -0.9377521321470804|    0.3473052528448203|(34,[2,5,11,17,22...|\n",
      "|operating|       health|North_America|                0|                 0|         0|            0|          series-a|           1|             1|            1| 6.845098040014257|       2011|           9|        22|           0.0|                       2.0|                  2.0|                 0.0|         (3,[0],[1.0])|                     (8,[2],[1.0])|                (6,[2],[1.0])|               (5,[0],[1.0])|                    -1.0|    -1.83697019872102...|   -0.9680771188662041|   -0.2506525322587213|(34,[0,5,13,17,22...|\n",
      "|operating|        other|North_America|                0|                 0|         2|           14|          series-a|           0|             0|            1| 5.954242509439325|       2008|           5|        31|           0.0|                       2.0|                  0.0|                 0.0|         (3,[0],[1.0])|                     (8,[2],[1.0])|                (6,[0],[1.0])|               (5,[0],[1.0])|     0.49999999999999994|     -0.8660254037844387|  -2.44929359829470...|                   1.0|(34,[0,5,11,17,22...|\n",
      "|operating|        other|North_America|                0|                 0|         2|           14|          series-b|           1|             0|            0| 6.301029995663981|       2009|           9|         1|           0.0|                       3.0|                  0.0|                 0.0|         (3,[0],[1.0])|                     (8,[3],[1.0])|                (6,[0],[1.0])|               (5,[0],[1.0])|                    -1.0|    -1.83697019872102...|   0.20129852008866006|    0.9795299412524945|(34,[0,6,11,17,22...|\n",
      "|operating|        other|North_America|                0|                 0|         2|           14|         series-c+|           0|             1|            0| 6.477121254719663|       2012|           9|        12|           0.0|                       4.0|                  0.0|                 0.0|         (3,[0],[1.0])|                     (8,[4],[1.0])|                (6,[0],[1.0])|               (5,[0],[1.0])|                    -1.0|    -1.83697019872102...|    0.6513724827222223|   -0.7587581226927909|(34,[0,7,11,17,22...|\n",
      "|operating|        other|North_America|                0|                 0|         0|            6|          series-b|           2|             0|            1| 6.544068044350276|       2005|           1|        16|           0.0|                       3.0|                  0.0|                 0.0|         (3,[0],[1.0])|                     (8,[3],[1.0])|                (6,[0],[1.0])|               (5,[0],[1.0])|     0.49999999999999994|      0.8660254037844387|  -0.10116832198743204|   -0.9948693233918952|(34,[0,6,11,17,22...|\n",
      "|operating|        other|North_America|                0|                 0|         0|            6|          series-a|           0|             0|            0| 6.477121254719663|       2008|           1|         1|           0.0|                       2.0|                  0.0|                 0.0|         (3,[0],[1.0])|                     (8,[2],[1.0])|                (6,[0],[1.0])|               (5,[0],[1.0])|     0.49999999999999994|      0.8660254037844387|   0.20129852008866006|    0.9795299412524945|(34,[0,5,11,17,22...|\n",
      "|operating|        other|North_America|                0|                 0|         0|            6|          series-b|           3|             0|            0| 6.903089986991944|       2008|          11|        11|           0.0|                       3.0|                  0.0|                 0.0|         (3,[0],[1.0])|                     (8,[3],[1.0])|                (6,[0],[1.0])|               (5,[0],[1.0])|     -0.5000000000000004|      0.8660254037844384|    0.7907757369376989|   -0.6121059825476626|(34,[0,6,11,17,22...|\n",
      "|operating|        other|North_America|                0|                 0|         0|            6|           venture|           4|             1|            0| 6.903089986991944|       2011|           9|        20|           0.0|                       0.0|                  0.0|                 0.0|         (3,[0],[1.0])|                     (8,[0],[1.0])|                (6,[0],[1.0])|               (5,[0],[1.0])|                    -1.0|    -1.83697019872102...|   -0.7907757369376986|   -0.6121059825476627|(34,[0,3,11,17,22...|\n",
      "|operating|        other|North_America|                0|                 0|         2|           13|          series-a|           1|             1|            0|6.3226513062053655|       2013|           7|        15|           0.0|                       2.0|                  0.0|                 0.0|         (3,[0],[1.0])|                     (8,[2],[1.0])|                (6,[0],[1.0])|               (5,[0],[1.0])|     -0.4999999999999997|     -0.8660254037844388|   0.10116832198743272|    -0.994869323391895|(34,[0,5,11,17,22...|\n",
      "|operating|        other|North_America|                0|                 0|         2|           13|             angel|           0|             0|            1|               5.0|       2012|          11|        30|           0.0|                       1.0|                  0.0|                 0.0|         (3,[0],[1.0])|                     (8,[1],[1.0])|                (6,[0],[1.0])|               (5,[0],[1.0])|     -0.5000000000000004|      0.8660254037844384|  -0.20129852008866114|    0.9795299412524943|(34,[0,4,11,17,22...|\n",
      "|   closed|   bizsupport|       Europe|                0|                 0|         0|            2|             angel|           0|             1|            1| 5.021189299069938|       2006|           9|         1|           2.0|                       1.0|                  1.0|                 1.0|         (3,[2],[1.0])|                     (8,[1],[1.0])|                (6,[1],[1.0])|               (5,[1],[1.0])|                    -1.0|    -1.83697019872102...|   0.20129852008866006|    0.9795299412524945|(34,[2,4,12,18,22...|\n",
      "|operating|       health|North_America|                0|                 0|         0|            2|          series-a|           3|             1|            1| 7.176091259055681|       2011|          11|        16|           0.0|                       2.0|                  2.0|                 0.0|         (3,[0],[1.0])|                     (8,[2],[1.0])|                (6,[2],[1.0])|               (5,[0],[1.0])|     -0.5000000000000004|      0.8660254037844384|  -0.10116832198743204|   -0.9948693233918952|(34,[0,5,13,17,22...|\n",
      "|   closed|       health|North_America|                0|                 0|         0|            0|          series-b|           0|             1|            0| 6.929418925714293|       2012|           1|         5|           2.0|                       3.0|                  2.0|                 0.0|         (3,[2],[1.0])|                     (8,[3],[1.0])|                (6,[2],[1.0])|               (5,[0],[1.0])|     0.49999999999999994|      0.8660254037844387|    0.8486442574947509|    0.5289640103269624|(34,[2,6,13,17,22...|\n",
      "|   closed|       health|North_America|                0|                 0|         0|            0|          series-b|           0|             0|            1| 7.176091259055681|       2008|           5|        30|           2.0|                       3.0|                  2.0|                 0.0|         (3,[2],[1.0])|                     (8,[3],[1.0])|                (6,[2],[1.0])|               (5,[0],[1.0])|     0.49999999999999994|     -0.8660254037844387|  -0.20129852008866114|    0.9795299412524943|(34,[2,6,13,17,22...|\n",
      "|operating|       health|        Other|                0|                 0|         0|            0|             angel|           1|             0|            0|               6.0|       2012|           2|         2|           0.0|                       1.0|                  2.0|                 3.0|         (3,[0],[1.0])|                     (8,[1],[1.0])|                (6,[2],[1.0])|               (5,[3],[1.0])|      0.8660254037844386|      0.5000000000000001|   0.39435585511331855|    0.9189578116202306|(34,[0,4,13,20,22...|\n",
      "|operating|       health|        Other|                0|                 0|         0|            0|           venture|           2|             1|            0|   5.8750612633917|       2012|          10|        11|           0.0|                       0.0|                  2.0|                 3.0|         (3,[0],[1.0])|                     (8,[0],[1.0])|                (6,[2],[1.0])|               (5,[3],[1.0])|     -0.8660254037844386|      0.5000000000000001|    0.7907757369376989|   -0.6121059825476626|(34,[0,3,13,20,22...|\n",
      "|operating|       health|        Other|                0|                 0|         0|            0|           venture|           0|             0|            1| 5.999999565705301|       2012|           1|        26|           0.0|                       0.0|                  2.0|                 3.0|         (3,[0],[1.0])|                     (8,[0],[1.0])|                (6,[2],[1.0])|               (5,[3],[1.0])|     0.49999999999999994|      0.8660254037844387|    -0.848644257494751|    0.5289640103269624|(34,[0,3,13,20,22...|\n",
      "|operating|      leisure|       Europe|                0|                 0|         3|            5|             angel|           0|             1|            0| 5.477121254719663|       2013|           4|         1|           0.0|                       1.0|                  3.0|                 1.0|         (3,[0],[1.0])|                     (8,[1],[1.0])|                (6,[3],[1.0])|               (5,[1],[1.0])|      0.8660254037844387|     -0.4999999999999998|   0.20129852008866006|    0.9795299412524945|(34,[0,4,14,18,22...|\n",
      "|operating|      leisure|       Europe|                0|                 0|         3|            5|             angel|           0|             0|            1| 5.477121254719663|       2011|           6|        22|           0.0|                       1.0|                  3.0|                 1.0|         (3,[0],[1.0])|                     (8,[1],[1.0])|                (6,[3],[1.0])|               (5,[1],[1.0])|    1.224646799147353...|                    -1.0|   -0.9680771188662041|   -0.2506525322587213|(34,[0,4,14,18,22...|\n",
      "+---------+-------------+-------------+-----------------+------------------+----------+-------------+------------------+------------+--------------+-------------+------------------+-----------+------------+----------+--------------+--------------------------+---------------------+--------------------+----------------------+----------------------------------+-----------------------------+----------------------------+------------------------+------------------------+----------------------+----------------------+--------------------+\n",
      "only showing top 20 rows\n",
      "\n"
     ]
    }
   ],
   "source": [
    "# Create String indexer to assign index for the string fields where each unique string will get a unique index\n",
    "indexers = [StringIndexer(inputCol=c, \n",
    "                           outputCol=\"{0}_indexed\".format(c)).setHandleInvalid(\"skip\") for c in categorical_cols]\n",
    "\n",
    "# Encode strings using One Hot encoding\n",
    "encoders = [OneHotEncoder(inputCol=indexer.getOutputCol(), \n",
    "                           outputCol=\"{0}_encoded\".format(indexer.getOutputCol())) for indexer in indexers]\n",
    "\n",
    "# Encode cyclical features using custom Cyclic Transformer\n",
    "cyclic_transformers = [CyclicTransformer(inputCol=col, \n",
    "                                         outputCol=col + \"_cyc_enc\", \n",
    "                                         period=period) for col, period in zip(cyclical_cols, periods)]\n",
    "\n",
    "# This will concatenate the input cols into a single column\n",
    "assembler = VectorAssembler(inputCols=[encoder.getOutputCol() for encoder in encoders] + \n",
    "                            [transformer.getOutputCol() + '_sin' for transformer in cyclic_transformers] + \n",
    "                            [transformer.getOutputCol() + '_cos' for transformer in cyclic_transformers] + \n",
    "                            numerical_cols, \n",
    "                            outputCol= \"features\")\n",
    "\n",
    "# Create a pipeline to use only a single fit and transform on the data\n",
    "pipeline = Pipeline(stages=indexers + encoders + cyclic_transformers + [assembler])\n",
    "\n",
    "# Fit the pipeline ==> This will call the fit functions for all transformers if exist\n",
    "model = pipeline.fit(final)\n",
    "\n",
    "# Fit the pipeline ==> This will call the transform functions for all transformers\n",
    "data = model.transform(final)\n",
    "\n",
    "data.show()"
   ]
  },
  {
   "cell_type": "code",
   "execution_count": 20,
   "id": "09c32620-1fe3-4f38-a961-9cbd8eafbf3d",
   "metadata": {},
   "outputs": [
    {
     "name": "stdout",
     "output_type": "stream",
     "text": [
      "+--------------------+------------------+\n",
      "|            features|             label|\n",
      "+--------------------+------------------+\n",
      "|(34,[2,5,11,17,22...| 6.361727836017593|\n",
      "|(34,[0,5,13,17,22...| 6.845098040014257|\n",
      "|(34,[0,5,11,17,22...| 5.954242509439325|\n",
      "|(34,[0,6,11,17,22...| 6.301029995663981|\n",
      "|(34,[0,7,11,17,22...| 6.477121254719663|\n",
      "|(34,[0,6,11,17,22...| 6.544068044350276|\n",
      "|(34,[0,5,11,17,22...| 6.477121254719663|\n",
      "|(34,[0,6,11,17,22...| 6.903089986991944|\n",
      "|(34,[0,3,11,17,22...| 6.903089986991944|\n",
      "|(34,[0,5,11,17,22...|6.3226513062053655|\n",
      "|(34,[0,4,11,17,22...|               5.0|\n",
      "|(34,[2,4,12,18,22...| 5.021189299069938|\n",
      "|(34,[0,5,13,17,22...| 7.176091259055681|\n",
      "|(34,[2,6,13,17,22...| 6.929418925714293|\n",
      "|(34,[2,6,13,17,22...| 7.176091259055681|\n",
      "|(34,[0,4,13,20,22...|               6.0|\n",
      "|(34,[0,3,13,20,22...|   5.8750612633917|\n",
      "|(34,[0,3,13,20,22...| 5.999999565705301|\n",
      "|(34,[0,4,14,18,22...| 5.477121254719663|\n",
      "|(34,[0,4,14,18,22...| 5.477121254719663|\n",
      "+--------------------+------------------+\n",
      "only showing top 20 rows\n",
      "\n"
     ]
    }
   ],
   "source": [
    "# Delete all features and keep only the features and label columns\n",
    "data = data.select([\"features\", \"label\"])\n",
    "\n",
    "data.show()"
   ]
  },
  {
   "cell_type": "markdown",
   "id": "018fd1cf-ec02-45ce-833e-c942fdc9c7a8",
   "metadata": {},
   "source": [
    "#### Split the dataset"
   ]
  },
  {
   "cell_type": "code",
   "execution_count": 21,
   "id": "6a51cca6-484d-468c-9fef-19b8d1265678",
   "metadata": {},
   "outputs": [],
   "source": [
    "# Split the data into 70% training and 30% test (it is not stratified)\n",
    "(train_data, test_data) = data.randomSplit([0.7, 0.3], seed=10)"
   ]
  },
  {
   "cell_type": "code",
   "execution_count": 22,
   "id": "ac90ec5b-38ca-435d-8bea-d776752f1cee",
   "metadata": {},
   "outputs": [
    {
     "name": "stdout",
     "output_type": "stream",
     "text": [
      "Size of training data: (32396, 2)\n",
      "Size of test data: (14064, 2)\n"
     ]
    }
   ],
   "source": [
    "print(\"Size of training data: ({}, {})\".format(train_data.count(), len(train_data.columns)))\n",
    "print(\"Size of test data: ({}, {})\".format(test_data.count(), len(test_data.columns)))"
   ]
  },
  {
   "cell_type": "code",
   "execution_count": 23,
   "id": "df8e3591-d100-4818-b3c1-2fd0f99ddbe0",
   "metadata": {},
   "outputs": [
    {
     "name": "stdout",
     "output_type": "stream",
     "text": [
      "Split ratio: 0.7, 0.3\n"
     ]
    }
   ],
   "source": [
    "# Check the train test split ratio\n",
    "print(\"Split ratio: {}, {}\".format(round(train_data.count() / data.count(), 2), round(test_data.count() / data.count(), 2)))"
   ]
  },
  {
   "cell_type": "code",
   "execution_count": 24,
   "id": "ee1fcb42-ad3e-4edd-b2e4-62af53c21c7a",
   "metadata": {},
   "outputs": [],
   "source": [
    "# # A function to run commands\n",
    "# def run(command):\n",
    "#     return os.popen(command).read()\n",
    "\n",
    "# train_data.select(\"features\", \"label\")\\\n",
    "#     .coalesce(1)\\\n",
    "#     .write\\\n",
    "#     .mode(\"overwrite\")\\\n",
    "#     .format(\"json\")\\\n",
    "#     .save(\"project/data/train\")\n",
    "\n",
    "# # Run it from root directory of the repository\n",
    "# run(\"hdfs dfs -cat project/data/train/*.json > data/train.json\")\n",
    "\n",
    "# test_data.select(\"features\", \"label\")\\\n",
    "#     .coalesce(1)\\\n",
    "#     .write\\\n",
    "#     .mode(\"overwrite\")\\\n",
    "#     .format(\"json\")\\\n",
    "#     .save(\"project/data/test\")\n",
    "\n",
    "# # Run it from root directory of the repository\n",
    "# run(\"hdfs dfs -cat project/data/test/*.json > data/test.json\")"
   ]
  },
  {
   "cell_type": "markdown",
   "id": "cb2e08cf-dc38-47ef-ba12-95ac750977bb",
   "metadata": {},
   "source": [
    "###  Modeling: First model\n",
    "\n",
    "First model is Linear Regression"
   ]
  },
  {
   "cell_type": "markdown",
   "id": "77822e83-d529-4dbe-a6d5-d94cf0387325",
   "metadata": {},
   "source": [
    "#### Build a model"
   ]
  },
  {
   "cell_type": "code",
   "execution_count": 25,
   "id": "da2fda76-fc2a-44b5-92ab-a510eb47184c",
   "metadata": {},
   "outputs": [],
   "source": [
    "# Create Linear Regression Model\n",
    "lr = LinearRegression(maxIter=250, loss=\"huber\")\n",
    "\n",
    "# Fit the data to the lr model\n",
    "model_lr = lr.fit(train_data)"
   ]
  },
  {
   "cell_type": "markdown",
   "id": "68eeb103-ace9-46d7-a978-a2f253c86157",
   "metadata": {},
   "source": [
    "#### Prediction"
   ]
  },
  {
   "cell_type": "code",
   "execution_count": 26,
   "id": "c7588ce1-7118-4467-9b9a-1abd182898c0",
   "metadata": {},
   "outputs": [
    {
     "name": "stdout",
     "output_type": "stream",
     "text": [
      "+--------------------+------------------+------------------+\n",
      "|            features|             label|        prediction|\n",
      "+--------------------+------------------+------------------+\n",
      "|(34,[0,3,11,17,22...| 6.096910013008056| 6.362431764762427|\n",
      "|(34,[0,3,11,17,22...| 6.643452676486188| 6.405000690514136|\n",
      "|(34,[0,3,11,17,22...| 6.446381812222442| 6.272228072883408|\n",
      "|(34,[0,3,11,17,22...|  6.41250489864426| 6.225051773963223|\n",
      "|(34,[0,3,11,17,22...| 7.447158031342219| 6.540657859431391|\n",
      "|(34,[0,3,11,17,22...|  6.48572142648158|6.2490450796397425|\n",
      "|(34,[0,3,11,17,22...| 5.681246666022682| 6.146219925149836|\n",
      "|(34,[0,3,11,17,22...| 6.477121254719663| 6.149350380181488|\n",
      "|(34,[0,3,11,17,22...| 5.433369746856586| 6.145311684056459|\n",
      "|(34,[0,3,11,17,22...|               5.0| 6.038052374201484|\n",
      "|(34,[0,3,11,18,22...| 5.540329474790874| 6.256805556650214|\n",
      "|(34,[0,3,11,18,22...|5.5136170737878745| 6.209681238301918|\n",
      "|(34,[0,3,11,21,22...|6.4327809489278645|  6.01353280186072|\n",
      "|(34,[0,3,12,17,22...|6.6074549159814495| 6.408119512657869|\n",
      "|(34,[0,3,13,17,22...| 5.740362689494244| 6.372762957666616|\n",
      "|(34,[0,3,13,17,22...|               6.0| 6.370391169905403|\n",
      "|(34,[0,3,13,17,22...|6.3222192947339195| 6.362307972284654|\n",
      "|(34,[0,3,13,18,22...| 6.481514718269408| 6.495949150987968|\n",
      "|(34,[0,3,15,17,22...|  5.68304703823885| 6.600060135273786|\n",
      "|(34,[0,3,15,17,22...| 6.740362689494244| 6.755646991726557|\n",
      "+--------------------+------------------+------------------+\n",
      "only showing top 20 rows\n",
      "\n"
     ]
    }
   ],
   "source": [
    "# Transform the data (Prediction)\n",
    "predictions = model_lr.transform(test_data)\n",
    "\n",
    "# Display the predictions\n",
    "predictions.show()"
   ]
  },
  {
   "cell_type": "markdown",
   "id": "e5d9c359-9a96-4274-8c31-ab5a5d877ac2",
   "metadata": {},
   "source": [
    "#### Evaluation"
   ]
  },
  {
   "cell_type": "code",
   "execution_count": 27,
   "id": "d36eb6d1-b1d3-41c4-ba09-1c656c9d5ba5",
   "metadata": {},
   "outputs": [],
   "source": [
    "# Mean Absolute Percentage Error (MAPE) custom evaluator\n",
    "class MAPEEvaluator(Evaluator):\n",
    "    def __init__(self, predictionCol=\"prediction\", labelCol=\"label\"):\n",
    "        self.predictionCol = predictionCol\n",
    "        self.labelCol = labelCol\n",
    "\n",
    "    def _evaluate(self, dataset):\n",
    "        \"\"\"\n",
    "        Calculates the Mean Absolute Percentage Error (MAPE) for regression tasks.\n",
    "        \"\"\"\n",
    "        predictionAndLabels = dataset.select(self.predictionCol, self.labelCol).rdd.map(\n",
    "            lambda row: (float(row[self.predictionCol]), float(row[self.labelCol]))\n",
    "        )\n",
    "\n",
    "        absolutePercentageErrors = predictionAndLabels.map(\n",
    "            lambda x: abs((x[1] - x[0]) / x[1]) if x[1] != 0 else 1\n",
    "        )\n",
    "\n",
    "        mape = absolutePercentageErrors.mean()\n",
    "\n",
    "        return mape\n",
    "\n",
    "    def isLargerBetter(self):\n",
    "        \"\"\"\n",
    "        Indicates whether a larger value of the metric is better.\n",
    "        \"\"\"\n",
    "        return False\n"
   ]
  },
  {
   "cell_type": "code",
   "execution_count": 28,
   "id": "71665ee1-70b8-4736-8610-fcf8a6d6e860",
   "metadata": {},
   "outputs": [
    {
     "name": "stdout",
     "output_type": "stream",
     "text": [
      "Root Mean Squared Error (RMSE) on test data = 0.5993494243127242\n",
      "R2 on test data = 0.5176322394446695\n",
      "Mean Absolute Percentage Error (MAPE) on test data = 0.07671823654798413\n"
     ]
    }
   ],
   "source": [
    "# Evaluate the performance of the model\n",
    "evaluator1_rmse = RegressionEvaluator(labelCol=\"label\", predictionCol=\"prediction\", metricName=\"rmse\")\n",
    "evaluator1_r2 = RegressionEvaluator(labelCol=\"label\", predictionCol=\"prediction\", metricName=\"r2\")\n",
    "evaluator1_mape = MAPEEvaluator(labelCol=\"label\", predictionCol=\"prediction\")\n",
    "\n",
    "rmse_lr = evaluator1_rmse.evaluate(predictions)\n",
    "r2_lr = evaluator1_r2.evaluate(predictions)\n",
    "mape_lr = evaluator1_mape.evaluate(predictions)\n",
    "\n",
    "print(\"Root Mean Squared Error (RMSE) on test data = {}\".format(rmse_lr))\n",
    "print(\"R2 on test data = {}\".format(r2_lr))\n",
    "print(\"Mean Absolute Percentage Error (MAPE) on test data = {}\".format(mape_lr))"
   ]
  },
  {
   "cell_type": "markdown",
   "id": "46d52124-da01-46b9-b522-9baa492c63f5",
   "metadata": {},
   "source": [
    "#### Hyperparameter optimization"
   ]
  },
  {
   "cell_type": "code",
   "execution_count": 29,
   "id": "e2b28b6e-1990-48b6-8efe-3531d16ad393",
   "metadata": {},
   "outputs": [
    {
     "data": {
      "text/plain": [
       "LinearRegressionModel: uid=LinearRegression_d8f7b6ca238d, numFeatures=34"
      ]
     },
     "execution_count": 29,
     "metadata": {},
     "output_type": "execute_result"
    }
   ],
   "source": [
    "grid = ParamGridBuilder()\n",
    "grid = grid.addGrid(model_lr.aggregationDepth, [2, 3, 4]) \\\n",
    "                    .addGrid(model_lr.regParam, [0.0, 0.001, 0.1, 0.3, 0.5]) \\\n",
    "                    .build()\n",
    "\n",
    "cv = CrossValidator(estimator=lr, \n",
    "                    estimatorParamMaps=grid, \n",
    "                    evaluator=evaluator1_mape,\n",
    "                    parallelism=5,\n",
    "                    numFolds=3)\n",
    "\n",
    "cvModel = cv.fit(train_data)\n",
    "bestModel = cvModel.bestModel\n",
    "bestModel"
   ]
  },
  {
   "cell_type": "markdown",
   "id": "187d202e-e8d6-46ee-beee-d939d797a310",
   "metadata": {},
   "source": [
    "#### Select the best model"
   ]
  },
  {
   "cell_type": "code",
   "execution_count": 30,
   "id": "d6168cad-499f-4def-a4d6-59c6beda713b",
   "metadata": {},
   "outputs": [
    {
     "name": "stdout",
     "output_type": "stream",
     "text": [
      "{Param(parent='LinearRegression_d8f7b6ca238d', name='labelCol', doc='label column name.'): 'label',\n",
      " Param(parent='LinearRegression_d8f7b6ca238d', name='fitIntercept', doc='whether to fit an intercept term.'): True,\n",
      " Param(parent='LinearRegression_d8f7b6ca238d', name='solver', doc='The solver algorithm for optimization. Supported options: auto, normal, l-bfgs.'): 'auto',\n",
      " Param(parent='LinearRegression_d8f7b6ca238d', name='tol', doc='the convergence tolerance for iterative algorithms (>= 0).'): 1e-06,\n",
      " Param(parent='LinearRegression_d8f7b6ca238d', name='standardization', doc='whether to standardize the training features before fitting the model.'): True,\n",
      " Param(parent='LinearRegression_d8f7b6ca238d', name='maxBlockSizeInMB', doc='maximum memory in MB for stacking input data into blocks. Data is stacked within partitions. If more than remaining data size in a partition then it is adjusted to the data size. Default 0.0 represents choosing optimal value, depends on specific algorithm. Must be >= 0.'): 0.0,\n",
      " Param(parent='LinearRegression_d8f7b6ca238d', name='loss', doc='The loss function to be optimized. Supported options: squaredError, huber.'): 'huber',\n",
      " Param(parent='LinearRegression_d8f7b6ca238d', name='maxIter', doc='max number of iterations (>= 0).'): 250,\n",
      " Param(parent='LinearRegression_d8f7b6ca238d', name='predictionCol', doc='prediction column name.'): 'prediction',\n",
      " Param(parent='LinearRegression_d8f7b6ca238d', name='regParam', doc='regularization parameter (>= 0).'): 0.001,\n",
      " Param(parent='LinearRegression_d8f7b6ca238d', name='featuresCol', doc='features column name.'): 'features',\n",
      " Param(parent='LinearRegression_d8f7b6ca238d', name='elasticNetParam', doc='the ElasticNet mixing parameter, in range [0, 1]. For alpha = 0, the penalty is an L2 penalty. For alpha = 1, it is an L1 penalty.'): 0.0,\n",
      " Param(parent='LinearRegression_d8f7b6ca238d', name='aggregationDepth', doc='suggested depth for treeAggregate (>= 2).'): 2,\n",
      " Param(parent='LinearRegression_d8f7b6ca238d', name='epsilon', doc='The shape parameter to control the amount of robustness. Must be > 1.0. Only valid when loss is huber'): 1.35}\n"
     ]
    }
   ],
   "source": [
    "model1 = bestModel\n",
    "pprint(model1.extractParamMap())"
   ]
  },
  {
   "cell_type": "markdown",
   "id": "d851f892-ff36-43fa-a175-a0e9d635d19e",
   "metadata": {},
   "source": [
    "#### Save the model to HDFS"
   ]
  },
  {
   "cell_type": "code",
   "execution_count": 31,
   "id": "7cd8bc3e-1b27-4ce2-b027-12c148555b7e",
   "metadata": {},
   "outputs": [],
   "source": [
    "# model1.write().overwrite().save(\"project/models/model1\")\n",
    "\n",
    "# # Run it from root directory of the repository\n",
    "# run(\"hdfs dfs -get project/models/model1 models/model1\")"
   ]
  },
  {
   "cell_type": "markdown",
   "id": "b8343a76-c232-41fe-9487-c2e719b56b45",
   "metadata": {},
   "source": [
    "#### Prediction of the best model 1"
   ]
  },
  {
   "cell_type": "code",
   "execution_count": 32,
   "id": "1b70cace-5fb2-4c4e-8d85-5493b8b2c8c8",
   "metadata": {},
   "outputs": [
    {
     "name": "stdout",
     "output_type": "stream",
     "text": [
      "+--------------------+------------------+------------------+\n",
      "|            features|             label|        prediction|\n",
      "+--------------------+------------------+------------------+\n",
      "|(34,[0,3,11,17,22...| 6.096910013008056| 6.360975218948255|\n",
      "|(34,[0,3,11,17,22...| 6.643452676486188| 6.403264378348062|\n",
      "|(34,[0,3,11,17,22...| 6.446381812222442| 6.272706751601412|\n",
      "|(34,[0,3,11,17,22...|  6.41250489864426| 6.225256499506841|\n",
      "|(34,[0,3,11,17,22...| 7.447158031342219| 6.538308897098318|\n",
      "|(34,[0,3,11,17,22...|  6.48572142648158| 6.249977965607215|\n",
      "|(34,[0,3,11,17,22...| 5.681246666022682| 6.145467515156838|\n",
      "|(34,[0,3,11,17,22...| 6.477121254719663|  6.15008529305522|\n",
      "|(34,[0,3,11,17,22...| 5.433369746856586| 6.144640756518086|\n",
      "|(34,[0,3,11,17,22...|               5.0| 6.038132563124364|\n",
      "|(34,[0,3,11,18,22...| 5.540329474790874| 6.257408768784842|\n",
      "|(34,[0,3,11,18,22...|5.5136170737878745| 6.210689735226502|\n",
      "|(34,[0,3,11,21,22...|6.4327809489278645| 6.013243855391906|\n",
      "|(34,[0,3,12,17,22...|6.6074549159814495|  6.40876986895578|\n",
      "|(34,[0,3,13,17,22...| 5.740362689494244|6.3732033420698215|\n",
      "|(34,[0,3,13,17,22...|               6.0| 6.371830130825984|\n",
      "|(34,[0,3,13,17,22...|6.3222192947339195| 6.363684134480756|\n",
      "|(34,[0,3,13,18,22...| 6.481514718269408| 6.496955861985221|\n",
      "|(34,[0,3,15,17,22...|  5.68304703823885| 6.600140868128783|\n",
      "|(34,[0,3,15,17,22...| 6.740362689494244| 6.755700332695255|\n",
      "+--------------------+------------------+------------------+\n",
      "only showing top 20 rows\n",
      "\n"
     ]
    }
   ],
   "source": [
    "predictions = model1.transform(test_data)\n",
    "predictions.show()"
   ]
  },
  {
   "cell_type": "code",
   "execution_count": 33,
   "id": "d1ee6b2a-4583-46b0-91bf-9858510a87a5",
   "metadata": {},
   "outputs": [],
   "source": [
    "# predictions.select(\"label\", \"prediction\")\\\n",
    "#     .coalesce(1)\\\n",
    "#     .write\\\n",
    "#     .mode(\"overwrite\")\\\n",
    "#     .format(\"csv\")\\\n",
    "#     .option(\"sep\", \",\")\\\n",
    "#     .option(\"header\",\"true\")\\\n",
    "#     .save(\"project/output/model1_predictions.csv\")\n",
    "\n",
    "# # Run it from root directory of the repository\n",
    "# run(\"hdfs dfs -cat project/output/model1_predictions.csv/*.csv > output/model1_predictions.csv\")"
   ]
  },
  {
   "cell_type": "markdown",
   "id": "75172db9-2a86-4229-8136-8f854b2b58de",
   "metadata": {},
   "source": [
    "#### Evaluation of the best model 1"
   ]
  },
  {
   "cell_type": "code",
   "execution_count": 34,
   "id": "f3769d14-45ef-4283-b76a-20625ca66fa4",
   "metadata": {},
   "outputs": [
    {
     "name": "stdout",
     "output_type": "stream",
     "text": [
      "Root Mean Squared Error (RMSE) on test data = 0.599693958342396\n",
      "R2 on test data = 0.5170775050307348\n",
      "Mean Absolute Percentage Error on test data = 0.07676012768649511\n"
     ]
    }
   ],
   "source": [
    "# Evaluate the performance of the best model\n",
    "evaluator1_rmse = RegressionEvaluator(labelCol=\"label\", predictionCol=\"prediction\", metricName=\"rmse\")\n",
    "evaluator1_r2 = RegressionEvaluator(labelCol=\"label\", predictionCol=\"prediction\", metricName=\"r2\")\n",
    "\n",
    "rmse1 = evaluator1_rmse.evaluate(predictions)\n",
    "r2_1 = evaluator1_r2.evaluate(predictions)\n",
    "mape1 = evaluator1_mape.evaluate(predictions)\n",
    "\n",
    "print(\"Root Mean Squared Error (RMSE) on test data = {}\".format(rmse1))\n",
    "print(\"R2 on test data = {}\".format(r2_1))\n",
    "print(\"Mean Absolute Percentage Error on test data = {}\".format(mape1))"
   ]
  },
  {
   "cell_type": "markdown",
   "id": "088f7ba0-e1d1-4426-b6ba-1f2a4d44e9ec",
   "metadata": {},
   "source": [
    "###  Modeling: Second model\n",
    "\n",
    "\n",
    "Second model is Gradient-Boosted Tree Regression"
   ]
  },
  {
   "cell_type": "markdown",
   "id": "8cfa93d7-63f5-46d8-a3aa-8b47e72304b9",
   "metadata": {},
   "source": [
    "#### Build a model"
   ]
  },
  {
   "cell_type": "code",
   "execution_count": 35,
   "id": "1f9a1412-24c5-4413-a3ae-89f89068fee4",
   "metadata": {},
   "outputs": [],
   "source": [
    "# Create Gradient-Boosted Tree regression Model\n",
    "gbt = GBTRegressor()\n",
    "\n",
    "# Fit the data to the model\n",
    "model_gbt = gbt.fit(train_data)"
   ]
  },
  {
   "cell_type": "markdown",
   "id": "18ddb06c-4fec-4047-bcf7-a645436d68fa",
   "metadata": {},
   "source": [
    "#### Prediction"
   ]
  },
  {
   "cell_type": "code",
   "execution_count": 36,
   "id": "f5d21484-717b-4fcd-809c-e096f33c0263",
   "metadata": {},
   "outputs": [
    {
     "name": "stdout",
     "output_type": "stream",
     "text": [
      "+--------------------+------------------+-----------------+\n",
      "|            features|             label|       prediction|\n",
      "+--------------------+------------------+-----------------+\n",
      "|(34,[0,3,11,17,22...| 6.096910013008056|  6.6680415553615|\n",
      "|(34,[0,3,11,17,22...| 6.643452676486188|6.597476503702703|\n",
      "|(34,[0,3,11,17,22...| 6.446381812222442|6.481142767543754|\n",
      "|(34,[0,3,11,17,22...|  6.41250489864426|6.172575002574308|\n",
      "|(34,[0,3,11,17,22...| 7.447158031342219| 6.63546706672932|\n",
      "|(34,[0,3,11,17,22...|  6.48572142648158|5.965375681646289|\n",
      "|(34,[0,3,11,17,22...| 5.681246666022682|5.987523954970649|\n",
      "|(34,[0,3,11,17,22...| 6.477121254719663|6.215433503464742|\n",
      "|(34,[0,3,11,17,22...| 5.433369746856586|5.948941517682816|\n",
      "|(34,[0,3,11,17,22...|               5.0|5.936341791161156|\n",
      "|(34,[0,3,11,18,22...| 5.540329474790874|6.306289701080124|\n",
      "|(34,[0,3,11,18,22...|5.5136170737878745|6.470168523043724|\n",
      "|(34,[0,3,11,21,22...|6.4327809489278645|5.891534191974477|\n",
      "|(34,[0,3,12,17,22...|6.6074549159814495|6.482895879762288|\n",
      "|(34,[0,3,13,17,22...| 5.740362689494244|6.107000028951189|\n",
      "|(34,[0,3,13,17,22...|               6.0|6.146089567823499|\n",
      "|(34,[0,3,13,17,22...|6.3222192947339195|6.166122062472473|\n",
      "|(34,[0,3,13,18,22...| 6.481514718269408|6.522014091367027|\n",
      "|(34,[0,3,15,17,22...|  5.68304703823885|6.922656721606008|\n",
      "|(34,[0,3,15,17,22...| 6.740362689494244|7.084425345590686|\n",
      "+--------------------+------------------+-----------------+\n",
      "only showing top 20 rows\n",
      "\n"
     ]
    }
   ],
   "source": [
    "# Transform the data (Prediction)\n",
    "predictions = model_gbt.transform(test_data)\n",
    "\n",
    "# Display the predictions\n",
    "predictions.show()"
   ]
  },
  {
   "cell_type": "markdown",
   "id": "99580d05-1477-414f-bd89-e35979fd19af",
   "metadata": {},
   "source": [
    "#### Evaluation"
   ]
  },
  {
   "cell_type": "code",
   "execution_count": 37,
   "id": "f09c1247-da55-49b4-8fbe-79c59de0a54e",
   "metadata": {},
   "outputs": [
    {
     "name": "stdout",
     "output_type": "stream",
     "text": [
      "Root Mean Squared Error (RMSE) on test data = 0.5750874156723099\n",
      "R2 on test data = 0.5558948420775381\n",
      "Mean Absolute Percentage Error (MAPE) on test data = 0.07287055902938512\n"
     ]
    }
   ],
   "source": [
    "# Evaluate the performance of the model\n",
    "evaluator2_rmse = RegressionEvaluator(labelCol=\"label\", predictionCol=\"prediction\", metricName=\"rmse\")\n",
    "evaluator2_r2 = RegressionEvaluator(labelCol=\"label\", predictionCol=\"prediction\", metricName=\"r2\")\n",
    "evaluator2_mape = MAPEEvaluator(labelCol=\"label\", predictionCol=\"prediction\")\n",
    "\n",
    "rmse_gbt = evaluator2_rmse.evaluate(predictions)\n",
    "r2_gbt = evaluator2_r2.evaluate(predictions)\n",
    "mape_gbt = evaluator2_mape.evaluate(predictions)\n",
    "\n",
    "\n",
    "print(\"Root Mean Squared Error (RMSE) on test data = {}\".format(rmse_gbt))\n",
    "print(\"R2 on test data = {}\".format(r2_gbt))\n",
    "print(\"Mean Absolute Percentage Error (MAPE) on test data = {}\".format(mape_gbt))"
   ]
  },
  {
   "cell_type": "markdown",
   "id": "2019ae74-dc3d-473e-905f-2cf2e76c9786",
   "metadata": {},
   "source": [
    "#### Hyperparameter optimization"
   ]
  },
  {
   "cell_type": "code",
   "execution_count": 38,
   "id": "40eb9bb8-5fbe-46c7-8c9d-27e12964b1f5",
   "metadata": {},
   "outputs": [
    {
     "data": {
      "text/plain": [
       "GBTRegressionModel: uid=GBTRegressor_ef83434e5c5f, numTrees=20, numFeatures=34"
      ]
     },
     "execution_count": 38,
     "metadata": {},
     "output_type": "execute_result"
    }
   ],
   "source": [
    "grid = ParamGridBuilder()\n",
    "grid = (ParamGridBuilder().addGrid(model_gbt.maxDepth, [5, 10]) \\\n",
    "             .addGrid(model_gbt.lossType, ['absolute', 'squared']) \\\n",
    "             .build())\n",
    "\n",
    "cv = CrossValidator(estimator=gbt, \n",
    "                    estimatorParamMaps=grid, \n",
    "                    evaluator=evaluator2_mape,\n",
    "                    parallelism=5,\n",
    "                    numFolds=3)\n",
    "\n",
    "cvModel = cv.fit(train_data)\n",
    "bestModel = cvModel.bestModel\n",
    "bestModel"
   ]
  },
  {
   "cell_type": "markdown",
   "id": "c6c7e2db-e91f-4769-8399-f9cf90871962",
   "metadata": {},
   "source": [
    "#### Select the best model"
   ]
  },
  {
   "cell_type": "code",
   "execution_count": 39,
   "id": "73b819f1-4ce7-4fb2-bb4b-7af5cb8c615b",
   "metadata": {},
   "outputs": [
    {
     "name": "stdout",
     "output_type": "stream",
     "text": [
      "{Param(parent='GBTRegressor_ef83434e5c5f', name='minInfoGain', doc='Minimum information gain for a split to be considered at a tree node.'): 0.0,\n",
      " Param(parent='GBTRegressor_ef83434e5c5f', name='checkpointInterval', doc='set checkpoint interval (>= 1) or disable checkpoint (-1). E.g. 10 means that the cache will get checkpointed every 10 iterations. Note: this setting will be ignored if the checkpoint directory is not set in the SparkContext.'): 10,\n",
      " Param(parent='GBTRegressor_ef83434e5c5f', name='leafCol', doc='Leaf indices column name. Predicted leaf index of each instance in each tree by preorder.'): '',\n",
      " Param(parent='GBTRegressor_ef83434e5c5f', name='featureSubsetStrategy', doc=\"The number of features to consider for splits at each tree node. Supported options: 'auto' (choose automatically for task: If numTrees == 1, set to 'all'. If numTrees > 1 (forest), set to 'sqrt' for classification and to 'onethird' for regression), 'all' (use all features), 'onethird' (use 1/3 of the features), 'sqrt' (use sqrt(number of features)), 'log2' (use log2(number of features)), 'n' (when n is in the range (0, 1.0], use n * number of features. When n is in the range (1, number of features), use n features). default = 'auto'\"): 'all',\n",
      " Param(parent='GBTRegressor_ef83434e5c5f', name='cacheNodeIds', doc='If false, the algorithm will pass trees to executors to match instances with nodes. If true, the algorithm will cache node IDs for each instance. Caching can speed up training of deeper trees. Users can set how often should the cache be checkpointed or disable it by setting checkpointInterval.'): False,\n",
      " Param(parent='GBTRegressor_ef83434e5c5f', name='predictionCol', doc='prediction column name.'): 'prediction',\n",
      " Param(parent='GBTRegressor_ef83434e5c5f', name='impurity', doc='Criterion used for information gain calculation (case-insensitive). Supported options: variance'): 'variance',\n",
      " Param(parent='GBTRegressor_ef83434e5c5f', name='seed', doc='random seed.'): -6709876892385055218,\n",
      " Param(parent='GBTRegressor_ef83434e5c5f', name='maxMemoryInMB', doc='Maximum memory in MB allocated to histogram aggregation. If too small, then 1 node will be split per iteration, and its aggregates may exceed this size.'): 256,\n",
      " Param(parent='GBTRegressor_ef83434e5c5f', name='maxBins', doc='Max number of bins for discretizing continuous features.  Must be >=2 and >= number of categories for any categorical feature.'): 32,\n",
      " Param(parent='GBTRegressor_ef83434e5c5f', name='lossType', doc='Loss function which GBT tries to minimize (case-insensitive). Supported options: squared, absolute'): 'squared',\n",
      " Param(parent='GBTRegressor_ef83434e5c5f', name='minWeightFractionPerNode', doc='Minimum fraction of the weighted sample count that each child must have after split. If a split causes the fraction of the total weight in the left or right child to be less than minWeightFractionPerNode, the split will be discarded as invalid. Should be in interval [0.0, 0.5).'): 0.0,\n",
      " Param(parent='GBTRegressor_ef83434e5c5f', name='maxDepth', doc='Maximum depth of the tree. (>= 0) E.g., depth 0 means 1 leaf node; depth 1 means 1 internal node + 2 leaf nodes. Must be in range [0, 30].'): 5,\n",
      " Param(parent='GBTRegressor_ef83434e5c5f', name='minInstancesPerNode', doc='Minimum number of instances each child must have after split. If a split causes the left or right child to have fewer than minInstancesPerNode, the split will be discarded as invalid. Should be >= 1.'): 1,\n",
      " Param(parent='GBTRegressor_ef83434e5c5f', name='maxIter', doc='max number of iterations (>= 0).'): 20,\n",
      " Param(parent='GBTRegressor_ef83434e5c5f', name='featuresCol', doc='features column name.'): 'features',\n",
      " Param(parent='GBTRegressor_ef83434e5c5f', name='labelCol', doc='label column name.'): 'label',\n",
      " Param(parent='GBTRegressor_ef83434e5c5f', name='validationTol', doc='Threshold for stopping early when fit with validation is used. If the error rate on the validation input changes by less than the validationTol, then learning will stop early (before `maxIter`). This parameter is ignored when fit without validation is used.'): 0.01,\n",
      " Param(parent='GBTRegressor_ef83434e5c5f', name='subsamplingRate', doc='Fraction of the training data used for learning each decision tree, in range (0, 1].'): 1.0,\n",
      " Param(parent='GBTRegressor_ef83434e5c5f', name='stepSize', doc='Step size (a.k.a. learning rate) in interval (0, 1] for shrinking the contribution of each estimator.'): 0.1}\n"
     ]
    }
   ],
   "source": [
    "model2 = bestModel\n",
    "pprint(model2.extractParamMap())"
   ]
  },
  {
   "cell_type": "markdown",
   "id": "4a4cad82-5920-4fae-bddb-7bc4439e6c8f",
   "metadata": {},
   "source": [
    "#### Save the model to HDFS"
   ]
  },
  {
   "cell_type": "code",
   "execution_count": 40,
   "id": "be798c64-57ee-4ed8-8b9d-239bb8d83a02",
   "metadata": {},
   "outputs": [],
   "source": [
    "# model2.write().overwrite().save(\"project/models/model2\")\n",
    "\n",
    "# # Run it from root directory of the repository\n",
    "# run(\"hdfs dfs -get project/models/model2 models/model2\")"
   ]
  },
  {
   "cell_type": "markdown",
   "id": "8fa82c49-9926-4cea-8f5a-20fc887ce11b",
   "metadata": {},
   "source": [
    "#### Prediction of the best model 2"
   ]
  },
  {
   "cell_type": "code",
   "execution_count": 41,
   "id": "186a80b4-ea9c-4f1e-922d-23a6713dff00",
   "metadata": {},
   "outputs": [
    {
     "name": "stdout",
     "output_type": "stream",
     "text": [
      "+--------------------+------------------+------------------+\n",
      "|            features|             label|        prediction|\n",
      "+--------------------+------------------+------------------+\n",
      "|(34,[0,3,11,17,22...| 6.096910013008056| 6.668041555361505|\n",
      "|(34,[0,3,11,17,22...| 6.643452676486188| 6.597476503702703|\n",
      "|(34,[0,3,11,17,22...| 6.446381812222442| 6.481142767543754|\n",
      "|(34,[0,3,11,17,22...|  6.41250489864426|  6.17257500257431|\n",
      "|(34,[0,3,11,17,22...| 7.447158031342219|  6.63546706672932|\n",
      "|(34,[0,3,11,17,22...|  6.48572142648158|5.9653756816462895|\n",
      "|(34,[0,3,11,17,22...| 5.681246666022682| 5.987523954970649|\n",
      "|(34,[0,3,11,17,22...| 6.477121254719663| 6.215433503464744|\n",
      "|(34,[0,3,11,17,22...| 5.433369746856586| 5.948941517682817|\n",
      "|(34,[0,3,11,17,22...|               5.0| 5.936341791161157|\n",
      "|(34,[0,3,11,18,22...| 5.540329474790874| 6.306289701080125|\n",
      "|(34,[0,3,11,18,22...|5.5136170737878745| 6.470168523043724|\n",
      "|(34,[0,3,11,21,22...|6.4327809489278645| 5.891534191974476|\n",
      "|(34,[0,3,12,17,22...|6.6074549159814495|6.4828958797622915|\n",
      "|(34,[0,3,13,17,22...| 5.740362689494244| 6.107000028951191|\n",
      "|(34,[0,3,13,17,22...|               6.0|   6.1460895678235|\n",
      "|(34,[0,3,13,17,22...|6.3222192947339195| 6.166122062472474|\n",
      "|(34,[0,3,13,18,22...| 6.481514718269408| 6.522014091367026|\n",
      "|(34,[0,3,15,17,22...|  5.68304703823885| 6.922656721606012|\n",
      "|(34,[0,3,15,17,22...| 6.740362689494244|7.0844253455906845|\n",
      "+--------------------+------------------+------------------+\n",
      "only showing top 20 rows\n",
      "\n"
     ]
    }
   ],
   "source": [
    "predictions = model2.transform(test_data)\n",
    "predictions.show()"
   ]
  },
  {
   "cell_type": "code",
   "execution_count": 42,
   "id": "ad1012f2-ee21-4cfc-8670-d7e4718051c9",
   "metadata": {},
   "outputs": [],
   "source": [
    "# predictions.select(\"label\", \"prediction\")\\\n",
    "#     .coalesce(1)\\\n",
    "#     .write\\\n",
    "#     .mode(\"overwrite\")\\\n",
    "#     .format(\"csv\")\\\n",
    "#     .option(\"sep\", \",\")\\\n",
    "#     .option(\"header\",\"true\")\\\n",
    "#     .save(\"project/output/model2_predictions.csv\")\n",
    "\n",
    "# # Run it from root directory of the repository\n",
    "# run(\"hdfs dfs -cat project/output/model2_predictions.csv/*.csv > output/model2_predictions.csv\")"
   ]
  },
  {
   "cell_type": "markdown",
   "id": "5a5a0a22-0105-4193-8408-c6b0ab76da7a",
   "metadata": {},
   "source": [
    "#### Evaluation of the best model 2"
   ]
  },
  {
   "cell_type": "code",
   "execution_count": 43,
   "id": "0e02fb1a-8451-4081-ac0e-b7b9f8161cab",
   "metadata": {},
   "outputs": [
    {
     "name": "stdout",
     "output_type": "stream",
     "text": [
      "Root Mean Squared Error (RMSE) on test data = 0.575162710988388\n",
      "R2 on test data = 0.555778542445909\n",
      "Mean Absolute Percentage Error on test data = 0.07288239871189733\n"
     ]
    }
   ],
   "source": [
    "# Evaluate the performance of the best model\n",
    "evaluator2_rmse = RegressionEvaluator(labelCol=\"label\", predictionCol=\"prediction\", metricName=\"rmse\")\n",
    "evaluator2_r2 = RegressionEvaluator(labelCol=\"label\", predictionCol=\"prediction\", metricName=\"r2\")\n",
    "evaluator2_mape = MAPEEvaluator(labelCol=\"label\", predictionCol=\"prediction\")\n",
    "\n",
    "rmse2 = evaluator2_rmse.evaluate(predictions)\n",
    "r2_2 = evaluator2_r2.evaluate(predictions)\n",
    "mape2 = evaluator2_mape.evaluate(predictions)\n",
    "\n",
    "print(\"Root Mean Squared Error (RMSE) on test data = {}\".format(rmse2))\n",
    "print(\"R2 on test data = {}\".format(r2_2))\n",
    "print(\"Mean Absolute Percentage Error on test data = {}\".format(mape2))"
   ]
  },
  {
   "cell_type": "markdown",
   "id": "5ce31a86-8a4d-4a53-98f7-0045497ed80f",
   "metadata": {},
   "source": [
    "### Compare best models"
   ]
  },
  {
   "cell_type": "code",
   "execution_count": 44,
   "id": "62b65664-f4e7-4760-8ba9-fd1f26bdab7a",
   "metadata": {},
   "outputs": [
    {
     "name": "stdout",
     "output_type": "stream",
     "text": [
      "+------------------------------------------------------------------------------+-----------------+------------------+-------------------+\n",
      "|model                                                                         |RMSE             |R2                |MAPE               |\n",
      "+------------------------------------------------------------------------------+-----------------+------------------+-------------------+\n",
      "|LinearRegressionModel: uid=LinearRegression_d8f7b6ca238d, numFeatures=34      |0.599693958342396|0.5170775050307348|0.07676012768649511|\n",
      "|GBTRegressionModel: uid=GBTRegressor_ef83434e5c5f, numTrees=20, numFeatures=34|0.575162710988388|0.555778542445909 |0.07288239871189733|\n",
      "+------------------------------------------------------------------------------+-----------------+------------------+-------------------+\n",
      "\n"
     ]
    }
   ],
   "source": [
    "# Create dataframe to report performance of the models\n",
    "models = [[str(model1), rmse1, r2_1, mape1], [str(model2), rmse2, r2_2, mape2]]\n",
    "\n",
    "df = spark.createDataFrame(models, [\"model\", \"RMSE\", \"R2\", \"MAPE\"])\n",
    "df.show(truncate=False)"
   ]
  },
  {
   "cell_type": "code",
   "execution_count": 45,
   "id": "7abe1f6a-25de-43d6-b1b3-7b6d286f4b24",
   "metadata": {},
   "outputs": [],
   "source": [
    "# # Save it to HDFS\n",
    "# df.coalesce(1)\\\n",
    "#     .write\\\n",
    "#     .mode(\"overwrite\")\\\n",
    "#     .format(\"csv\")\\\n",
    "#     .option(\"sep\", \",\")\\\n",
    "#     .option(\"header\",\"true\")\\\n",
    "#     .save(\"project/output/evaluation.csv\")\n",
    "\n",
    "# # Run it from root directory of the repository\n",
    "# run(\"hdfs dfs -cat project/output/evaluation.csv/*.csv > output/evaluation.csv\")"
   ]
  },
  {
   "cell_type": "markdown",
   "id": "7cb5335b-feea-4dcd-8bbc-b3440d6baf4d",
   "metadata": {},
   "source": [
    "## Stop spark"
   ]
  },
  {
   "cell_type": "code",
   "execution_count": 46,
   "id": "1799175e-f184-4be2-bff7-066558669b9f",
   "metadata": {},
   "outputs": [],
   "source": [
    "spark.stop()"
   ]
  }
 ],
 "metadata": {
  "kernelspec": {
   "display_name": "Pyspark 3",
   "language": "python",
   "name": "python3"
  },
  "language_info": {
   "codemirror_mode": {
    "name": "ipython",
    "version": 3
   },
   "file_extension": ".py",
   "mimetype": "text/x-python",
   "name": "python",
   "nbconvert_exporter": "python",
   "pygments_lexer": "ipython3",
   "version": "3.6.8"
  }
 },
 "nbformat": 4,
 "nbformat_minor": 5
}
