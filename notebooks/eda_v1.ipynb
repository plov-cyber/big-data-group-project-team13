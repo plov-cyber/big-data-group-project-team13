{
 "cells": [
  {
   "cell_type": "code",
   "execution_count": 1,
   "metadata": {},
   "outputs": [],
   "source": [
    "import pandas as pd\n",
    "import seaborn as sns"
   ]
  },
  {
   "cell_type": "code",
   "execution_count": 2,
   "metadata": {},
   "outputs": [
    {
     "name": "stderr",
     "output_type": "stream",
     "text": [
      "/var/folders/p2/skh823fd5t5fcl9_fbmxvw24rb6_10/T/ipykernel_24397/953361758.py:1: DtypeWarning: Columns (3,7,9,10,17,18,21,22,23,25,26,29,30,37) have mixed types. Specify dtype option on import or set low_memory=False.\n",
      "  objects = pd.read_csv('fixed_dataset/objects.csv')\n"
     ]
    },
    {
     "name": "stdout",
     "output_type": "stream",
     "text": [
      "<class 'pandas.core.frame.DataFrame'>\n",
      "RangeIndex: 462651 entries, 0 to 462650\n",
      "Data columns (total 40 columns):\n",
      " #   Column               Non-Null Count   Dtype  \n",
      "---  ------               --------------   -----  \n",
      " 0   id                   462651 non-null  object \n",
      " 1   entity_type          462651 non-null  object \n",
      " 2   entity_id            462651 non-null  int64  \n",
      " 3   parent_id            27715 non-null   object \n",
      " 4   name                 462647 non-null  object \n",
      " 5   normalized_name      462620 non-null  object \n",
      " 6   permalink            462651 non-null  object \n",
      " 7   category_code        123186 non-null  object \n",
      " 8   status               462651 non-null  object \n",
      " 9   founded_at           100441 non-null  object \n",
      " 10  closed_at            2809 non-null    object \n",
      " 11  domain               174942 non-null  object \n",
      " 12  homepage_url         174942 non-null  object \n",
      " 13  twitter_username     126089 non-null  object \n",
      " 14  logo_url             208850 non-null  object \n",
      " 15  logo_width           462651 non-null  int64  \n",
      " 16  logo_height          462651 non-null  int64  \n",
      " 17  short_description    7617 non-null    object \n",
      " 18  description          95005 non-null   object \n",
      " 19  overview             235235 non-null  object \n",
      " 20  tag_list             106496 non-null  object \n",
      " 21  country_code         95043 non-null   object \n",
      " 22  state_code           54760 non-null   object \n",
      " 23  city                 90684 non-null   object \n",
      " 24  region               462651 non-null  object \n",
      " 25  first_investment_at  16956 non-null   object \n",
      " 26  last_investment_at   16956 non-null   object \n",
      " 27  investment_rounds    462651 non-null  int64  \n",
      " 28  invested_companies   462651 non-null  int64  \n",
      " 29  first_funding_at     31507 non-null   object \n",
      " 30  last_funding_at      31507 non-null   object \n",
      " 31  funding_rounds       462651 non-null  int64  \n",
      " 32  funding_total_usd    462651 non-null  float64\n",
      " 33  first_milestone_at   100358 non-null  object \n",
      " 34  last_milestone_at    100358 non-null  object \n",
      " 35  milestones           462651 non-null  int64  \n",
      " 36  relationships        462651 non-null  int64  \n",
      " 37  created_by           339486 non-null  object \n",
      " 38  created_at           462591 non-null  object \n",
      " 39  updated_at           462651 non-null  object \n",
      "dtypes: float64(1), int64(8), object(31)\n",
      "memory usage: 141.2+ MB\n",
      "None\n"
     ]
    }
   ],
   "source": [
    "objects = pd.read_csv('fixed_dataset/objects.csv')\n",
    "print(objects.info())"
   ]
  },
  {
   "cell_type": "code",
   "execution_count": 3,
   "metadata": {},
   "outputs": [
    {
     "data": {
      "text/plain": [
       "entity_type\n",
       "Company         196553\n",
       "FinancialOrg     11652\n",
       "Person          226708\n",
       "Product          27738\n",
       "Name: id, dtype: int64"
      ]
     },
     "execution_count": 3,
     "metadata": {},
     "output_type": "execute_result"
    }
   ],
   "source": [
    "objects.groupby(by='entity_type', as_index='False')['id'].nunique('id')"
   ]
  },
  {
   "cell_type": "code",
   "execution_count": null,
   "metadata": {},
   "outputs": [],
   "source": []
  },
  {
   "cell_type": "markdown",
   "metadata": {},
   "source": [
    "## Get Companies"
   ]
  },
  {
   "cell_type": "code",
   "execution_count": 4,
   "metadata": {},
   "outputs": [
    {
     "data": {
      "text/html": [
       "<div>\n",
       "<style scoped>\n",
       "    .dataframe tbody tr th:only-of-type {\n",
       "        vertical-align: middle;\n",
       "    }\n",
       "\n",
       "    .dataframe tbody tr th {\n",
       "        vertical-align: top;\n",
       "    }\n",
       "\n",
       "    .dataframe thead th {\n",
       "        text-align: right;\n",
       "    }\n",
       "</style>\n",
       "<table border=\"1\" class=\"dataframe\">\n",
       "  <thead>\n",
       "    <tr style=\"text-align: right;\">\n",
       "      <th></th>\n",
       "      <th>id</th>\n",
       "      <th>entity_type</th>\n",
       "      <th>entity_id</th>\n",
       "      <th>parent_id</th>\n",
       "      <th>name</th>\n",
       "      <th>normalized_name</th>\n",
       "      <th>permalink</th>\n",
       "      <th>category_code</th>\n",
       "      <th>status</th>\n",
       "      <th>founded_at</th>\n",
       "      <th>...</th>\n",
       "      <th>funding_rounds</th>\n",
       "      <th>funding_total_usd</th>\n",
       "      <th>first_milestone_at</th>\n",
       "      <th>last_milestone_at</th>\n",
       "      <th>milestones</th>\n",
       "      <th>relationships</th>\n",
       "      <th>created_by</th>\n",
       "      <th>created_at</th>\n",
       "      <th>updated_at</th>\n",
       "      <th>founded_at_year</th>\n",
       "    </tr>\n",
       "  </thead>\n",
       "  <tbody>\n",
       "    <tr>\n",
       "      <th>0</th>\n",
       "      <td>c:1</td>\n",
       "      <td>Company</td>\n",
       "      <td>1</td>\n",
       "      <td>NaN</td>\n",
       "      <td>Wetpaint</td>\n",
       "      <td>wetpaint</td>\n",
       "      <td>/company/wetpaint</td>\n",
       "      <td>web</td>\n",
       "      <td>operating</td>\n",
       "      <td>2005-10-17</td>\n",
       "      <td>...</td>\n",
       "      <td>3</td>\n",
       "      <td>39750000.0</td>\n",
       "      <td>2010-09-05</td>\n",
       "      <td>2013-09-18</td>\n",
       "      <td>5</td>\n",
       "      <td>17</td>\n",
       "      <td>initial-importer</td>\n",
       "      <td>2007-05-25 06:51:27</td>\n",
       "      <td>2013-04-13 03:29:00</td>\n",
       "      <td>2005</td>\n",
       "    </tr>\n",
       "    <tr>\n",
       "      <th>5</th>\n",
       "      <td>c:10002</td>\n",
       "      <td>Company</td>\n",
       "      <td>10002</td>\n",
       "      <td>NaN</td>\n",
       "      <td>Synergie Media</td>\n",
       "      <td>synergie media</td>\n",
       "      <td>/company/synergie-media</td>\n",
       "      <td>advertising</td>\n",
       "      <td>operating</td>\n",
       "      <td>2007-06-27</td>\n",
       "      <td>...</td>\n",
       "      <td>0</td>\n",
       "      <td>0.0</td>\n",
       "      <td>NaN</td>\n",
       "      <td>NaN</td>\n",
       "      <td>0</td>\n",
       "      <td>2</td>\n",
       "      <td>NaN</td>\n",
       "      <td>2008-08-24 17:39:10</td>\n",
       "      <td>2008-09-06 14:19:19</td>\n",
       "      <td>2007</td>\n",
       "    </tr>\n",
       "    <tr>\n",
       "      <th>6</th>\n",
       "      <td>c:10003</td>\n",
       "      <td>Company</td>\n",
       "      <td>10003</td>\n",
       "      <td>NaN</td>\n",
       "      <td>Green Basti Ecosystems</td>\n",
       "      <td>green basti ecosystems</td>\n",
       "      <td>/company/green-basti-ecosystems</td>\n",
       "      <td>cleantech</td>\n",
       "      <td>operating</td>\n",
       "      <td>2008-08-20</td>\n",
       "      <td>...</td>\n",
       "      <td>0</td>\n",
       "      <td>0.0</td>\n",
       "      <td>NaN</td>\n",
       "      <td>NaN</td>\n",
       "      <td>0</td>\n",
       "      <td>0</td>\n",
       "      <td>NaN</td>\n",
       "      <td>2008-08-24 19:49:25</td>\n",
       "      <td>2010-04-22 23:48:20</td>\n",
       "      <td>2008</td>\n",
       "    </tr>\n",
       "    <tr>\n",
       "      <th>12</th>\n",
       "      <td>c:10009</td>\n",
       "      <td>Company</td>\n",
       "      <td>10009</td>\n",
       "      <td>NaN</td>\n",
       "      <td>dimension5 labs</td>\n",
       "      <td>dimension5 labs</td>\n",
       "      <td>/company/dimension5-labs</td>\n",
       "      <td>advertising</td>\n",
       "      <td>operating</td>\n",
       "      <td>2008-08-01</td>\n",
       "      <td>...</td>\n",
       "      <td>0</td>\n",
       "      <td>0.0</td>\n",
       "      <td>2008-08-22</td>\n",
       "      <td>2008-08-22</td>\n",
       "      <td>1</td>\n",
       "      <td>2</td>\n",
       "      <td>NaN</td>\n",
       "      <td>2008-08-24 21:54:55</td>\n",
       "      <td>2008-12-21 17:21:53</td>\n",
       "      <td>2008</td>\n",
       "    </tr>\n",
       "    <tr>\n",
       "      <th>13</th>\n",
       "      <td>c:1001</td>\n",
       "      <td>Company</td>\n",
       "      <td>1001</td>\n",
       "      <td>NaN</td>\n",
       "      <td>FriendFeed</td>\n",
       "      <td>friendfeed</td>\n",
       "      <td>/company/friendfeed</td>\n",
       "      <td>web</td>\n",
       "      <td>acquired</td>\n",
       "      <td>2007-10-01</td>\n",
       "      <td>...</td>\n",
       "      <td>1</td>\n",
       "      <td>5000000.0</td>\n",
       "      <td>2008-05-01</td>\n",
       "      <td>2012-09-13</td>\n",
       "      <td>3</td>\n",
       "      <td>14</td>\n",
       "      <td>initial-importer</td>\n",
       "      <td>2007-10-01 10:17:13</td>\n",
       "      <td>2013-03-13 21:44:15</td>\n",
       "      <td>2007</td>\n",
       "    </tr>\n",
       "  </tbody>\n",
       "</table>\n",
       "<p>5 rows × 41 columns</p>\n",
       "</div>"
      ],
      "text/plain": [
       "         id entity_type  entity_id parent_id                    name  \\\n",
       "0       c:1     Company          1       NaN                Wetpaint   \n",
       "5   c:10002     Company      10002       NaN          Synergie Media   \n",
       "6   c:10003     Company      10003       NaN  Green Basti Ecosystems   \n",
       "12  c:10009     Company      10009       NaN         dimension5 labs   \n",
       "13   c:1001     Company       1001       NaN              FriendFeed   \n",
       "\n",
       "           normalized_name                        permalink category_code  \\\n",
       "0                 wetpaint                /company/wetpaint           web   \n",
       "5           synergie media          /company/synergie-media   advertising   \n",
       "6   green basti ecosystems  /company/green-basti-ecosystems     cleantech   \n",
       "12         dimension5 labs         /company/dimension5-labs   advertising   \n",
       "13              friendfeed              /company/friendfeed           web   \n",
       "\n",
       "       status  founded_at  ... funding_rounds funding_total_usd  \\\n",
       "0   operating  2005-10-17  ...              3        39750000.0   \n",
       "5   operating  2007-06-27  ...              0               0.0   \n",
       "6   operating  2008-08-20  ...              0               0.0   \n",
       "12  operating  2008-08-01  ...              0               0.0   \n",
       "13   acquired  2007-10-01  ...              1         5000000.0   \n",
       "\n",
       "   first_milestone_at last_milestone_at milestones  relationships  \\\n",
       "0          2010-09-05        2013-09-18          5             17   \n",
       "5                 NaN               NaN          0              2   \n",
       "6                 NaN               NaN          0              0   \n",
       "12         2008-08-22        2008-08-22          1              2   \n",
       "13         2008-05-01        2012-09-13          3             14   \n",
       "\n",
       "          created_by           created_at           updated_at founded_at_year  \n",
       "0   initial-importer  2007-05-25 06:51:27  2013-04-13 03:29:00            2005  \n",
       "5                NaN  2008-08-24 17:39:10  2008-09-06 14:19:19            2007  \n",
       "6                NaN  2008-08-24 19:49:25  2010-04-22 23:48:20            2008  \n",
       "12               NaN  2008-08-24 21:54:55  2008-12-21 17:21:53            2008  \n",
       "13  initial-importer  2007-10-01 10:17:13  2013-03-13 21:44:15            2007  \n",
       "\n",
       "[5 rows x 41 columns]"
      ]
     },
     "execution_count": 4,
     "metadata": {},
     "output_type": "execute_result"
    }
   ],
   "source": [
    "companies = objects[\n",
    "    (objects['entity_type'] == 'Company')\n",
    "]\n",
    "companies = companies[~(\n",
    "   companies['category_code'].isnull() |\n",
    "   companies['country_code'].isnull() | \n",
    "   companies['founded_at'].isnull()\n",
    ")]\n",
    "companies['founded_at_year'] = pd.to_datetime(companies['founded_at']).apply(lambda x: x.year)\n",
    "\n",
    "\n",
    "\n",
    "companies.head()\n"
   ]
  },
  {
   "cell_type": "code",
   "execution_count": 5,
   "metadata": {},
   "outputs": [
    {
     "data": {
      "text/plain": [
       "array(['Company', 'FinancialOrg', 'Person', 'Product'], dtype=object)"
      ]
     },
     "execution_count": 5,
     "metadata": {},
     "output_type": "execute_result"
    }
   ],
   "source": [
    "objects['entity_type'].unique()"
   ]
  },
  {
   "cell_type": "code",
   "execution_count": null,
   "metadata": {},
   "outputs": [],
   "source": []
  },
  {
   "cell_type": "markdown",
   "metadata": {},
   "source": [
    "## Get funding rounds after 2000"
   ]
  },
  {
   "cell_type": "code",
   "execution_count": 6,
   "metadata": {},
   "outputs": [
    {
     "name": "stdout",
     "output_type": "stream",
     "text": [
      "<class 'pandas.core.frame.DataFrame'>\n",
      "RangeIndex: 52382 entries, 0 to 52381\n",
      "Data columns (total 25 columns):\n",
      " #   Column                    Non-Null Count  Dtype  \n",
      "---  ------                    --------------  -----  \n",
      " 0   index                     52382 non-null  int64  \n",
      " 1   id                        52382 non-null  int64  \n",
      " 2   funding_round_id          52382 non-null  int64  \n",
      " 3   object_id                 52382 non-null  object \n",
      " 4   funded_at                 52382 non-null  object \n",
      " 5   funding_round_type        52382 non-null  object \n",
      " 6   funding_round_code        52382 non-null  object \n",
      " 7   raised_amount_usd         52382 non-null  float64\n",
      " 8   raised_amount             52382 non-null  float64\n",
      " 9   raised_currency_code      49492 non-null  object \n",
      " 10  pre_money_valuation_usd   52382 non-null  float64\n",
      " 11  pre_money_valuation       52382 non-null  float64\n",
      " 12  pre_money_currency_code   26813 non-null  object \n",
      " 13  post_money_valuation_usd  52382 non-null  float64\n",
      " 14  post_money_valuation      52382 non-null  float64\n",
      " 15  post_money_currency_code  30370 non-null  object \n",
      " 16  participants              52382 non-null  int64  \n",
      " 17  is_first_round            52382 non-null  int64  \n",
      " 18  is_last_round             52382 non-null  int64  \n",
      " 19  source_url                40159 non-null  object \n",
      " 20  source_description        43193 non-null  object \n",
      " 21  created_by                47925 non-null  object \n",
      " 22  created_at                52382 non-null  object \n",
      " 23  updated_at                52382 non-null  object \n",
      " 24  funded_at_year            52382 non-null  int64  \n",
      "dtypes: float64(6), int64(7), object(12)\n",
      "memory usage: 10.0+ MB\n",
      "None\n"
     ]
    }
   ],
   "source": [
    "funding_rounds = pd.read_csv('fixed_dataset/funding_rounds.csv')\n",
    "funding_rounds = funding_rounds[~funding_rounds['funded_at'].isna() & ~funding_rounds['object_id'].isna()]\n",
    "funding_rounds.reset_index(inplace=True)\n",
    "funding_rounds['funded_at_year'] = pd.to_datetime(funding_rounds['funded_at']).apply(lambda x: int(x.year))\n",
    "print(funding_rounds.info())"
   ]
  },
  {
   "cell_type": "code",
   "execution_count": 7,
   "metadata": {},
   "outputs": [
    {
     "data": {
      "text/html": [
       "<div>\n",
       "<style scoped>\n",
       "    .dataframe tbody tr th:only-of-type {\n",
       "        vertical-align: middle;\n",
       "    }\n",
       "\n",
       "    .dataframe tbody tr th {\n",
       "        vertical-align: top;\n",
       "    }\n",
       "\n",
       "    .dataframe thead th {\n",
       "        text-align: right;\n",
       "    }\n",
       "</style>\n",
       "<table border=\"1\" class=\"dataframe\">\n",
       "  <thead>\n",
       "    <tr style=\"text-align: right;\">\n",
       "      <th></th>\n",
       "      <th>index</th>\n",
       "      <th>id</th>\n",
       "      <th>funding_round_id</th>\n",
       "      <th>object_id</th>\n",
       "      <th>funded_at</th>\n",
       "      <th>funding_round_type</th>\n",
       "      <th>funding_round_code</th>\n",
       "      <th>raised_amount_usd</th>\n",
       "      <th>raised_amount</th>\n",
       "      <th>raised_currency_code</th>\n",
       "      <th>...</th>\n",
       "      <th>post_money_currency_code</th>\n",
       "      <th>participants</th>\n",
       "      <th>is_first_round</th>\n",
       "      <th>is_last_round</th>\n",
       "      <th>source_url</th>\n",
       "      <th>source_description</th>\n",
       "      <th>created_by</th>\n",
       "      <th>created_at</th>\n",
       "      <th>updated_at</th>\n",
       "      <th>funded_at_year</th>\n",
       "    </tr>\n",
       "  </thead>\n",
       "  <tbody>\n",
       "    <tr>\n",
       "      <th>0</th>\n",
       "      <td>0</td>\n",
       "      <td>1</td>\n",
       "      <td>1</td>\n",
       "      <td>c:4</td>\n",
       "      <td>2006-12-01</td>\n",
       "      <td>series-b</td>\n",
       "      <td>b</td>\n",
       "      <td>8500000.0</td>\n",
       "      <td>8500000.0</td>\n",
       "      <td>USD</td>\n",
       "      <td>...</td>\n",
       "      <td>NaN</td>\n",
       "      <td>2</td>\n",
       "      <td>0</td>\n",
       "      <td>0</td>\n",
       "      <td>http://www.marketingvox.com/archives/2006/12/2...</td>\n",
       "      <td>NaN</td>\n",
       "      <td>initial-importer</td>\n",
       "      <td>2007-07-04 04:52:57</td>\n",
       "      <td>2008-02-27 23:14:29</td>\n",
       "      <td>2006</td>\n",
       "    </tr>\n",
       "    <tr>\n",
       "      <th>1</th>\n",
       "      <td>1</td>\n",
       "      <td>2</td>\n",
       "      <td>2</td>\n",
       "      <td>c:5</td>\n",
       "      <td>2004-09-01</td>\n",
       "      <td>angel</td>\n",
       "      <td>angel</td>\n",
       "      <td>500000.0</td>\n",
       "      <td>500000.0</td>\n",
       "      <td>USD</td>\n",
       "      <td>...</td>\n",
       "      <td>USD</td>\n",
       "      <td>2</td>\n",
       "      <td>0</td>\n",
       "      <td>1</td>\n",
       "      <td>NaN</td>\n",
       "      <td>NaN</td>\n",
       "      <td>initial-importer</td>\n",
       "      <td>2007-05-27 06:08:18</td>\n",
       "      <td>2013-06-28 20:07:23</td>\n",
       "      <td>2004</td>\n",
       "    </tr>\n",
       "    <tr>\n",
       "      <th>2</th>\n",
       "      <td>2</td>\n",
       "      <td>3</td>\n",
       "      <td>3</td>\n",
       "      <td>c:5</td>\n",
       "      <td>2005-05-01</td>\n",
       "      <td>series-a</td>\n",
       "      <td>a</td>\n",
       "      <td>12700000.0</td>\n",
       "      <td>12700000.0</td>\n",
       "      <td>USD</td>\n",
       "      <td>...</td>\n",
       "      <td>USD</td>\n",
       "      <td>3</td>\n",
       "      <td>0</td>\n",
       "      <td>0</td>\n",
       "      <td>http://www.techcrunch.com/2007/11/02/jim-breye...</td>\n",
       "      <td>Jim Breyer: Extra $500 Million Round For Faceb...</td>\n",
       "      <td>initial-importer</td>\n",
       "      <td>2007-05-27 06:09:10</td>\n",
       "      <td>2013-06-28 20:07:23</td>\n",
       "      <td>2005</td>\n",
       "    </tr>\n",
       "    <tr>\n",
       "      <th>3</th>\n",
       "      <td>3</td>\n",
       "      <td>4</td>\n",
       "      <td>4</td>\n",
       "      <td>c:5</td>\n",
       "      <td>2006-04-01</td>\n",
       "      <td>series-b</td>\n",
       "      <td>b</td>\n",
       "      <td>27500000.0</td>\n",
       "      <td>27500000.0</td>\n",
       "      <td>USD</td>\n",
       "      <td>...</td>\n",
       "      <td>USD</td>\n",
       "      <td>4</td>\n",
       "      <td>0</td>\n",
       "      <td>0</td>\n",
       "      <td>http://www.facebook.com/press/info.php?factsheet</td>\n",
       "      <td>Facebook Funding</td>\n",
       "      <td>initial-importer</td>\n",
       "      <td>2007-05-27 06:09:36</td>\n",
       "      <td>2013-06-28 20:07:24</td>\n",
       "      <td>2006</td>\n",
       "    </tr>\n",
       "    <tr>\n",
       "      <th>4</th>\n",
       "      <td>4</td>\n",
       "      <td>5</td>\n",
       "      <td>5</td>\n",
       "      <td>c:7299</td>\n",
       "      <td>2006-05-01</td>\n",
       "      <td>series-b</td>\n",
       "      <td>b</td>\n",
       "      <td>10500000.0</td>\n",
       "      <td>10500000.0</td>\n",
       "      <td>USD</td>\n",
       "      <td>...</td>\n",
       "      <td>NaN</td>\n",
       "      <td>2</td>\n",
       "      <td>0</td>\n",
       "      <td>0</td>\n",
       "      <td>http://www.techcrunch.com/2006/05/14/photobuck...</td>\n",
       "      <td>PhotoBucket Closes $10.5M From Trinity Ventures</td>\n",
       "      <td>initial-importer</td>\n",
       "      <td>2007-05-29 11:05:59</td>\n",
       "      <td>2008-04-16 17:09:12</td>\n",
       "      <td>2006</td>\n",
       "    </tr>\n",
       "  </tbody>\n",
       "</table>\n",
       "<p>5 rows × 25 columns</p>\n",
       "</div>"
      ],
      "text/plain": [
       "   index  id  funding_round_id object_id   funded_at funding_round_type  \\\n",
       "0      0   1                 1       c:4  2006-12-01           series-b   \n",
       "1      1   2                 2       c:5  2004-09-01              angel   \n",
       "2      2   3                 3       c:5  2005-05-01           series-a   \n",
       "3      3   4                 4       c:5  2006-04-01           series-b   \n",
       "4      4   5                 5    c:7299  2006-05-01           series-b   \n",
       "\n",
       "  funding_round_code  raised_amount_usd  raised_amount raised_currency_code  \\\n",
       "0                  b          8500000.0      8500000.0                  USD   \n",
       "1              angel           500000.0       500000.0                  USD   \n",
       "2                  a         12700000.0     12700000.0                  USD   \n",
       "3                  b         27500000.0     27500000.0                  USD   \n",
       "4                  b         10500000.0     10500000.0                  USD   \n",
       "\n",
       "   ...  post_money_currency_code  participants is_first_round  is_last_round  \\\n",
       "0  ...                       NaN             2              0              0   \n",
       "1  ...                       USD             2              0              1   \n",
       "2  ...                       USD             3              0              0   \n",
       "3  ...                       USD             4              0              0   \n",
       "4  ...                       NaN             2              0              0   \n",
       "\n",
       "                                          source_url  \\\n",
       "0  http://www.marketingvox.com/archives/2006/12/2...   \n",
       "1                                                NaN   \n",
       "2  http://www.techcrunch.com/2007/11/02/jim-breye...   \n",
       "3   http://www.facebook.com/press/info.php?factsheet   \n",
       "4  http://www.techcrunch.com/2006/05/14/photobuck...   \n",
       "\n",
       "                                  source_description        created_by  \\\n",
       "0                                                NaN  initial-importer   \n",
       "1                                                NaN  initial-importer   \n",
       "2  Jim Breyer: Extra $500 Million Round For Faceb...  initial-importer   \n",
       "3                                   Facebook Funding  initial-importer   \n",
       "4    PhotoBucket Closes $10.5M From Trinity Ventures  initial-importer   \n",
       "\n",
       "            created_at           updated_at funded_at_year  \n",
       "0  2007-07-04 04:52:57  2008-02-27 23:14:29           2006  \n",
       "1  2007-05-27 06:08:18  2013-06-28 20:07:23           2004  \n",
       "2  2007-05-27 06:09:10  2013-06-28 20:07:23           2005  \n",
       "3  2007-05-27 06:09:36  2013-06-28 20:07:24           2006  \n",
       "4  2007-05-29 11:05:59  2008-04-16 17:09:12           2006  \n",
       "\n",
       "[5 rows x 25 columns]"
      ]
     },
     "execution_count": 7,
     "metadata": {},
     "output_type": "execute_result"
    }
   ],
   "source": [
    "funding_rounds.head()"
   ]
  },
  {
   "cell_type": "code",
   "execution_count": 8,
   "metadata": {},
   "outputs": [
    {
     "data": {
      "text/plain": [
       "array(['series-b', 'angel', 'series-a', 'series-c+', 'venture', 'other',\n",
       "       'private-equity', 'post-ipo', 'crowdfunding'], dtype=object)"
      ]
     },
     "execution_count": 8,
     "metadata": {},
     "output_type": "execute_result"
    }
   ],
   "source": [
    "funding_rounds['funding_round_type'].unique()"
   ]
  },
  {
   "cell_type": "code",
   "execution_count": 9,
   "metadata": {},
   "outputs": [
    {
     "data": {
      "text/plain": [
       "Index(['id_x', 'entity_type', 'entity_id', 'parent_id', 'name',\n",
       "       'normalized_name', 'permalink', 'category_code', 'status', 'founded_at',\n",
       "       'closed_at', 'domain', 'homepage_url', 'twitter_username', 'logo_url',\n",
       "       'logo_width', 'logo_height', 'short_description', 'description',\n",
       "       'overview', 'tag_list', 'country_code', 'state_code', 'city', 'region',\n",
       "       'first_investment_at', 'last_investment_at', 'investment_rounds',\n",
       "       'invested_companies', 'first_funding_at', 'last_funding_at',\n",
       "       'funding_rounds', 'funding_total_usd', 'first_milestone_at',\n",
       "       'last_milestone_at', 'milestones', 'relationships', 'created_by_x',\n",
       "       'created_at_x', 'updated_at_x', 'index', 'id_y', 'funding_round_id',\n",
       "       'object_id', 'funded_at', 'funding_round_type', 'funding_round_code',\n",
       "       'raised_amount_usd', 'raised_amount', 'raised_currency_code',\n",
       "       'pre_money_valuation_usd', 'pre_money_valuation',\n",
       "       'pre_money_currency_code', 'post_money_valuation_usd',\n",
       "       'post_money_valuation', 'post_money_currency_code', 'participants',\n",
       "       'is_first_round', 'is_last_round', 'source_url', 'source_description',\n",
       "       'created_by_y', 'created_at_y', 'updated_at_y', 'funded_at_year'],\n",
       "      dtype='object')"
      ]
     },
     "execution_count": 9,
     "metadata": {},
     "output_type": "execute_result"
    }
   ],
   "source": [
    "obj_rounds = pd.merge(left=objects, right=funding_rounds, left_on='id', right_on='object_id')\n",
    "obj_rounds.columns\n",
    "# obj_rounds.groupby(by='entity_type', as_index='False')['id'].nunique('id')"
   ]
  },
  {
   "cell_type": "code",
   "execution_count": 10,
   "metadata": {},
   "outputs": [
    {
     "data": {
      "text/plain": [
       "118"
      ]
     },
     "execution_count": 10,
     "metadata": {},
     "output_type": "execute_result"
    }
   ],
   "source": [
    "obj_rounds['country_code'].nunique()"
   ]
  },
  {
   "cell_type": "code",
   "execution_count": 11,
   "metadata": {},
   "outputs": [
    {
     "data": {
      "text/plain": [
       "26314"
      ]
     },
     "execution_count": 11,
     "metadata": {},
     "output_type": "execute_result"
    }
   ],
   "source": [
    "bottom = obj_rounds['raised_amount_usd'].quantile(q=0.25)\n",
    "top = obj_rounds['raised_amount_usd'].quantile(q=0.75)\n",
    "iqr = obj_rounds[(obj_rounds['raised_amount_usd'] >= bottom) & (obj_rounds['raised_amount_usd'] <= top)]\n",
    "len(iqr)"
   ]
  },
  {
   "cell_type": "code",
   "execution_count": 12,
   "metadata": {},
   "outputs": [
    {
     "name": "stdout",
     "output_type": "stream",
     "text": [
      "52382\n"
     ]
    }
   ],
   "source": [
    "print(len(obj_rounds\n",
    "          ))"
   ]
  },
  {
   "cell_type": "code",
   "execution_count": 13,
   "metadata": {},
   "outputs": [],
   "source": [
    "leisure = ['games_video', 'photo_video', 'social', 'hospitality', 'sports', 'fashion', 'messaging', 'music']\n",
    "bizsupport = ['network_hosting', 'advertising', 'enterprise', 'consulting', 'analytics', 'public_relations', 'security', 'legal']\n",
    "building = ['cleantech', 'manufacturing', 'semiconductor', 'automotive', 'real_eastate', 'nanotech']\n",
    "petcare = ['pets']\n",
    "travel = ['travel', 'transportation']\n",
    "health = ['health', 'medical', 'biotech']\n",
    "other = ['web', 'other', 'mobile', 'software', 'finance', 'education', 'ecommerce', 'search', 'hardware', 'news', 'government', 'nonprofit', 'local',]"
   ]
  },
  {
   "cell_type": "code",
   "execution_count": 14,
   "metadata": {},
   "outputs": [],
   "source": [
    "# @udf(returnType=StringType())\n",
    "# def map_category_code(category_code):\n",
    "#     if category_code in leisure:\n",
    "#         return 'leisure'\n",
    "#     elif category_code in bizsupport:\n",
    "#         return 'bizsupport'\n",
    "#     elif category_code in building:\n",
    "#         return 'building'\n",
    "#     elif category_code in petcare:\n",
    "#         return 'petcare'\n",
    "#     elif category_code in travel:\n",
    "#         return 'travel'\n",
    "#     elif category_code in health:\n",
    "#         return 'health'\n",
    "#     else:\n",
    "#         return 'other'\n"
   ]
  },
  {
   "cell_type": "code",
   "execution_count": 15,
   "metadata": {},
   "outputs": [],
   "source": [
    "Africa = ['AGO', 'BDI', 'BEN', 'BWA', 'CIV', 'CMR', 'DZA', 'EGY', 'ETH', 'GHA', 'GIN', 'KEN', 'LSO', 'MAR', 'MDG', 'MUS', 'NAM', 'NER','NGA', 'REU','RWA', 'SDN','SEN', 'SLE', 'SOM','SWZ', 'SYC', 'TUN', 'TZA', 'UGA', 'ZAF', 'ZMB', 'ZWE']\n",
    "Asia = ['AFG', 'ARE', 'BGD', 'BHR', 'BRN', 'CHN', 'HKG', 'IDN', 'IND', 'IOT', 'IRN', 'IRQ', 'ISR','JOR', 'JPN', 'KAZ', 'KGZ', 'KHM', 'KOR', 'KWT','LAO', 'LBN', 'LKA', 'MAC', 'MDV', 'MMR', 'MYS', 'NPL', 'OMN', 'PAK', 'PCN','PHL','PRK','PST', 'QAT', 'SAU', 'SGP','SYR', 'THA', 'TJK', 'TWN', 'UZB', 'VNM', 'YEM']\n",
    "Europe = ['AIA', 'ALB', 'AND', 'ARM', 'AUT', 'AZE', 'BEL', 'BGR','BIH', 'BLR', 'CHE', 'CYP', 'CZE', 'DEU', 'DNK','ESP', 'EST', 'FIN', 'FRA', 'GBR', 'GEO', 'GIB', 'GLB', 'GRC', 'HRV', 'HUN', 'IRL', 'ISL', 'ITA', 'LIE', 'LTU','LUX', 'LVA', 'MCO', 'MDA', 'MKD', 'MLT', 'NLD', 'NOR', 'POL', 'PRT', 'ROM', 'RUS', 'SMR', 'SVK', 'SVN','SWE', 'TUR', 'UKR']\n",
    "North_America = ['ATG', 'BHS','BLZ', 'BMU', 'BRB', 'CAN', 'CRI','CUB','CYM', 'DMA', 'GRD', 'GTM', 'HND', 'HTI', 'JAM', 'MEX', 'MTQ', 'PAN', 'PRI', 'SLV', 'UMI','USA', 'VGB', 'VIR']\n",
    "South_America = ['ARG', 'BOL', 'BRA', 'CHL', 'COL', 'DOM', 'ECU', 'NIC', 'PER', 'PRY', 'SUR', 'TTO', 'URY','VEN', 'VCT']\n",
    "Other = ['ANT', 'ARA', 'AUS', 'CSS', 'FST', 'HMI','NCL', 'NFK','NRU', 'NZL']"
   ]
  },
  {
   "cell_type": "code",
   "execution_count": 16,
   "metadata": {},
   "outputs": [],
   "source": [
    "# @udf(returnType=StringType())\n",
    "# def map_country(country_code):\n",
    "#     if country_code in Africa:\n",
    "#         return 'Africa'\n",
    "#     elif country_code in Asia:\n",
    "#         return 'Asia'\n",
    "#     elif country_code in Europe:\n",
    "#         return 'Europe'\n",
    "#     elif country_code in North_America:\n",
    "#         return 'North_America'\n",
    "#     elif country_code in South_America:\n",
    "#         return 'South_America'\n",
    "#     else:\n",
    "#         return 'Other'\n",
    "    "
   ]
  },
  {
   "cell_type": "code",
   "execution_count": 17,
   "metadata": {},
   "outputs": [
    {
     "name": "stdout",
     "output_type": "stream",
     "text": [
      "<class 'pandas.core.frame.DataFrame'>\n",
      "Index: 5816 entries, 4 to 52353\n",
      "Data columns (total 65 columns):\n",
      " #   Column                    Non-Null Count  Dtype  \n",
      "---  ------                    --------------  -----  \n",
      " 0   id_x                      5816 non-null   object \n",
      " 1   entity_type               5816 non-null   object \n",
      " 2   entity_id                 5816 non-null   int64  \n",
      " 3   parent_id                 0 non-null      object \n",
      " 4   name                      5816 non-null   object \n",
      " 5   normalized_name           5816 non-null   object \n",
      " 6   permalink                 5816 non-null   object \n",
      " 7   category_code             5559 non-null   object \n",
      " 8   status                    5816 non-null   object \n",
      " 9   founded_at                4531 non-null   object \n",
      " 10  closed_at                 377 non-null    object \n",
      " 11  domain                    5644 non-null   object \n",
      " 12  homepage_url              5644 non-null   object \n",
      " 13  twitter_username          4116 non-null   object \n",
      " 14  logo_url                  5517 non-null   object \n",
      " 15  logo_width                5816 non-null   int64  \n",
      " 16  logo_height               5816 non-null   int64  \n",
      " 17  short_description         1217 non-null   object \n",
      " 18  description               4000 non-null   object \n",
      " 19  overview                  5730 non-null   object \n",
      " 20  tag_list                  3285 non-null   object \n",
      " 21  country_code              5248 non-null   object \n",
      " 22  state_code                2768 non-null   object \n",
      " 23  city                      5059 non-null   object \n",
      " 24  region                    5816 non-null   object \n",
      " 25  first_investment_at       45 non-null     object \n",
      " 26  last_investment_at        45 non-null     object \n",
      " 27  investment_rounds         5816 non-null   int64  \n",
      " 28  invested_companies        5816 non-null   int64  \n",
      " 29  first_funding_at          5816 non-null   object \n",
      " 30  last_funding_at           5816 non-null   object \n",
      " 31  funding_rounds            5816 non-null   int64  \n",
      " 32  funding_total_usd         5816 non-null   float64\n",
      " 33  first_milestone_at        3659 non-null   object \n",
      " 34  last_milestone_at         3659 non-null   object \n",
      " 35  milestones                5816 non-null   int64  \n",
      " 36  relationships             5816 non-null   int64  \n",
      " 37  created_by_x              4583 non-null   object \n",
      " 38  created_at_x              5816 non-null   object \n",
      " 39  updated_at_x              5816 non-null   object \n",
      " 40  index                     5816 non-null   int64  \n",
      " 41  id_y                      5816 non-null   int64  \n",
      " 42  funding_round_id          5816 non-null   int64  \n",
      " 43  object_id                 5816 non-null   object \n",
      " 44  funded_at                 5816 non-null   object \n",
      " 45  funding_round_type        5816 non-null   object \n",
      " 46  funding_round_code        5816 non-null   object \n",
      " 47  raised_amount_usd         5816 non-null   float64\n",
      " 48  raised_amount             5816 non-null   float64\n",
      " 49  raised_currency_code      2926 non-null   object \n",
      " 50  pre_money_valuation_usd   5816 non-null   float64\n",
      " 51  pre_money_valuation       5816 non-null   float64\n",
      " 52  pre_money_currency_code   2151 non-null   object \n",
      " 53  post_money_valuation_usd  5816 non-null   float64\n",
      " 54  post_money_valuation      5816 non-null   float64\n",
      " 55  post_money_currency_code  2926 non-null   object \n",
      " 56  participants              5816 non-null   int64  \n",
      " 57  is_first_round            5816 non-null   int64  \n",
      " 58  is_last_round             5816 non-null   int64  \n",
      " 59  source_url                3414 non-null   object \n",
      " 60  source_description        3843 non-null   object \n",
      " 61  created_by_y              4944 non-null   object \n",
      " 62  created_at_y              5816 non-null   object \n",
      " 63  updated_at_y              5816 non-null   object \n",
      " 64  funded_at_year            5816 non-null   int64  \n",
      "dtypes: float64(7), int64(15), object(43)\n",
      "memory usage: 2.9+ MB\n",
      "None\n"
     ]
    }
   ],
   "source": [
    "no_raised_money = obj_rounds[obj_rounds['raised_amount_usd'] <= 0]\n",
    "print(no_raised_money.info())"
   ]
  },
  {
   "cell_type": "code",
   "execution_count": 18,
   "metadata": {},
   "outputs": [
    {
     "data": {
      "text/plain": [
       "array([nan, 'USD', 'GBP', 'EUR', 'CAD', 'JPY', 'SEK', 'AUD', 'NIS'],\n",
       "      dtype=object)"
      ]
     },
     "execution_count": 18,
     "metadata": {},
     "output_type": "execute_result"
    }
   ],
   "source": [
    "no_raised_money['raised_currency_code'].unique()"
   ]
  },
  {
   "cell_type": "code",
   "execution_count": 19,
   "metadata": {},
   "outputs": [
    {
     "data": {
      "text/plain": [
       "0"
      ]
     },
     "execution_count": 19,
     "metadata": {},
     "output_type": "execute_result"
    }
   ],
   "source": [
    "len(no_raised_money[no_raised_money['raised_amount'].isna()])"
   ]
  },
  {
   "cell_type": "code",
   "execution_count": null,
   "metadata": {},
   "outputs": [],
   "source": []
  },
  {
   "cell_type": "code",
   "execution_count": 20,
   "metadata": {},
   "outputs": [
    {
     "data": {
      "text/plain": [
       "0.11103050666259402"
      ]
     },
     "execution_count": 20,
     "metadata": {},
     "output_type": "execute_result"
    }
   ],
   "source": [
    "5816 / 52382"
   ]
  },
  {
   "cell_type": "code",
   "execution_count": 21,
   "metadata": {},
   "outputs": [],
   "source": [
    "funding_rounds_after_2000 = funding_rounds[funding_rounds['funded_at_year'] > 2000].copy()\n",
    "funding_rounds_after_2000['raised_amount_mln_usd'] = funding_rounds_after_2000['raised_amount_usd'].apply(lambda x: round(x / 1e6, 2))"
   ]
  },
  {
   "cell_type": "code",
   "execution_count": 22,
   "metadata": {},
   "outputs": [
    {
     "data": {
      "text/plain": [
       "0     8.5\n",
       "1     0.5\n",
       "2    12.7\n",
       "3    27.5\n",
       "4    10.5\n",
       "Name: raised_amount_mln_usd, dtype: float64"
      ]
     },
     "execution_count": 22,
     "metadata": {},
     "output_type": "execute_result"
    }
   ],
   "source": [
    "funding_rounds_after_2000['raised_amount_mln_usd'].head()"
   ]
  },
  {
   "cell_type": "markdown",
   "metadata": {},
   "source": [
    "## Get info about employees"
   ]
  },
  {
   "cell_type": "code",
   "execution_count": 23,
   "metadata": {},
   "outputs": [
    {
     "name": "stdout",
     "output_type": "stream",
     "text": [
      "<class 'pandas.core.frame.DataFrame'>\n",
      "RangeIndex: 400588 entries, 0 to 400587\n",
      "Data columns (total 11 columns):\n",
      " #   Column                  Non-Null Count   Dtype \n",
      "---  ------                  --------------   ----- \n",
      " 0   id                      400588 non-null  int64 \n",
      " 1   relationship_id         400588 non-null  int64 \n",
      " 2   person_object_id        400588 non-null  object\n",
      " 3   relationship_object_id  400588 non-null  object\n",
      " 4   start_at                206257 non-null  object\n",
      " 5   end_at                  100593 non-null  object\n",
      " 6   is_past                 400588 non-null  int64 \n",
      " 7   sequence                400588 non-null  int64 \n",
      " 8   title                   387376 non-null  object\n",
      " 9   created_at              400588 non-null  object\n",
      " 10  updated_at              400588 non-null  object\n",
      "dtypes: int64(4), object(7)\n",
      "memory usage: 33.6+ MB\n",
      "None\n"
     ]
    }
   ],
   "source": [
    "relationships = pd.read_csv('fixed_dataset/relationships.csv')\n",
    "print(relationships.info())"
   ]
  },
  {
   "cell_type": "code",
   "execution_count": 24,
   "metadata": {},
   "outputs": [
    {
     "name": "stdout",
     "output_type": "stream",
     "text": [
      "<class 'pandas.core.frame.DataFrame'>\n",
      "RangeIndex: 109056 entries, 0 to 109055\n",
      "Data columns (total 8 columns):\n",
      " #   Column        Non-Null Count   Dtype \n",
      "---  ------        --------------   ----- \n",
      " 0   id            109056 non-null  int64 \n",
      " 1   object_id     109056 non-null  object\n",
      " 2   degree_type   97883 non-null   object\n",
      " 3   subject       80890 non-null   object\n",
      " 4   institution   109002 non-null  object\n",
      " 5   graduated_at  57691 non-null   object\n",
      " 6   created_at    109056 non-null  object\n",
      " 7   updated_at    109056 non-null  object\n",
      "dtypes: int64(1), object(7)\n",
      "memory usage: 6.7+ MB\n",
      "None\n"
     ]
    }
   ],
   "source": [
    "degrees = pd.read_csv('fixed_dataset/degrees.csv')\n",
    "print(degrees.info())"
   ]
  },
  {
   "cell_type": "code",
   "execution_count": 25,
   "metadata": {},
   "outputs": [],
   "source": [
    "top_degrees = degrees['degree_type'].value_counts().head(20).index.tolist()\n"
   ]
  },
  {
   "cell_type": "code",
   "execution_count": 26,
   "metadata": {},
   "outputs": [],
   "source": [
    "BA = [\n",
    "    \"BS\",\n",
    "    \"BA\",\n",
    "    \"BBA\",\n",
    "    \"BE\",\n",
    "    \"BTECH\",\n",
    "    \"BCOM\",\n",
    "    \"BFA\",\n",
    "    \"Bachelor\\x92s Degree\",\n",
    "    \"BENG\",\n",
    "    \"Bachelor of Arts (B.A.)\",\n",
    "    \"BASC\",\n",
    "    \"Bachelor of Science (B.S.)\",\n",
    "    \"Bachelor\\x92s degree\",\n",
    "    \"BSME\",\n",
    "    \"B.S.\",\n",
    "    \"Business Administration\",\n",
    "    \"Bachelor of Science (BS)\",\n",
    "    \"Bachelors\",\n",
    "    \"Bachelor of Science\",\n",
    "    \"BSc\",\n",
    "]"
   ]
  },
  {
   "cell_type": "code",
   "execution_count": 27,
   "metadata": {},
   "outputs": [],
   "source": [
    "def degree_mapping(degree_type):\n",
    "    if degree_type in ['BS', 'BA', 'BBA', 'BFA', 'BCOM', 'Bachelor of Arts (B.A.)', 'Bachelor of Science (B.S.)']:\n",
    "        return 'Balcheor'\n",
    "    elif degree_type in ['MBA', 'MS', 'MA', 'MD','MSE', 'Master Degree', 'Masters']:\n",
    "        pass"
   ]
  },
  {
   "cell_type": "code",
   "execution_count": 28,
   "metadata": {},
   "outputs": [
    {
     "data": {
      "text/plain": [
       "['BS',\n",
       " 'MBA',\n",
       " 'BA',\n",
       " 'MS',\n",
       " 'PhD',\n",
       " 'JD',\n",
       " 'MA',\n",
       " 'Degree',\n",
       " 'BBA',\n",
       " 'BE',\n",
       " 'MD',\n",
       " 'BTECH',\n",
       " 'Diploma',\n",
       " 'BCOM',\n",
       " 'BFA',\n",
       " 'LLB',\n",
       " 'MSE',\n",
       " 'MENG',\n",
       " 'Bachelor\\x92s Degree',\n",
       " 'BENG']"
      ]
     },
     "execution_count": 28,
     "metadata": {},
     "output_type": "execute_result"
    }
   ],
   "source": [
    "top_degrees"
   ]
  },
  {
   "cell_type": "code",
   "execution_count": 29,
   "metadata": {},
   "outputs": [
    {
     "data": {
      "text/plain": [
       "['BS',\n",
       " 'BA',\n",
       " 'BBA',\n",
       " 'BE',\n",
       " 'BTECH',\n",
       " 'BCOM',\n",
       " 'BFA',\n",
       " 'Bachelor\\x92s Degree',\n",
       " 'BENG',\n",
       " 'Bachelor of Arts (B.A.)',\n",
       " 'BASC',\n",
       " 'Bachelor of Science (B.S.)',\n",
       " 'Bachelor\\x92s degree',\n",
       " 'BSME',\n",
       " 'B.S.',\n",
       " 'Business Administration',\n",
       " 'Bachelor of Science (BS)',\n",
       " 'Bachelors',\n",
       " 'Bachelor of Science',\n",
       " 'BSc']"
      ]
     },
     "execution_count": 29,
     "metadata": {},
     "output_type": "execute_result"
    }
   ],
   "source": [
    "top_balcheors = degrees[degrees['degree_type'].notna() & degrees['degree_type'].str.startswith('B')]['degree_type'].value_counts().head(20).index.tolist()\n",
    "top_balcheors"
   ]
  },
  {
   "cell_type": "code",
   "execution_count": 30,
   "metadata": {},
   "outputs": [
    {
     "data": {
      "text/plain": [
       "['MBA',\n",
       " 'MS',\n",
       " 'MA',\n",
       " 'MD',\n",
       " 'MSE',\n",
       " 'MENG',\n",
       " 'Master Degree',\n",
       " 'MPHIL',\n",
       " 'Masters',\n",
       " 'Master of Business Administratio',\n",
       " 'MPA',\n",
       " 'Master\\x92s Degree',\n",
       " 'MPH',\n",
       " 'MSc',\n",
       " 'ME',\n",
       " 'MED',\n",
       " 'Master of Engineering',\n",
       " 'MPP',\n",
       " 'MCA',\n",
       " 'Marketing']"
      ]
     },
     "execution_count": 30,
     "metadata": {},
     "output_type": "execute_result"
    }
   ],
   "source": [
    "top_masters = degrees[degrees['degree_type'].notna() & degrees['degree_type'].str.startswith('M')]['degree_type'].value_counts().head(20).index.tolist()\n",
    "top_masters"
   ]
  },
  {
   "cell_type": "markdown",
   "metadata": {},
   "source": [
    "### Number of companies founded from 2000 by categories"
   ]
  },
  {
   "cell_type": "code",
   "execution_count": 31,
   "metadata": {},
   "outputs": [
    {
     "name": "stdout",
     "output_type": "stream",
     "text": [
      "<class 'pandas.core.frame.DataFrame'>\n",
      "Index: 53265 entries, 0 to 196552\n",
      "Data columns (total 41 columns):\n",
      " #   Column               Non-Null Count  Dtype  \n",
      "---  ------               --------------  -----  \n",
      " 0   id                   53265 non-null  object \n",
      " 1   entity_type          53265 non-null  object \n",
      " 2   entity_id            53265 non-null  int64  \n",
      " 3   parent_id            0 non-null      object \n",
      " 4   name                 53265 non-null  object \n",
      " 5   normalized_name      53265 non-null  object \n",
      " 6   permalink            53265 non-null  object \n",
      " 7   category_code        53265 non-null  object \n",
      " 8   status               53265 non-null  object \n",
      " 9   founded_at           53265 non-null  object \n",
      " 10  closed_at            1535 non-null   object \n",
      " 11  domain               52492 non-null  object \n",
      " 12  homepage_url         52492 non-null  object \n",
      " 13  twitter_username     39929 non-null  object \n",
      " 14  logo_url             48815 non-null  object \n",
      " 15  logo_width           53265 non-null  int64  \n",
      " 16  logo_height          53265 non-null  int64  \n",
      " 17  short_description    4954 non-null   object \n",
      " 18  description          42823 non-null  object \n",
      " 19  overview             52140 non-null  object \n",
      " 20  tag_list             40189 non-null  object \n",
      " 21  country_code         53265 non-null  object \n",
      " 22  state_code           29562 non-null  object \n",
      " 23  city                 51095 non-null  object \n",
      " 24  region               53265 non-null  object \n",
      " 25  first_investment_at  346 non-null    object \n",
      " 26  last_investment_at   346 non-null    object \n",
      " 27  investment_rounds    53265 non-null  int64  \n",
      " 28  invested_companies   53265 non-null  int64  \n",
      " 29  first_funding_at     19817 non-null  object \n",
      " 30  last_funding_at      19817 non-null  object \n",
      " 31  funding_rounds       53265 non-null  int64  \n",
      " 32  funding_total_usd    53265 non-null  float64\n",
      " 33  first_milestone_at   30100 non-null  object \n",
      " 34  last_milestone_at    30100 non-null  object \n",
      " 35  milestones           53265 non-null  int64  \n",
      " 36  relationships        53265 non-null  int64  \n",
      " 37  created_by           37159 non-null  object \n",
      " 38  created_at           53265 non-null  object \n",
      " 39  updated_at           53265 non-null  object \n",
      " 40  founded_at_year      53265 non-null  int64  \n",
      "dtypes: float64(1), int64(9), object(31)\n",
      "memory usage: 17.1+ MB\n",
      "None\n"
     ]
    }
   ],
   "source": [
    "companies_after_2000 = companies[companies['founded_at_year'] > 2000]\n",
    "print(companies_after_2000.info())"
   ]
  },
  {
   "cell_type": "code",
   "execution_count": 32,
   "metadata": {},
   "outputs": [],
   "source": [
    "top_categories = ['software', 'web', 'ecommerce', 'mobile', 'advertising']"
   ]
  },
  {
   "cell_type": "code",
   "execution_count": 33,
   "metadata": {},
   "outputs": [
    {
     "data": {
      "text/html": [
       "<div>\n",
       "<style scoped>\n",
       "    .dataframe tbody tr th:only-of-type {\n",
       "        vertical-align: middle;\n",
       "    }\n",
       "\n",
       "    .dataframe tbody tr th {\n",
       "        vertical-align: top;\n",
       "    }\n",
       "\n",
       "    .dataframe thead th {\n",
       "        text-align: right;\n",
       "    }\n",
       "</style>\n",
       "<table border=\"1\" class=\"dataframe\">\n",
       "  <thead>\n",
       "    <tr style=\"text-align: right;\">\n",
       "      <th></th>\n",
       "      <th>category_code</th>\n",
       "      <th>founded_at_year</th>\n",
       "      <th>id</th>\n",
       "      <th>cnt_companies</th>\n",
       "    </tr>\n",
       "  </thead>\n",
       "  <tbody>\n",
       "    <tr>\n",
       "      <th>0</th>\n",
       "      <td>advertising</td>\n",
       "      <td>2001</td>\n",
       "      <td>95</td>\n",
       "      <td>95</td>\n",
       "    </tr>\n",
       "    <tr>\n",
       "      <th>1</th>\n",
       "      <td>advertising</td>\n",
       "      <td>2002</td>\n",
       "      <td>69</td>\n",
       "      <td>69</td>\n",
       "    </tr>\n",
       "    <tr>\n",
       "      <th>2</th>\n",
       "      <td>advertising</td>\n",
       "      <td>2003</td>\n",
       "      <td>117</td>\n",
       "      <td>117</td>\n",
       "    </tr>\n",
       "    <tr>\n",
       "      <th>3</th>\n",
       "      <td>advertising</td>\n",
       "      <td>2004</td>\n",
       "      <td>112</td>\n",
       "      <td>112</td>\n",
       "    </tr>\n",
       "    <tr>\n",
       "      <th>4</th>\n",
       "      <td>advertising</td>\n",
       "      <td>2005</td>\n",
       "      <td>152</td>\n",
       "      <td>152</td>\n",
       "    </tr>\n",
       "  </tbody>\n",
       "</table>\n",
       "</div>"
      ],
      "text/plain": [
       "  category_code  founded_at_year   id  cnt_companies\n",
       "0   advertising             2001   95             95\n",
       "1   advertising             2002   69             69\n",
       "2   advertising             2003  117            117\n",
       "3   advertising             2004  112            112\n",
       "4   advertising             2005  152            152"
      ]
     },
     "execution_count": 33,
     "metadata": {},
     "output_type": "execute_result"
    }
   ],
   "source": [
    "companies_after_2000_by_category = companies_after_2000.groupby(by=['category_code', 'founded_at_year'], as_index=False)['id'].nunique()\n",
    "companies_after_2000_by_category['cnt_companies'] = companies_after_2000_by_category['id']\n",
    "companies_after_2000_by_category.head()"
   ]
  },
  {
   "cell_type": "code",
   "execution_count": 34,
   "metadata": {},
   "outputs": [],
   "source": [
    "companies_after_2000_by_top_category = companies_after_2000_by_category[companies_after_2000_by_category['category_code'].isin(top_categories)]"
   ]
  },
  {
   "cell_type": "code",
   "execution_count": 35,
   "metadata": {},
   "outputs": [
    {
     "data": {
      "image/png": "[encoded data removed]",
      "text/plain": [
       "<Figure size 640x480 with 1 Axes>"
      ]
     },
     "metadata": {},
     "output_type": "display_data"
    }
   ],
   "source": [
    "p = sns.barplot(x='founded_at_year', y='cnt_companies', data=companies_after_2000_by_top_category, hue='category_code')\n",
    "for item in p.get_xticklabels():\n",
    "    item.set_rotation(90)\n"
   ]
  },
  {
   "cell_type": "markdown",
   "metadata": {},
   "source": [
    "### Scatter plot of the relation between the biggest amont of funds between the time period from the founding of the company to the date of the round"
   ]
  },
  {
   "cell_type": "code",
   "execution_count": 36,
   "metadata": {},
   "outputs": [
    {
     "name": "stderr",
     "output_type": "stream",
     "text": [
      "/var/folders/p2/skh823fd5t5fcl9_fbmxvw24rb6_10/T/ipykernel_24397/3647154297.py:1: DeprecationWarning: DataFrameGroupBy.apply operated on the grouping columns. This behavior is deprecated, and in a future version of pandas the grouping columns will be excluded from the operation. Either pass `include_groups=False` to exclude the groupings or explicitly select the grouping columns after groupby to silence this warning.\n",
      "  max_raised_amount = funding_rounds_after_2000.groupby('object_id').apply(lambda x: x.loc[x['raised_amount_mln_usd'].idxmax()])\n"
     ]
    },
    {
     "data": {
      "text/html": [
       "<div>\n",
       "<style scoped>\n",
       "    .dataframe tbody tr th:only-of-type {\n",
       "        vertical-align: middle;\n",
       "    }\n",
       "\n",
       "    .dataframe tbody tr th {\n",
       "        vertical-align: top;\n",
       "    }\n",
       "\n",
       "    .dataframe thead th {\n",
       "        text-align: right;\n",
       "    }\n",
       "</style>\n",
       "<table border=\"1\" class=\"dataframe\">\n",
       "  <thead>\n",
       "    <tr style=\"text-align: right;\">\n",
       "      <th></th>\n",
       "      <th>object_id</th>\n",
       "      <th>raised_amount_mln_usd</th>\n",
       "      <th>funded_at_year</th>\n",
       "    </tr>\n",
       "  </thead>\n",
       "  <tbody>\n",
       "    <tr>\n",
       "      <th>0</th>\n",
       "      <td>c:1</td>\n",
       "      <td>25.0</td>\n",
       "      <td>2008</td>\n",
       "    </tr>\n",
       "    <tr>\n",
       "      <th>1</th>\n",
       "      <td>c:1001</td>\n",
       "      <td>5.0</td>\n",
       "      <td>2008</td>\n",
       "    </tr>\n",
       "    <tr>\n",
       "      <th>2</th>\n",
       "      <td>c:10014</td>\n",
       "      <td>0.0</td>\n",
       "      <td>2008</td>\n",
       "    </tr>\n",
       "    <tr>\n",
       "      <th>3</th>\n",
       "      <td>c:10015</td>\n",
       "      <td>43.0</td>\n",
       "      <td>2013</td>\n",
       "    </tr>\n",
       "    <tr>\n",
       "      <th>4</th>\n",
       "      <td>c:100155</td>\n",
       "      <td>6.5</td>\n",
       "      <td>2011</td>\n",
       "    </tr>\n",
       "  </tbody>\n",
       "</table>\n",
       "</div>"
      ],
      "text/plain": [
       "  object_id  raised_amount_mln_usd  funded_at_year\n",
       "0       c:1                   25.0            2008\n",
       "1    c:1001                    5.0            2008\n",
       "2   c:10014                    0.0            2008\n",
       "3   c:10015                   43.0            2013\n",
       "4  c:100155                    6.5            2011"
      ]
     },
     "execution_count": 36,
     "metadata": {},
     "output_type": "execute_result"
    }
   ],
   "source": [
    "max_raised_amount = funding_rounds_after_2000.groupby('object_id').apply(lambda x: x.loc[x['raised_amount_mln_usd'].idxmax()])\n",
    "max_raised_amount = max_raised_amount[['object_id', 'raised_amount_mln_usd', 'funded_at_year']]\n",
    "max_raised_amount.reset_index(drop=True, inplace=True)\n",
    "max_raised_amount.head()\n"
   ]
  },
  {
   "cell_type": "code",
   "execution_count": 37,
   "metadata": {},
   "outputs": [
    {
     "name": "stdout",
     "output_type": "stream",
     "text": [
      "<class 'pandas.core.frame.DataFrame'>\n",
      "RangeIndex: 22674 entries, 0 to 22673\n",
      "Data columns (total 44 columns):\n",
      " #   Column                 Non-Null Count  Dtype  \n",
      "---  ------                 --------------  -----  \n",
      " 0   id                     22674 non-null  object \n",
      " 1   entity_type            22674 non-null  object \n",
      " 2   entity_id              22674 non-null  int64  \n",
      " 3   parent_id              0 non-null      object \n",
      " 4   name                   22674 non-null  object \n",
      " 5   normalized_name        22674 non-null  object \n",
      " 6   permalink              22674 non-null  object \n",
      " 7   category_code          22674 non-null  object \n",
      " 8   status                 22674 non-null  object \n",
      " 9   founded_at             22674 non-null  object \n",
      " 10  closed_at              1345 non-null   object \n",
      " 11  domain                 22042 non-null  object \n",
      " 12  homepage_url           22042 non-null  object \n",
      " 13  twitter_username       15930 non-null  object \n",
      " 14  logo_url               21483 non-null  object \n",
      " 15  logo_width             22674 non-null  int64  \n",
      " 16  logo_height            22674 non-null  int64  \n",
      " 17  short_description      5180 non-null   object \n",
      " 18  description            15347 non-null  object \n",
      " 19  overview               22605 non-null  object \n",
      " 20  tag_list               11876 non-null  object \n",
      " 21  country_code           22674 non-null  object \n",
      " 22  state_code             15279 non-null  object \n",
      " 23  city                   22100 non-null  object \n",
      " 24  region                 22674 non-null  object \n",
      " 25  first_investment_at    203 non-null    object \n",
      " 26  last_investment_at     203 non-null    object \n",
      " 27  investment_rounds      22674 non-null  int64  \n",
      " 28  invested_companies     22674 non-null  int64  \n",
      " 29  first_funding_at       22674 non-null  object \n",
      " 30  last_funding_at        22674 non-null  object \n",
      " 31  funding_rounds         22674 non-null  int64  \n",
      " 32  funding_total_usd      22674 non-null  float64\n",
      " 33  first_milestone_at     14303 non-null  object \n",
      " 34  last_milestone_at      14303 non-null  object \n",
      " 35  milestones             22674 non-null  int64  \n",
      " 36  relationships          22674 non-null  int64  \n",
      " 37  created_by             18346 non-null  object \n",
      " 38  created_at             22674 non-null  object \n",
      " 39  updated_at             22674 non-null  object \n",
      " 40  founded_at_year        22674 non-null  int64  \n",
      " 41  object_id              22674 non-null  object \n",
      " 42  raised_amount_mln_usd  22674 non-null  float64\n",
      " 43  funded_at_year         22674 non-null  int64  \n",
      "dtypes: float64(2), int64(10), object(32)\n",
      "memory usage: 7.6+ MB\n",
      "None\n"
     ]
    }
   ],
   "source": [
    "max_raised_amount_by_company = pd.merge(left=companies, right=max_raised_amount, left_on='id', right_on='object_id')\n",
    "print(max_raised_amount_by_company.info())"
   ]
  },
  {
   "cell_type": "code",
   "execution_count": 38,
   "metadata": {},
   "outputs": [
    {
     "data": {
      "text/html": [
       "<div>\n",
       "<style scoped>\n",
       "    .dataframe tbody tr th:only-of-type {\n",
       "        vertical-align: middle;\n",
       "    }\n",
       "\n",
       "    .dataframe tbody tr th {\n",
       "        vertical-align: top;\n",
       "    }\n",
       "\n",
       "    .dataframe thead th {\n",
       "        text-align: right;\n",
       "    }\n",
       "</style>\n",
       "<table border=\"1\" class=\"dataframe\">\n",
       "  <thead>\n",
       "    <tr style=\"text-align: right;\">\n",
       "      <th></th>\n",
       "      <th>object_id</th>\n",
       "      <th>raised_amount_mln_usd</th>\n",
       "      <th>funded_at_year</th>\n",
       "      <th>founded_at_year</th>\n",
       "      <th>time_gap</th>\n",
       "    </tr>\n",
       "  </thead>\n",
       "  <tbody>\n",
       "    <tr>\n",
       "      <th>0</th>\n",
       "      <td>c:1</td>\n",
       "      <td>25.0</td>\n",
       "      <td>2008</td>\n",
       "      <td>2005</td>\n",
       "      <td>3</td>\n",
       "    </tr>\n",
       "    <tr>\n",
       "      <th>1</th>\n",
       "      <td>c:1001</td>\n",
       "      <td>5.0</td>\n",
       "      <td>2008</td>\n",
       "      <td>2007</td>\n",
       "      <td>1</td>\n",
       "    </tr>\n",
       "    <tr>\n",
       "      <th>2</th>\n",
       "      <td>c:10014</td>\n",
       "      <td>0.0</td>\n",
       "      <td>2008</td>\n",
       "      <td>2008</td>\n",
       "      <td>0</td>\n",
       "    </tr>\n",
       "    <tr>\n",
       "      <th>3</th>\n",
       "      <td>c:10015</td>\n",
       "      <td>43.0</td>\n",
       "      <td>2013</td>\n",
       "      <td>2007</td>\n",
       "      <td>6</td>\n",
       "    </tr>\n",
       "    <tr>\n",
       "      <th>4</th>\n",
       "      <td>c:100155</td>\n",
       "      <td>6.5</td>\n",
       "      <td>2011</td>\n",
       "      <td>2003</td>\n",
       "      <td>8</td>\n",
       "    </tr>\n",
       "  </tbody>\n",
       "</table>\n",
       "</div>"
      ],
      "text/plain": [
       "  object_id  raised_amount_mln_usd  funded_at_year  founded_at_year  time_gap\n",
       "0       c:1                   25.0            2008             2005         3\n",
       "1    c:1001                    5.0            2008             2007         1\n",
       "2   c:10014                    0.0            2008             2008         0\n",
       "3   c:10015                   43.0            2013             2007         6\n",
       "4  c:100155                    6.5            2011             2003         8"
      ]
     },
     "execution_count": 38,
     "metadata": {},
     "output_type": "execute_result"
    }
   ],
   "source": [
    "max_raised_amount_by_company['time_gap'] = max_raised_amount_by_company['funded_at_year'] - max_raised_amount_by_company['founded_at_year']\n",
    "max_raised_amount_by_company = max_raised_amount_by_company[['object_id', 'raised_amount_mln_usd', 'funded_at_year', 'founded_at_year', 'time_gap']]\n",
    "max_raised_amount_by_company.head()"
   ]
  },
  {
   "cell_type": "code",
   "execution_count": 39,
   "metadata": {},
   "outputs": [
    {
     "data": {
      "text/plain": [
       "Text(0.5, 0, 'time gap between founding and biggest round')"
      ]
     },
     "execution_count": 39,
     "metadata": {},
     "output_type": "execute_result"
    },
    {
     "data": {
      "image/png": "[encoded data removed]",
      "text/plain": [
       "<Figure size 640x480 with 1 Axes>"
      ]
     },
     "metadata": {},
     "output_type": "display_data"
    }
   ],
   "source": [
    "p = sns.scatterplot(data=max_raised_amount_by_company, x='time_gap', y='raised_amount_mln_usd')\n",
    "p.set_xlabel('time gap between founding and biggest round')"
   ]
  },
  {
   "cell_type": "markdown",
   "metadata": {},
   "source": [
    "### Get the info about degree of employees of top companies"
   ]
  },
  {
   "cell_type": "code",
   "execution_count": 40,
   "metadata": {},
   "outputs": [],
   "source": [
    "top_companies_by_usd = max_raised_amount_by_company.sort_values(by='raised_amount_mln_usd', ascending=False).head(100)"
   ]
  },
  {
   "cell_type": "code",
   "execution_count": 41,
   "metadata": {},
   "outputs": [
    {
     "data": {
      "text/html": [
       "<div>\n",
       "<style scoped>\n",
       "    .dataframe tbody tr th:only-of-type {\n",
       "        vertical-align: middle;\n",
       "    }\n",
       "\n",
       "    .dataframe tbody tr th {\n",
       "        vertical-align: top;\n",
       "    }\n",
       "\n",
       "    .dataframe thead th {\n",
       "        text-align: right;\n",
       "    }\n",
       "</style>\n",
       "<table border=\"1\" class=\"dataframe\">\n",
       "  <thead>\n",
       "    <tr style=\"text-align: right;\">\n",
       "      <th></th>\n",
       "      <th>object_id</th>\n",
       "      <th>raised_amount_mln_usd</th>\n",
       "      <th>funded_at_year</th>\n",
       "      <th>founded_at_year</th>\n",
       "      <th>time_gap</th>\n",
       "    </tr>\n",
       "  </thead>\n",
       "  <tbody>\n",
       "    <tr>\n",
       "      <th>746</th>\n",
       "      <td>c:13219</td>\n",
       "      <td>3200.0</td>\n",
       "      <td>2008</td>\n",
       "      <td>2003</td>\n",
       "      <td>5</td>\n",
       "    </tr>\n",
       "    <tr>\n",
       "      <th>9963</th>\n",
       "      <td>c:242735</td>\n",
       "      <td>2600.0</td>\n",
       "      <td>2013</td>\n",
       "      <td>2005</td>\n",
       "      <td>8</td>\n",
       "    </tr>\n",
       "    <tr>\n",
       "      <th>19778</th>\n",
       "      <td>c:64365</td>\n",
       "      <td>2400.0</td>\n",
       "      <td>2013</td>\n",
       "      <td>2007</td>\n",
       "      <td>6</td>\n",
       "    </tr>\n",
       "    <tr>\n",
       "      <th>17712</th>\n",
       "      <td>c:5</td>\n",
       "      <td>1500.0</td>\n",
       "      <td>2011</td>\n",
       "      <td>2004</td>\n",
       "      <td>7</td>\n",
       "    </tr>\n",
       "    <tr>\n",
       "      <th>20538</th>\n",
       "      <td>c:7060</td>\n",
       "      <td>1100.0</td>\n",
       "      <td>2012</td>\n",
       "      <td>1906</td>\n",
       "      <td>106</td>\n",
       "    </tr>\n",
       "  </tbody>\n",
       "</table>\n",
       "</div>"
      ],
      "text/plain": [
       "      object_id  raised_amount_mln_usd  funded_at_year  founded_at_year  \\\n",
       "746     c:13219                 3200.0            2008             2003   \n",
       "9963   c:242735                 2600.0            2013             2005   \n",
       "19778   c:64365                 2400.0            2013             2007   \n",
       "17712       c:5                 1500.0            2011             2004   \n",
       "20538    c:7060                 1100.0            2012             1906   \n",
       "\n",
       "       time_gap  \n",
       "746           5  \n",
       "9963          8  \n",
       "19778         6  \n",
       "17712         7  \n",
       "20538       106  "
      ]
     },
     "execution_count": 41,
     "metadata": {},
     "output_type": "execute_result"
    }
   ],
   "source": [
    "top_companies_by_usd.head()"
   ]
  },
  {
   "cell_type": "markdown",
   "metadata": {},
   "source": [
    "## Get info about raised money among funding round types"
   ]
  },
  {
   "cell_type": "code",
   "execution_count": 42,
   "metadata": {},
   "outputs": [
    {
     "data": {
      "text/html": [
       "<div>\n",
       "<style scoped>\n",
       "    .dataframe tbody tr th:only-of-type {\n",
       "        vertical-align: middle;\n",
       "    }\n",
       "\n",
       "    .dataframe tbody tr th {\n",
       "        vertical-align: top;\n",
       "    }\n",
       "\n",
       "    .dataframe thead th {\n",
       "        text-align: right;\n",
       "    }\n",
       "</style>\n",
       "<table border=\"1\" class=\"dataframe\">\n",
       "  <thead>\n",
       "    <tr style=\"text-align: right;\">\n",
       "      <th></th>\n",
       "      <th>index</th>\n",
       "      <th>id</th>\n",
       "      <th>funding_round_id</th>\n",
       "      <th>object_id</th>\n",
       "      <th>funded_at</th>\n",
       "      <th>funding_round_type</th>\n",
       "      <th>funding_round_code</th>\n",
       "      <th>raised_amount_usd</th>\n",
       "      <th>raised_amount</th>\n",
       "      <th>raised_currency_code</th>\n",
       "      <th>...</th>\n",
       "      <th>participants</th>\n",
       "      <th>is_first_round</th>\n",
       "      <th>is_last_round</th>\n",
       "      <th>source_url</th>\n",
       "      <th>source_description</th>\n",
       "      <th>created_by</th>\n",
       "      <th>created_at</th>\n",
       "      <th>updated_at</th>\n",
       "      <th>funded_at_year</th>\n",
       "      <th>raised_amount_mln_usd</th>\n",
       "    </tr>\n",
       "  </thead>\n",
       "  <tbody>\n",
       "    <tr>\n",
       "      <th>0</th>\n",
       "      <td>0</td>\n",
       "      <td>1</td>\n",
       "      <td>1</td>\n",
       "      <td>c:4</td>\n",
       "      <td>2006-12-01</td>\n",
       "      <td>series-b</td>\n",
       "      <td>b</td>\n",
       "      <td>8500000.0</td>\n",
       "      <td>8500000.0</td>\n",
       "      <td>USD</td>\n",
       "      <td>...</td>\n",
       "      <td>2</td>\n",
       "      <td>0</td>\n",
       "      <td>0</td>\n",
       "      <td>http://www.marketingvox.com/archives/2006/12/2...</td>\n",
       "      <td>NaN</td>\n",
       "      <td>initial-importer</td>\n",
       "      <td>2007-07-04 04:52:57</td>\n",
       "      <td>2008-02-27 23:14:29</td>\n",
       "      <td>2006</td>\n",
       "      <td>8.5</td>\n",
       "    </tr>\n",
       "    <tr>\n",
       "      <th>1</th>\n",
       "      <td>1</td>\n",
       "      <td>2</td>\n",
       "      <td>2</td>\n",
       "      <td>c:5</td>\n",
       "      <td>2004-09-01</td>\n",
       "      <td>angel</td>\n",
       "      <td>angel</td>\n",
       "      <td>500000.0</td>\n",
       "      <td>500000.0</td>\n",
       "      <td>USD</td>\n",
       "      <td>...</td>\n",
       "      <td>2</td>\n",
       "      <td>0</td>\n",
       "      <td>1</td>\n",
       "      <td>NaN</td>\n",
       "      <td>NaN</td>\n",
       "      <td>initial-importer</td>\n",
       "      <td>2007-05-27 06:08:18</td>\n",
       "      <td>2013-06-28 20:07:23</td>\n",
       "      <td>2004</td>\n",
       "      <td>0.5</td>\n",
       "    </tr>\n",
       "    <tr>\n",
       "      <th>2</th>\n",
       "      <td>2</td>\n",
       "      <td>3</td>\n",
       "      <td>3</td>\n",
       "      <td>c:5</td>\n",
       "      <td>2005-05-01</td>\n",
       "      <td>series-a</td>\n",
       "      <td>a</td>\n",
       "      <td>12700000.0</td>\n",
       "      <td>12700000.0</td>\n",
       "      <td>USD</td>\n",
       "      <td>...</td>\n",
       "      <td>3</td>\n",
       "      <td>0</td>\n",
       "      <td>0</td>\n",
       "      <td>http://www.techcrunch.com/2007/11/02/jim-breye...</td>\n",
       "      <td>Jim Breyer: Extra $500 Million Round For Faceb...</td>\n",
       "      <td>initial-importer</td>\n",
       "      <td>2007-05-27 06:09:10</td>\n",
       "      <td>2013-06-28 20:07:23</td>\n",
       "      <td>2005</td>\n",
       "      <td>12.7</td>\n",
       "    </tr>\n",
       "    <tr>\n",
       "      <th>3</th>\n",
       "      <td>3</td>\n",
       "      <td>4</td>\n",
       "      <td>4</td>\n",
       "      <td>c:5</td>\n",
       "      <td>2006-04-01</td>\n",
       "      <td>series-b</td>\n",
       "      <td>b</td>\n",
       "      <td>27500000.0</td>\n",
       "      <td>27500000.0</td>\n",
       "      <td>USD</td>\n",
       "      <td>...</td>\n",
       "      <td>4</td>\n",
       "      <td>0</td>\n",
       "      <td>0</td>\n",
       "      <td>http://www.facebook.com/press/info.php?factsheet</td>\n",
       "      <td>Facebook Funding</td>\n",
       "      <td>initial-importer</td>\n",
       "      <td>2007-05-27 06:09:36</td>\n",
       "      <td>2013-06-28 20:07:24</td>\n",
       "      <td>2006</td>\n",
       "      <td>27.5</td>\n",
       "    </tr>\n",
       "    <tr>\n",
       "      <th>4</th>\n",
       "      <td>4</td>\n",
       "      <td>5</td>\n",
       "      <td>5</td>\n",
       "      <td>c:7299</td>\n",
       "      <td>2006-05-01</td>\n",
       "      <td>series-b</td>\n",
       "      <td>b</td>\n",
       "      <td>10500000.0</td>\n",
       "      <td>10500000.0</td>\n",
       "      <td>USD</td>\n",
       "      <td>...</td>\n",
       "      <td>2</td>\n",
       "      <td>0</td>\n",
       "      <td>0</td>\n",
       "      <td>http://www.techcrunch.com/2006/05/14/photobuck...</td>\n",
       "      <td>PhotoBucket Closes $10.5M From Trinity Ventures</td>\n",
       "      <td>initial-importer</td>\n",
       "      <td>2007-05-29 11:05:59</td>\n",
       "      <td>2008-04-16 17:09:12</td>\n",
       "      <td>2006</td>\n",
       "      <td>10.5</td>\n",
       "    </tr>\n",
       "  </tbody>\n",
       "</table>\n",
       "<p>5 rows × 26 columns</p>\n",
       "</div>"
      ],
      "text/plain": [
       "   index  id  funding_round_id object_id   funded_at funding_round_type  \\\n",
       "0      0   1                 1       c:4  2006-12-01           series-b   \n",
       "1      1   2                 2       c:5  2004-09-01              angel   \n",
       "2      2   3                 3       c:5  2005-05-01           series-a   \n",
       "3      3   4                 4       c:5  2006-04-01           series-b   \n",
       "4      4   5                 5    c:7299  2006-05-01           series-b   \n",
       "\n",
       "  funding_round_code  raised_amount_usd  raised_amount raised_currency_code  \\\n",
       "0                  b          8500000.0      8500000.0                  USD   \n",
       "1              angel           500000.0       500000.0                  USD   \n",
       "2                  a         12700000.0     12700000.0                  USD   \n",
       "3                  b         27500000.0     27500000.0                  USD   \n",
       "4                  b         10500000.0     10500000.0                  USD   \n",
       "\n",
       "   ...  participants  is_first_round is_last_round  \\\n",
       "0  ...             2               0             0   \n",
       "1  ...             2               0             1   \n",
       "2  ...             3               0             0   \n",
       "3  ...             4               0             0   \n",
       "4  ...             2               0             0   \n",
       "\n",
       "                                          source_url  \\\n",
       "0  http://www.marketingvox.com/archives/2006/12/2...   \n",
       "1                                                NaN   \n",
       "2  http://www.techcrunch.com/2007/11/02/jim-breye...   \n",
       "3   http://www.facebook.com/press/info.php?factsheet   \n",
       "4  http://www.techcrunch.com/2006/05/14/photobuck...   \n",
       "\n",
       "                                  source_description        created_by  \\\n",
       "0                                                NaN  initial-importer   \n",
       "1                                                NaN  initial-importer   \n",
       "2  Jim Breyer: Extra $500 Million Round For Faceb...  initial-importer   \n",
       "3                                   Facebook Funding  initial-importer   \n",
       "4    PhotoBucket Closes $10.5M From Trinity Ventures  initial-importer   \n",
       "\n",
       "            created_at           updated_at  funded_at_year  \\\n",
       "0  2007-07-04 04:52:57  2008-02-27 23:14:29            2006   \n",
       "1  2007-05-27 06:08:18  2013-06-28 20:07:23            2004   \n",
       "2  2007-05-27 06:09:10  2013-06-28 20:07:23            2005   \n",
       "3  2007-05-27 06:09:36  2013-06-28 20:07:24            2006   \n",
       "4  2007-05-29 11:05:59  2008-04-16 17:09:12            2006   \n",
       "\n",
       "  raised_amount_mln_usd  \n",
       "0                   8.5  \n",
       "1                   0.5  \n",
       "2                  12.7  \n",
       "3                  27.5  \n",
       "4                  10.5  \n",
       "\n",
       "[5 rows x 26 columns]"
      ]
     },
     "execution_count": 42,
     "metadata": {},
     "output_type": "execute_result"
    }
   ],
   "source": [
    "funding_rounds_after_2000.head()"
   ]
  },
  {
   "cell_type": "code",
   "execution_count": 43,
   "metadata": {},
   "outputs": [
    {
     "data": {
      "image/png": "[encoded data removed]",
      "text/plain": [
       "<Figure size 640x480 with 1 Axes>"
      ]
     },
     "metadata": {},
     "output_type": "display_data"
    }
   ],
   "source": [
    "p = sns.boxplot(data=funding_rounds_after_2000[funding_rounds_after_2000['raised_amount_mln_usd'] < 500], x='funding_round_type', y='raised_amount_mln_usd')\n",
    "for item in p.get_xticklabels():\n",
    "    item.set_rotation(90)"
   ]
  },
  {
   "cell_type": "markdown",
   "metadata": {},
   "source": [
    "## Get info about popularity of different funding round types by years"
   ]
  },
  {
   "cell_type": "code",
   "execution_count": 44,
   "metadata": {},
   "outputs": [
    {
     "data": {
      "text/html": [
       "<div>\n",
       "<style scoped>\n",
       "    .dataframe tbody tr th:only-of-type {\n",
       "        vertical-align: middle;\n",
       "    }\n",
       "\n",
       "    .dataframe tbody tr th {\n",
       "        vertical-align: top;\n",
       "    }\n",
       "\n",
       "    .dataframe thead th {\n",
       "        text-align: right;\n",
       "    }\n",
       "</style>\n",
       "<table border=\"1\" class=\"dataframe\">\n",
       "  <thead>\n",
       "    <tr style=\"text-align: right;\">\n",
       "      <th></th>\n",
       "      <th>funded_at_year</th>\n",
       "      <th>funding_round_type</th>\n",
       "      <th>funding_round_id</th>\n",
       "    </tr>\n",
       "  </thead>\n",
       "  <tbody>\n",
       "    <tr>\n",
       "      <th>0</th>\n",
       "      <td>2001</td>\n",
       "      <td>angel</td>\n",
       "      <td>21</td>\n",
       "    </tr>\n",
       "    <tr>\n",
       "      <th>1</th>\n",
       "      <td>2001</td>\n",
       "      <td>other</td>\n",
       "      <td>5</td>\n",
       "    </tr>\n",
       "    <tr>\n",
       "      <th>2</th>\n",
       "      <td>2001</td>\n",
       "      <td>private-equity</td>\n",
       "      <td>1</td>\n",
       "    </tr>\n",
       "    <tr>\n",
       "      <th>3</th>\n",
       "      <td>2001</td>\n",
       "      <td>series-a</td>\n",
       "      <td>29</td>\n",
       "    </tr>\n",
       "    <tr>\n",
       "      <th>4</th>\n",
       "      <td>2001</td>\n",
       "      <td>series-b</td>\n",
       "      <td>13</td>\n",
       "    </tr>\n",
       "  </tbody>\n",
       "</table>\n",
       "</div>"
      ],
      "text/plain": [
       "   funded_at_year funding_round_type  funding_round_id\n",
       "0            2001              angel                21\n",
       "1            2001              other                 5\n",
       "2            2001     private-equity                 1\n",
       "3            2001           series-a                29\n",
       "4            2001           series-b                13"
      ]
     },
     "execution_count": 44,
     "metadata": {},
     "output_type": "execute_result"
    }
   ],
   "source": [
    "funding_round_type_per_year = funding_rounds_after_2000.groupby(['funded_at_year', 'funding_round_type'], as_index=False).agg({'funding_round_id': 'nunique'})\n",
    "funding_round_type_per_year.head()"
   ]
  },
  {
   "cell_type": "code",
   "execution_count": 45,
   "metadata": {},
   "outputs": [
    {
     "data": {
      "text/plain": [
       "Text(0, 0.5, 'number of funding rounds')"
      ]
     },
     "execution_count": 45,
     "metadata": {},
     "output_type": "execute_result"
    },
    {
     "data": {
      "image/png": "[encoded data removed]",
      "text/plain": [
       "<Figure size 640x480 with 1 Axes>"
      ]
     },
     "metadata": {},
     "output_type": "display_data"
    }
   ],
   "source": [
    "p = sns.lineplot(x='funded_at_year', y='funding_round_id', data=funding_round_type_per_year, hue='funding_round_type')\n",
    "for item in p.get_xticklabels():\n",
    "    item.set_rotation(90)\n",
    "p.set_xlabel('year')\n",
    "p.set_ylabel('number of funding rounds')\n"
   ]
  },
  {
   "cell_type": "markdown",
   "metadata": {},
   "source": [
    "## Get avg raised money by continent"
   ]
  },
  {
   "cell_type": "code",
   "execution_count": 46,
   "metadata": {},
   "outputs": [],
   "source": [
    "def map_country(country_code):\n",
    "    if country_code in Africa:\n",
    "        return 'Africa'\n",
    "    elif country_code in Asia:\n",
    "        return 'Asia'\n",
    "    elif country_code in Europe:\n",
    "        return 'Europe'\n",
    "    elif country_code in North_America:\n",
    "        return 'North_America'\n",
    "    elif country_code in South_America:\n",
    "        return 'South_America'\n",
    "    else:\n",
    "        return 'Other'"
   ]
  },
  {
   "cell_type": "code",
   "execution_count": 49,
   "metadata": {},
   "outputs": [
    {
     "data": {
      "text/plain": [
       "Index(['index', 'id', 'funding_round_id', 'object_id', 'funded_at',\n",
       "       'funding_round_type', 'funding_round_code', 'raised_amount_usd',\n",
       "       'raised_amount', 'raised_currency_code', 'pre_money_valuation_usd',\n",
       "       'pre_money_valuation', 'pre_money_currency_code',\n",
       "       'post_money_valuation_usd', 'post_money_valuation',\n",
       "       'post_money_currency_code', 'participants', 'is_first_round',\n",
       "       'is_last_round', 'source_url', 'source_description', 'created_by',\n",
       "       'created_at', 'updated_at', 'funded_at_year', 'raised_amount_mln_usd'],\n",
       "      dtype='object')"
      ]
     },
     "execution_count": 49,
     "metadata": {},
     "output_type": "execute_result"
    }
   ],
   "source": [
    "funding_rounds_after_2000.columns"
   ]
  },
  {
   "cell_type": "code",
   "execution_count": 50,
   "metadata": {},
   "outputs": [
    {
     "data": {
      "text/plain": [
       "35989"
      ]
     },
     "execution_count": 50,
     "metadata": {},
     "output_type": "execute_result"
    }
   ],
   "source": [
    "rounds_and_companies = pd.merge(left=companies_after_2000, right=funding_rounds_after_2000, left_on='id', right_on='object_id')\n",
    "len(rounds_and_companies)"
   ]
  },
  {
   "cell_type": "code",
   "execution_count": 52,
   "metadata": {},
   "outputs": [
    {
     "data": {
      "text/plain": [
       "Index(['id_x', 'entity_type', 'entity_id', 'parent_id', 'name',\n",
       "       'normalized_name', 'permalink', 'category_code', 'status', 'founded_at',\n",
       "       'closed_at', 'domain', 'homepage_url', 'twitter_username', 'logo_url',\n",
       "       'logo_width', 'logo_height', 'short_description', 'description',\n",
       "       'overview', 'tag_list', 'country_code', 'state_code', 'city', 'region',\n",
       "       'first_investment_at', 'last_investment_at', 'investment_rounds',\n",
       "       'invested_companies', 'first_funding_at', 'last_funding_at',\n",
       "       'funding_rounds', 'funding_total_usd', 'first_milestone_at',\n",
       "       'last_milestone_at', 'milestones', 'relationships', 'created_by_x',\n",
       "       'created_at_x', 'updated_at_x', 'founded_at_year', 'index', 'id_y',\n",
       "       'funding_round_id', 'object_id', 'funded_at', 'funding_round_type',\n",
       "       'funding_round_code', 'raised_amount_usd', 'raised_amount',\n",
       "       'raised_currency_code', 'pre_money_valuation_usd',\n",
       "       'pre_money_valuation', 'pre_money_currency_code',\n",
       "       'post_money_valuation_usd', 'post_money_valuation',\n",
       "       'post_money_currency_code', 'participants', 'is_first_round',\n",
       "       'is_last_round', 'source_url', 'source_description', 'created_by_y',\n",
       "       'created_at_y', 'updated_at_y', 'funded_at_year',\n",
       "       'raised_amount_mln_usd', 'continent'],\n",
       "      dtype='object')"
      ]
     },
     "execution_count": 52,
     "metadata": {},
     "output_type": "execute_result"
    }
   ],
   "source": [
    "rounds_and_companies.columns"
   ]
  },
  {
   "cell_type": "code",
   "execution_count": 51,
   "metadata": {},
   "outputs": [
    {
     "data": {
      "text/html": [
       "<div>\n",
       "<style scoped>\n",
       "    .dataframe tbody tr th:only-of-type {\n",
       "        vertical-align: middle;\n",
       "    }\n",
       "\n",
       "    .dataframe tbody tr th {\n",
       "        vertical-align: top;\n",
       "    }\n",
       "\n",
       "    .dataframe thead th {\n",
       "        text-align: right;\n",
       "    }\n",
       "</style>\n",
       "<table border=\"1\" class=\"dataframe\">\n",
       "  <thead>\n",
       "    <tr style=\"text-align: right;\">\n",
       "      <th></th>\n",
       "      <th>continent</th>\n",
       "      <th>country_code</th>\n",
       "    </tr>\n",
       "  </thead>\n",
       "  <tbody>\n",
       "    <tr>\n",
       "      <th>0</th>\n",
       "      <td>North_America</td>\n",
       "      <td>USA</td>\n",
       "    </tr>\n",
       "    <tr>\n",
       "      <th>1</th>\n",
       "      <td>North_America</td>\n",
       "      <td>USA</td>\n",
       "    </tr>\n",
       "    <tr>\n",
       "      <th>2</th>\n",
       "      <td>North_America</td>\n",
       "      <td>USA</td>\n",
       "    </tr>\n",
       "    <tr>\n",
       "      <th>3</th>\n",
       "      <td>North_America</td>\n",
       "      <td>USA</td>\n",
       "    </tr>\n",
       "    <tr>\n",
       "      <th>4</th>\n",
       "      <td>North_America</td>\n",
       "      <td>USA</td>\n",
       "    </tr>\n",
       "  </tbody>\n",
       "</table>\n",
       "</div>"
      ],
      "text/plain": [
       "       continent country_code\n",
       "0  North_America          USA\n",
       "1  North_America          USA\n",
       "2  North_America          USA\n",
       "3  North_America          USA\n",
       "4  North_America          USA"
      ]
     },
     "execution_count": 51,
     "metadata": {},
     "output_type": "execute_result"
    }
   ],
   "source": [
    "rounds_and_companies['continent'] = rounds_and_companies['country_code'].apply(lambda x: map_country(x))\n",
    "rounds_and_companies[['continent', 'country_code']].head()"
   ]
  },
  {
   "cell_type": "code",
   "execution_count": 60,
   "metadata": {},
   "outputs": [
    {
     "data": {
      "text/html": [
       "<div>\n",
       "<style scoped>\n",
       "    .dataframe tbody tr th:only-of-type {\n",
       "        vertical-align: middle;\n",
       "    }\n",
       "\n",
       "    .dataframe tbody tr th {\n",
       "        vertical-align: top;\n",
       "    }\n",
       "\n",
       "    .dataframe thead th {\n",
       "        text-align: right;\n",
       "    }\n",
       "</style>\n",
       "<table border=\"1\" class=\"dataframe\">\n",
       "  <thead>\n",
       "    <tr style=\"text-align: right;\">\n",
       "      <th></th>\n",
       "      <th>continent</th>\n",
       "      <th>funded_at_year</th>\n",
       "      <th>raised_amount_mln_usd</th>\n",
       "      <th>object_id</th>\n",
       "    </tr>\n",
       "  </thead>\n",
       "  <tbody>\n",
       "    <tr>\n",
       "      <th>0</th>\n",
       "      <td>Africa</td>\n",
       "      <td>2005</td>\n",
       "      <td>10.00</td>\n",
       "      <td>1</td>\n",
       "    </tr>\n",
       "    <tr>\n",
       "      <th>1</th>\n",
       "      <td>Africa</td>\n",
       "      <td>2007</td>\n",
       "      <td>4.48</td>\n",
       "      <td>3</td>\n",
       "    </tr>\n",
       "    <tr>\n",
       "      <th>2</th>\n",
       "      <td>Africa</td>\n",
       "      <td>2008</td>\n",
       "      <td>1.18</td>\n",
       "      <td>7</td>\n",
       "    </tr>\n",
       "    <tr>\n",
       "      <th>3</th>\n",
       "      <td>Africa</td>\n",
       "      <td>2009</td>\n",
       "      <td>32.86</td>\n",
       "      <td>11</td>\n",
       "    </tr>\n",
       "    <tr>\n",
       "      <th>4</th>\n",
       "      <td>Africa</td>\n",
       "      <td>2010</td>\n",
       "      <td>29.37</td>\n",
       "      <td>14</td>\n",
       "    </tr>\n",
       "  </tbody>\n",
       "</table>\n",
       "</div>"
      ],
      "text/plain": [
       "  continent  funded_at_year  raised_amount_mln_usd  object_id\n",
       "0    Africa            2005                  10.00          1\n",
       "1    Africa            2007                   4.48          3\n",
       "2    Africa            2008                   1.18          7\n",
       "3    Africa            2009                  32.86         11\n",
       "4    Africa            2010                  29.37         14"
      ]
     },
     "execution_count": 60,
     "metadata": {},
     "output_type": "execute_result"
    }
   ],
   "source": [
    "avg_raised_money_by_country = rounds_and_companies.groupby(by=['continent', 'funded_at_year'], as_index=False).agg({'raised_amount_mln_usd': 'sum', 'object_id': 'nunique'})\n",
    "avg_raised_money_by_country.head()"
   ]
  },
  {
   "cell_type": "code",
   "execution_count": 61,
   "metadata": {},
   "outputs": [],
   "source": [
    "avg_raised_money_by_country['avg_raised_money_mln_usd'] = avg_raised_money_by_country['raised_amount_mln_usd'] / avg_raised_money_by_country['object_id']"
   ]
  },
  {
   "cell_type": "code",
   "execution_count": 62,
   "metadata": {},
   "outputs": [
    {
     "name": "stdout",
     "output_type": "stream",
     "text": [
      "<class 'pandas.core.frame.DataFrame'>\n",
      "RangeIndex: 68 entries, 0 to 67\n",
      "Data columns (total 5 columns):\n",
      " #   Column                    Non-Null Count  Dtype  \n",
      "---  ------                    --------------  -----  \n",
      " 0   continent                 68 non-null     object \n",
      " 1   funded_at_year            68 non-null     int64  \n",
      " 2   raised_amount_mln_usd     68 non-null     float64\n",
      " 3   object_id                 68 non-null     int64  \n",
      " 4   avg_raised_money_mln_usd  68 non-null     float64\n",
      "dtypes: float64(2), int64(2), object(1)\n",
      "memory usage: 2.8+ KB\n",
      "None\n"
     ]
    }
   ],
   "source": [
    "print(avg_raised_money_by_country.info())"
   ]
  },
  {
   "cell_type": "code",
   "execution_count": 63,
   "metadata": {},
   "outputs": [
    {
     "data": {
      "text/html": [
       "<div>\n",
       "<style scoped>\n",
       "    .dataframe tbody tr th:only-of-type {\n",
       "        vertical-align: middle;\n",
       "    }\n",
       "\n",
       "    .dataframe tbody tr th {\n",
       "        vertical-align: top;\n",
       "    }\n",
       "\n",
       "    .dataframe thead th {\n",
       "        text-align: right;\n",
       "    }\n",
       "</style>\n",
       "<table border=\"1\" class=\"dataframe\">\n",
       "  <thead>\n",
       "    <tr style=\"text-align: right;\">\n",
       "      <th></th>\n",
       "      <th>continent</th>\n",
       "      <th>funded_at_year</th>\n",
       "      <th>raised_amount_mln_usd</th>\n",
       "      <th>object_id</th>\n",
       "      <th>avg_raised_money_mln_usd</th>\n",
       "    </tr>\n",
       "  </thead>\n",
       "  <tbody>\n",
       "    <tr>\n",
       "      <th>0</th>\n",
       "      <td>Africa</td>\n",
       "      <td>2005</td>\n",
       "      <td>10.00</td>\n",
       "      <td>1</td>\n",
       "      <td>10.000000</td>\n",
       "    </tr>\n",
       "    <tr>\n",
       "      <th>1</th>\n",
       "      <td>Africa</td>\n",
       "      <td>2007</td>\n",
       "      <td>4.48</td>\n",
       "      <td>3</td>\n",
       "      <td>1.493333</td>\n",
       "    </tr>\n",
       "    <tr>\n",
       "      <th>2</th>\n",
       "      <td>Africa</td>\n",
       "      <td>2008</td>\n",
       "      <td>1.18</td>\n",
       "      <td>7</td>\n",
       "      <td>0.168571</td>\n",
       "    </tr>\n",
       "    <tr>\n",
       "      <th>3</th>\n",
       "      <td>Africa</td>\n",
       "      <td>2009</td>\n",
       "      <td>32.86</td>\n",
       "      <td>11</td>\n",
       "      <td>2.987273</td>\n",
       "    </tr>\n",
       "    <tr>\n",
       "      <th>4</th>\n",
       "      <td>Africa</td>\n",
       "      <td>2010</td>\n",
       "      <td>29.37</td>\n",
       "      <td>14</td>\n",
       "      <td>2.097857</td>\n",
       "    </tr>\n",
       "  </tbody>\n",
       "</table>\n",
       "</div>"
      ],
      "text/plain": [
       "  continent  funded_at_year  raised_amount_mln_usd  object_id  \\\n",
       "0    Africa            2005                  10.00          1   \n",
       "1    Africa            2007                   4.48          3   \n",
       "2    Africa            2008                   1.18          7   \n",
       "3    Africa            2009                  32.86         11   \n",
       "4    Africa            2010                  29.37         14   \n",
       "\n",
       "   avg_raised_money_mln_usd  \n",
       "0                 10.000000  \n",
       "1                  1.493333  \n",
       "2                  0.168571  \n",
       "3                  2.987273  \n",
       "4                  2.097857  "
      ]
     },
     "execution_count": 63,
     "metadata": {},
     "output_type": "execute_result"
    }
   ],
   "source": [
    "avg_raised_money_by_country.head()"
   ]
  },
  {
   "cell_type": "code",
   "execution_count": 66,
   "metadata": {},
   "outputs": [
    {
     "data": {
      "text/plain": [
       "Text(0, 0.5, 'avg raised money in mln usd')"
      ]
     },
     "execution_count": 66,
     "metadata": {},
     "output_type": "execute_result"
    },
    {
     "data": {
      "image/png": "[encoded data removed]",
      "text/plain": [
       "<Figure size 640x480 with 1 Axes>"
      ]
     },
     "metadata": {},
     "output_type": "display_data"
    }
   ],
   "source": [
    "p = sns.barplot(data=avg_raised_money_by_country, x='funded_at_year', y='avg_raised_money_mln_usd', hue='continent')\n",
    "# for item in p.get_xticklabels():\n",
    "#     item.set_rotation(90)\n",
    "p.set_xlabel('year')\n",
    "p.set_ylabel('avg raised money in mln usd')\n"
   ]
  }
 ],
 "metadata": {
  "kernelspec": {
   "display_name": ".venv",
   "language": "python",
   "name": "python3"
  },
  "language_info": {
   "codemirror_mode": {
    "name": "ipython",
    "version": 3
   },
   "file_extension": ".py",
   "mimetype": "text/x-python",
   "name": "python",
   "nbconvert_exporter": "python",
   "pygments_lexer": "ipython3",
   "version": "3.12.2"
  }
 },
 "nbformat": 4,
 "nbformat_minor": 2
}
