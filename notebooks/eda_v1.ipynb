{
 "cells": [
  {
   "cell_type": "code",
   "execution_count": 10,
   "metadata": {},
   "outputs": [],
   "source": [
    "import pandas as pd\n",
    "import seaborn as sns"
   ]
  },
  {
   "cell_type": "code",
   "execution_count": 2,
   "metadata": {},
   "outputs": [
    {
     "name": "stderr",
     "output_type": "stream",
     "text": [
      "/var/folders/p2/skh823fd5t5fcl9_fbmxvw24rb6_10/T/ipykernel_60965/953361758.py:1: DtypeWarning: Columns (3,7,9,10,17,18,21,22,23,25,26,29,30,37) have mixed types. Specify dtype option on import or set low_memory=False.\n",
      "  objects = pd.read_csv('fixed_dataset/objects.csv')\n"
     ]
    },
    {
     "name": "stdout",
     "output_type": "stream",
     "text": [
      "<class 'pandas.core.frame.DataFrame'>\n",
      "RangeIndex: 462651 entries, 0 to 462650\n",
      "Data columns (total 40 columns):\n",
      " #   Column               Non-Null Count   Dtype  \n",
      "---  ------               --------------   -----  \n",
      " 0   id                   462651 non-null  object \n",
      " 1   entity_type          462651 non-null  object \n",
      " 2   entity_id            462651 non-null  int64  \n",
      " 3   parent_id            27715 non-null   object \n",
      " 4   name                 462647 non-null  object \n",
      " 5   normalized_name      462620 non-null  object \n",
      " 6   permalink            462651 non-null  object \n",
      " 7   category_code        123186 non-null  object \n",
      " 8   status               462651 non-null  object \n",
      " 9   founded_at           100441 non-null  object \n",
      " 10  closed_at            2809 non-null    object \n",
      " 11  domain               174942 non-null  object \n",
      " 12  homepage_url         174942 non-null  object \n",
      " 13  twitter_username     126089 non-null  object \n",
      " 14  logo_url             208850 non-null  object \n",
      " 15  logo_width           462651 non-null  int64  \n",
      " 16  logo_height          462651 non-null  int64  \n",
      " 17  short_description    7617 non-null    object \n",
      " 18  description          95005 non-null   object \n",
      " 19  overview             235235 non-null  object \n",
      " 20  tag_list             106496 non-null  object \n",
      " 21  country_code         95043 non-null   object \n",
      " 22  state_code           54760 non-null   object \n",
      " 23  city                 90684 non-null   object \n",
      " 24  region               462651 non-null  object \n",
      " 25  first_investment_at  16956 non-null   object \n",
      " 26  last_investment_at   16956 non-null   object \n",
      " 27  investment_rounds    462651 non-null  int64  \n",
      " 28  invested_companies   462651 non-null  int64  \n",
      " 29  first_funding_at     31507 non-null   object \n",
      " 30  last_funding_at      31507 non-null   object \n",
      " 31  funding_rounds       462651 non-null  int64  \n",
      " 32  funding_total_usd    462651 non-null  float64\n",
      " 33  first_milestone_at   100358 non-null  object \n",
      " 34  last_milestone_at    100358 non-null  object \n",
      " 35  milestones           462651 non-null  int64  \n",
      " 36  relationships        462651 non-null  int64  \n",
      " 37  created_by           339486 non-null  object \n",
      " 38  created_at           462591 non-null  object \n",
      " 39  updated_at           462651 non-null  object \n",
      "dtypes: float64(1), int64(8), object(31)\n",
      "memory usage: 141.2+ MB\n",
      "None\n"
     ]
    }
   ],
   "source": [
    "objects = pd.read_csv('fixed_dataset/objects.csv')\n",
    "print(objects.info())"
   ]
  },
  {
   "cell_type": "markdown",
   "metadata": {},
   "source": [
    "## Get Companies"
   ]
  },
  {
   "cell_type": "code",
   "execution_count": 4,
   "metadata": {},
   "outputs": [
    {
     "data": {
      "text/html": [
       "<div>\n",
       "<style scoped>\n",
       "    .dataframe tbody tr th:only-of-type {\n",
       "        vertical-align: middle;\n",
       "    }\n",
       "\n",
       "    .dataframe tbody tr th {\n",
       "        vertical-align: top;\n",
       "    }\n",
       "\n",
       "    .dataframe thead th {\n",
       "        text-align: right;\n",
       "    }\n",
       "</style>\n",
       "<table border=\"1\" class=\"dataframe\">\n",
       "  <thead>\n",
       "    <tr style=\"text-align: right;\">\n",
       "      <th></th>\n",
       "      <th>id</th>\n",
       "      <th>entity_type</th>\n",
       "      <th>entity_id</th>\n",
       "      <th>parent_id</th>\n",
       "      <th>name</th>\n",
       "      <th>normalized_name</th>\n",
       "      <th>permalink</th>\n",
       "      <th>category_code</th>\n",
       "      <th>status</th>\n",
       "      <th>founded_at</th>\n",
       "      <th>...</th>\n",
       "      <th>funding_rounds</th>\n",
       "      <th>funding_total_usd</th>\n",
       "      <th>first_milestone_at</th>\n",
       "      <th>last_milestone_at</th>\n",
       "      <th>milestones</th>\n",
       "      <th>relationships</th>\n",
       "      <th>created_by</th>\n",
       "      <th>created_at</th>\n",
       "      <th>updated_at</th>\n",
       "      <th>founded_at_year</th>\n",
       "    </tr>\n",
       "  </thead>\n",
       "  <tbody>\n",
       "    <tr>\n",
       "      <th>0</th>\n",
       "      <td>c:1</td>\n",
       "      <td>Company</td>\n",
       "      <td>1</td>\n",
       "      <td>NaN</td>\n",
       "      <td>Wetpaint</td>\n",
       "      <td>wetpaint</td>\n",
       "      <td>/company/wetpaint</td>\n",
       "      <td>web</td>\n",
       "      <td>operating</td>\n",
       "      <td>2005-10-17</td>\n",
       "      <td>...</td>\n",
       "      <td>3</td>\n",
       "      <td>39750000.0</td>\n",
       "      <td>2010-09-05</td>\n",
       "      <td>2013-09-18</td>\n",
       "      <td>5</td>\n",
       "      <td>17</td>\n",
       "      <td>initial-importer</td>\n",
       "      <td>2007-05-25 06:51:27</td>\n",
       "      <td>2013-04-13 03:29:00</td>\n",
       "      <td>2005</td>\n",
       "    </tr>\n",
       "    <tr>\n",
       "      <th>5</th>\n",
       "      <td>c:10002</td>\n",
       "      <td>Company</td>\n",
       "      <td>10002</td>\n",
       "      <td>NaN</td>\n",
       "      <td>Synergie Media</td>\n",
       "      <td>synergie media</td>\n",
       "      <td>/company/synergie-media</td>\n",
       "      <td>advertising</td>\n",
       "      <td>operating</td>\n",
       "      <td>2007-06-27</td>\n",
       "      <td>...</td>\n",
       "      <td>0</td>\n",
       "      <td>0.0</td>\n",
       "      <td>NaN</td>\n",
       "      <td>NaN</td>\n",
       "      <td>0</td>\n",
       "      <td>2</td>\n",
       "      <td>NaN</td>\n",
       "      <td>2008-08-24 17:39:10</td>\n",
       "      <td>2008-09-06 14:19:19</td>\n",
       "      <td>2007</td>\n",
       "    </tr>\n",
       "    <tr>\n",
       "      <th>6</th>\n",
       "      <td>c:10003</td>\n",
       "      <td>Company</td>\n",
       "      <td>10003</td>\n",
       "      <td>NaN</td>\n",
       "      <td>Green Basti Ecosystems</td>\n",
       "      <td>green basti ecosystems</td>\n",
       "      <td>/company/green-basti-ecosystems</td>\n",
       "      <td>cleantech</td>\n",
       "      <td>operating</td>\n",
       "      <td>2008-08-20</td>\n",
       "      <td>...</td>\n",
       "      <td>0</td>\n",
       "      <td>0.0</td>\n",
       "      <td>NaN</td>\n",
       "      <td>NaN</td>\n",
       "      <td>0</td>\n",
       "      <td>0</td>\n",
       "      <td>NaN</td>\n",
       "      <td>2008-08-24 19:49:25</td>\n",
       "      <td>2010-04-22 23:48:20</td>\n",
       "      <td>2008</td>\n",
       "    </tr>\n",
       "    <tr>\n",
       "      <th>12</th>\n",
       "      <td>c:10009</td>\n",
       "      <td>Company</td>\n",
       "      <td>10009</td>\n",
       "      <td>NaN</td>\n",
       "      <td>dimension5 labs</td>\n",
       "      <td>dimension5 labs</td>\n",
       "      <td>/company/dimension5-labs</td>\n",
       "      <td>advertising</td>\n",
       "      <td>operating</td>\n",
       "      <td>2008-08-01</td>\n",
       "      <td>...</td>\n",
       "      <td>0</td>\n",
       "      <td>0.0</td>\n",
       "      <td>2008-08-22</td>\n",
       "      <td>2008-08-22</td>\n",
       "      <td>1</td>\n",
       "      <td>2</td>\n",
       "      <td>NaN</td>\n",
       "      <td>2008-08-24 21:54:55</td>\n",
       "      <td>2008-12-21 17:21:53</td>\n",
       "      <td>2008</td>\n",
       "    </tr>\n",
       "    <tr>\n",
       "      <th>13</th>\n",
       "      <td>c:1001</td>\n",
       "      <td>Company</td>\n",
       "      <td>1001</td>\n",
       "      <td>NaN</td>\n",
       "      <td>FriendFeed</td>\n",
       "      <td>friendfeed</td>\n",
       "      <td>/company/friendfeed</td>\n",
       "      <td>web</td>\n",
       "      <td>acquired</td>\n",
       "      <td>2007-10-01</td>\n",
       "      <td>...</td>\n",
       "      <td>1</td>\n",
       "      <td>5000000.0</td>\n",
       "      <td>2008-05-01</td>\n",
       "      <td>2012-09-13</td>\n",
       "      <td>3</td>\n",
       "      <td>14</td>\n",
       "      <td>initial-importer</td>\n",
       "      <td>2007-10-01 10:17:13</td>\n",
       "      <td>2013-03-13 21:44:15</td>\n",
       "      <td>2007</td>\n",
       "    </tr>\n",
       "  </tbody>\n",
       "</table>\n",
       "<p>5 rows × 41 columns</p>\n",
       "</div>"
      ],
      "text/plain": [
       "         id entity_type  entity_id parent_id                    name  \\\n",
       "0       c:1     Company          1       NaN                Wetpaint   \n",
       "5   c:10002     Company      10002       NaN          Synergie Media   \n",
       "6   c:10003     Company      10003       NaN  Green Basti Ecosystems   \n",
       "12  c:10009     Company      10009       NaN         dimension5 labs   \n",
       "13   c:1001     Company       1001       NaN              FriendFeed   \n",
       "\n",
       "           normalized_name                        permalink category_code  \\\n",
       "0                 wetpaint                /company/wetpaint           web   \n",
       "5           synergie media          /company/synergie-media   advertising   \n",
       "6   green basti ecosystems  /company/green-basti-ecosystems     cleantech   \n",
       "12         dimension5 labs         /company/dimension5-labs   advertising   \n",
       "13              friendfeed              /company/friendfeed           web   \n",
       "\n",
       "       status  founded_at  ... funding_rounds funding_total_usd  \\\n",
       "0   operating  2005-10-17  ...              3        39750000.0   \n",
       "5   operating  2007-06-27  ...              0               0.0   \n",
       "6   operating  2008-08-20  ...              0               0.0   \n",
       "12  operating  2008-08-01  ...              0               0.0   \n",
       "13   acquired  2007-10-01  ...              1         5000000.0   \n",
       "\n",
       "   first_milestone_at last_milestone_at milestones  relationships  \\\n",
       "0          2010-09-05        2013-09-18          5             17   \n",
       "5                 NaN               NaN          0              2   \n",
       "6                 NaN               NaN          0              0   \n",
       "12         2008-08-22        2008-08-22          1              2   \n",
       "13         2008-05-01        2012-09-13          3             14   \n",
       "\n",
       "          created_by           created_at           updated_at founded_at_year  \n",
       "0   initial-importer  2007-05-25 06:51:27  2013-04-13 03:29:00            2005  \n",
       "5                NaN  2008-08-24 17:39:10  2008-09-06 14:19:19            2007  \n",
       "6                NaN  2008-08-24 19:49:25  2010-04-22 23:48:20            2008  \n",
       "12               NaN  2008-08-24 21:54:55  2008-12-21 17:21:53            2008  \n",
       "13  initial-importer  2007-10-01 10:17:13  2013-03-13 21:44:15            2007  \n",
       "\n",
       "[5 rows x 41 columns]"
      ]
     },
     "execution_count": 4,
     "metadata": {},
     "output_type": "execute_result"
    }
   ],
   "source": [
    "companies = objects[\n",
    "    (objects['entity_type'] == 'Company')\n",
    "]\n",
    "companies = companies[~(\n",
    "   companies['category_code'].isnull() |\n",
    "   companies['country_code'].isnull() | \n",
    "   companies['founded_at'].isnull()\n",
    ")]\n",
    "companies['founded_at_year'] = pd.to_datetime(companies['founded_at']).apply(lambda x: x.year)\n",
    "\n",
    "\n",
    "\n",
    "companies.head()\n"
   ]
  },
  {
   "cell_type": "markdown",
   "metadata": {},
   "source": [
    "## Get funding rounds after 2000"
   ]
  },
  {
   "cell_type": "code",
   "execution_count": 27,
   "metadata": {},
   "outputs": [
    {
     "name": "stdout",
     "output_type": "stream",
     "text": [
      "<class 'pandas.core.frame.DataFrame'>\n",
      "RangeIndex: 52382 entries, 0 to 52381\n",
      "Data columns (total 25 columns):\n",
      " #   Column                    Non-Null Count  Dtype  \n",
      "---  ------                    --------------  -----  \n",
      " 0   index                     52382 non-null  int64  \n",
      " 1   id                        52382 non-null  int64  \n",
      " 2   funding_round_id          52382 non-null  int64  \n",
      " 3   object_id                 52382 non-null  object \n",
      " 4   funded_at                 52382 non-null  object \n",
      " 5   funding_round_type        52382 non-null  object \n",
      " 6   funding_round_code        52382 non-null  object \n",
      " 7   raised_amount_usd         52382 non-null  float64\n",
      " 8   raised_amount             52382 non-null  float64\n",
      " 9   raised_currency_code      49492 non-null  object \n",
      " 10  pre_money_valuation_usd   52382 non-null  float64\n",
      " 11  pre_money_valuation       52382 non-null  float64\n",
      " 12  pre_money_currency_code   26813 non-null  object \n",
      " 13  post_money_valuation_usd  52382 non-null  float64\n",
      " 14  post_money_valuation      52382 non-null  float64\n",
      " 15  post_money_currency_code  30370 non-null  object \n",
      " 16  participants              52382 non-null  int64  \n",
      " 17  is_first_round            52382 non-null  int64  \n",
      " 18  is_last_round             52382 non-null  int64  \n",
      " 19  source_url                40159 non-null  object \n",
      " 20  source_description        43193 non-null  object \n",
      " 21  created_by                47925 non-null  object \n",
      " 22  created_at                52382 non-null  object \n",
      " 23  updated_at                52382 non-null  object \n",
      " 24  funded_at_year            52382 non-null  int64  \n",
      "dtypes: float64(6), int64(7), object(12)\n",
      "memory usage: 10.0+ MB\n",
      "None\n"
     ]
    }
   ],
   "source": [
    "funding_rounds = pd.read_csv('fixed_dataset/funding_rounds.csv')\n",
    "funding_rounds = funding_rounds[~funding_rounds['funded_at'].isna() & ~funding_rounds['object_id'].isna()]\n",
    "funding_rounds.reset_index(inplace=True)\n",
    "funding_rounds['funded_at_year'] = pd.to_datetime(funding_rounds['funded_at']).apply(lambda x: int(x.year))\n",
    "print(funding_rounds.info())"
   ]
  },
  {
   "cell_type": "code",
   "execution_count": 30,
   "metadata": {},
   "outputs": [],
   "source": [
    "funding_rounds_after_2000 = funding_rounds[funding_rounds['funded_at_year'] > 2000].copy()\n",
    "funding_rounds_after_2000['raised_amount_mln_usd'] = funding_rounds_after_2000['raised_amount_usd'].apply(lambda x: round(x / 1e6, 2))"
   ]
  },
  {
   "cell_type": "code",
   "execution_count": 32,
   "metadata": {},
   "outputs": [
    {
     "data": {
      "text/plain": [
       "0     8.5\n",
       "1     0.5\n",
       "2    12.7\n",
       "3    27.5\n",
       "4    10.5\n",
       "Name: raised_amount_mln_usd, dtype: float64"
      ]
     },
     "execution_count": 32,
     "metadata": {},
     "output_type": "execute_result"
    }
   ],
   "source": [
    "funding_rounds_after_2000['raised_amount_mln_usd'].head()"
   ]
  },
  {
   "cell_type": "markdown",
   "metadata": {},
   "source": [
    "### Number of companies founded from 2000 by categories"
   ]
  },
  {
   "cell_type": "code",
   "execution_count": 7,
   "metadata": {},
   "outputs": [
    {
     "name": "stdout",
     "output_type": "stream",
     "text": [
      "<class 'pandas.core.frame.DataFrame'>\n",
      "Index: 53265 entries, 0 to 196552\n",
      "Data columns (total 41 columns):\n",
      " #   Column               Non-Null Count  Dtype  \n",
      "---  ------               --------------  -----  \n",
      " 0   id                   53265 non-null  object \n",
      " 1   entity_type          53265 non-null  object \n",
      " 2   entity_id            53265 non-null  int64  \n",
      " 3   parent_id            0 non-null      object \n",
      " 4   name                 53265 non-null  object \n",
      " 5   normalized_name      53265 non-null  object \n",
      " 6   permalink            53265 non-null  object \n",
      " 7   category_code        53265 non-null  object \n",
      " 8   status               53265 non-null  object \n",
      " 9   founded_at           53265 non-null  object \n",
      " 10  closed_at            1535 non-null   object \n",
      " 11  domain               52492 non-null  object \n",
      " 12  homepage_url         52492 non-null  object \n",
      " 13  twitter_username     39929 non-null  object \n",
      " 14  logo_url             48815 non-null  object \n",
      " 15  logo_width           53265 non-null  int64  \n",
      " 16  logo_height          53265 non-null  int64  \n",
      " 17  short_description    4954 non-null   object \n",
      " 18  description          42823 non-null  object \n",
      " 19  overview             52140 non-null  object \n",
      " 20  tag_list             40189 non-null  object \n",
      " 21  country_code         53265 non-null  object \n",
      " 22  state_code           29562 non-null  object \n",
      " 23  city                 51095 non-null  object \n",
      " 24  region               53265 non-null  object \n",
      " 25  first_investment_at  346 non-null    object \n",
      " 26  last_investment_at   346 non-null    object \n",
      " 27  investment_rounds    53265 non-null  int64  \n",
      " 28  invested_companies   53265 non-null  int64  \n",
      " 29  first_funding_at     19817 non-null  object \n",
      " 30  last_funding_at      19817 non-null  object \n",
      " 31  funding_rounds       53265 non-null  int64  \n",
      " 32  funding_total_usd    53265 non-null  float64\n",
      " 33  first_milestone_at   30100 non-null  object \n",
      " 34  last_milestone_at    30100 non-null  object \n",
      " 35  milestones           53265 non-null  int64  \n",
      " 36  relationships        53265 non-null  int64  \n",
      " 37  created_by           37159 non-null  object \n",
      " 38  created_at           53265 non-null  object \n",
      " 39  updated_at           53265 non-null  object \n",
      " 40  founded_at_year      53265 non-null  int64  \n",
      "dtypes: float64(1), int64(9), object(31)\n",
      "memory usage: 17.1+ MB\n",
      "None\n"
     ]
    }
   ],
   "source": [
    "companies_after_2000 = companies[companies['founded_at_year'] > 2000]\n",
    "print(companies_after_2000.info())"
   ]
  },
  {
   "cell_type": "code",
   "execution_count": 14,
   "metadata": {},
   "outputs": [],
   "source": [
    "top_categories = ['software', 'web', 'ecommerce', 'mobile', 'advertising']"
   ]
  },
  {
   "cell_type": "code",
   "execution_count": 12,
   "metadata": {},
   "outputs": [
    {
     "data": {
      "text/html": [
       "<div>\n",
       "<style scoped>\n",
       "    .dataframe tbody tr th:only-of-type {\n",
       "        vertical-align: middle;\n",
       "    }\n",
       "\n",
       "    .dataframe tbody tr th {\n",
       "        vertical-align: top;\n",
       "    }\n",
       "\n",
       "    .dataframe thead th {\n",
       "        text-align: right;\n",
       "    }\n",
       "</style>\n",
       "<table border=\"1\" class=\"dataframe\">\n",
       "  <thead>\n",
       "    <tr style=\"text-align: right;\">\n",
       "      <th></th>\n",
       "      <th>category_code</th>\n",
       "      <th>founded_at_year</th>\n",
       "      <th>id</th>\n",
       "      <th>cnt_companies</th>\n",
       "    </tr>\n",
       "  </thead>\n",
       "  <tbody>\n",
       "    <tr>\n",
       "      <th>0</th>\n",
       "      <td>advertising</td>\n",
       "      <td>2001</td>\n",
       "      <td>95</td>\n",
       "      <td>95</td>\n",
       "    </tr>\n",
       "    <tr>\n",
       "      <th>1</th>\n",
       "      <td>advertising</td>\n",
       "      <td>2002</td>\n",
       "      <td>69</td>\n",
       "      <td>69</td>\n",
       "    </tr>\n",
       "    <tr>\n",
       "      <th>2</th>\n",
       "      <td>advertising</td>\n",
       "      <td>2003</td>\n",
       "      <td>117</td>\n",
       "      <td>117</td>\n",
       "    </tr>\n",
       "    <tr>\n",
       "      <th>3</th>\n",
       "      <td>advertising</td>\n",
       "      <td>2004</td>\n",
       "      <td>112</td>\n",
       "      <td>112</td>\n",
       "    </tr>\n",
       "    <tr>\n",
       "      <th>4</th>\n",
       "      <td>advertising</td>\n",
       "      <td>2005</td>\n",
       "      <td>152</td>\n",
       "      <td>152</td>\n",
       "    </tr>\n",
       "  </tbody>\n",
       "</table>\n",
       "</div>"
      ],
      "text/plain": [
       "  category_code  founded_at_year   id  cnt_companies\n",
       "0   advertising             2001   95             95\n",
       "1   advertising             2002   69             69\n",
       "2   advertising             2003  117            117\n",
       "3   advertising             2004  112            112\n",
       "4   advertising             2005  152            152"
      ]
     },
     "execution_count": 12,
     "metadata": {},
     "output_type": "execute_result"
    }
   ],
   "source": [
    "companies_after_2000_by_category = companies_after_2000.groupby(by=['category_code', 'founded_at_year'], as_index=False)['id'].nunique()\n",
    "companies_after_2000_by_category['cnt_companies'] = companies_after_2000_by_category['id']\n",
    "companies_after_2000_by_category.head()"
   ]
  },
  {
   "cell_type": "code",
   "execution_count": 15,
   "metadata": {},
   "outputs": [],
   "source": [
    "companies_after_2000_by_top_category = companies_after_2000_by_category[companies_after_2000_by_category['category_code'].isin(top_categories)]"
   ]
  },
  {
   "cell_type": "code",
   "execution_count": 19,
   "metadata": {},
   "outputs": [
    {
     "data": {
      "image/png": "[encoded data removed]",
      "text/plain": [
       "<Figure size 640x480 with 1 Axes>"
      ]
     },
     "metadata": {},
     "output_type": "display_data"
    }
   ],
   "source": [
    "p = sns.barplot(x='founded_at_year', y='cnt_companies', data=companies_after_2000_by_top_category, hue='category_code')\n",
    "for item in p.get_xticklabels():\n",
    "    item.set_rotation(90)\n"
   ]
  },
  {
   "cell_type": "markdown",
   "metadata": {},
   "source": [
    "### Scatter plot of the relation between the biggest amont of funds between the time period from the founding of the company to the date of the round"
   ]
  },
  {
   "cell_type": "code",
   "execution_count": 34,
   "metadata": {},
   "outputs": [
    {
     "name": "stderr",
     "output_type": "stream",
     "text": [
      "/var/folders/p2/skh823fd5t5fcl9_fbmxvw24rb6_10/T/ipykernel_60965/3647154297.py:1: DeprecationWarning: DataFrameGroupBy.apply operated on the grouping columns. This behavior is deprecated, and in a future version of pandas the grouping columns will be excluded from the operation. Either pass `include_groups=False` to exclude the groupings or explicitly select the grouping columns after groupby to silence this warning.\n",
      "  max_raised_amount = funding_rounds_after_2000.groupby('object_id').apply(lambda x: x.loc[x['raised_amount_mln_usd'].idxmax()])\n"
     ]
    },
    {
     "data": {
      "text/html": [
       "<div>\n",
       "<style scoped>\n",
       "    .dataframe tbody tr th:only-of-type {\n",
       "        vertical-align: middle;\n",
       "    }\n",
       "\n",
       "    .dataframe tbody tr th {\n",
       "        vertical-align: top;\n",
       "    }\n",
       "\n",
       "    .dataframe thead th {\n",
       "        text-align: right;\n",
       "    }\n",
       "</style>\n",
       "<table border=\"1\" class=\"dataframe\">\n",
       "  <thead>\n",
       "    <tr style=\"text-align: right;\">\n",
       "      <th></th>\n",
       "      <th>object_id</th>\n",
       "      <th>raised_amount_mln_usd</th>\n",
       "      <th>funded_at_year</th>\n",
       "    </tr>\n",
       "  </thead>\n",
       "  <tbody>\n",
       "    <tr>\n",
       "      <th>0</th>\n",
       "      <td>c:1</td>\n",
       "      <td>25.0</td>\n",
       "      <td>2008</td>\n",
       "    </tr>\n",
       "    <tr>\n",
       "      <th>1</th>\n",
       "      <td>c:1001</td>\n",
       "      <td>5.0</td>\n",
       "      <td>2008</td>\n",
       "    </tr>\n",
       "    <tr>\n",
       "      <th>2</th>\n",
       "      <td>c:10014</td>\n",
       "      <td>0.0</td>\n",
       "      <td>2008</td>\n",
       "    </tr>\n",
       "    <tr>\n",
       "      <th>3</th>\n",
       "      <td>c:10015</td>\n",
       "      <td>43.0</td>\n",
       "      <td>2013</td>\n",
       "    </tr>\n",
       "    <tr>\n",
       "      <th>4</th>\n",
       "      <td>c:100155</td>\n",
       "      <td>6.5</td>\n",
       "      <td>2011</td>\n",
       "    </tr>\n",
       "  </tbody>\n",
       "</table>\n",
       "</div>"
      ],
      "text/plain": [
       "  object_id  raised_amount_mln_usd  funded_at_year\n",
       "0       c:1                   25.0            2008\n",
       "1    c:1001                    5.0            2008\n",
       "2   c:10014                    0.0            2008\n",
       "3   c:10015                   43.0            2013\n",
       "4  c:100155                    6.5            2011"
      ]
     },
     "execution_count": 34,
     "metadata": {},
     "output_type": "execute_result"
    }
   ],
   "source": [
    "max_raised_amount = funding_rounds_after_2000.groupby('object_id').apply(lambda x: x.loc[x['raised_amount_mln_usd'].idxmax()])\n",
    "max_raised_amount = max_raised_amount[['object_id', 'raised_amount_mln_usd', 'funded_at_year']]\n",
    "max_raised_amount.reset_index(drop=True, inplace=True)\n",
    "max_raised_amount.head()\n"
   ]
  },
  {
   "cell_type": "code",
   "execution_count": 37,
   "metadata": {},
   "outputs": [
    {
     "name": "stdout",
     "output_type": "stream",
     "text": [
      "<class 'pandas.core.frame.DataFrame'>\n",
      "RangeIndex: 22674 entries, 0 to 22673\n",
      "Data columns (total 44 columns):\n",
      " #   Column                 Non-Null Count  Dtype  \n",
      "---  ------                 --------------  -----  \n",
      " 0   id                     22674 non-null  object \n",
      " 1   entity_type            22674 non-null  object \n",
      " 2   entity_id              22674 non-null  int64  \n",
      " 3   parent_id              0 non-null      object \n",
      " 4   name                   22674 non-null  object \n",
      " 5   normalized_name        22674 non-null  object \n",
      " 6   permalink              22674 non-null  object \n",
      " 7   category_code          22674 non-null  object \n",
      " 8   status                 22674 non-null  object \n",
      " 9   founded_at             22674 non-null  object \n",
      " 10  closed_at              1345 non-null   object \n",
      " 11  domain                 22042 non-null  object \n",
      " 12  homepage_url           22042 non-null  object \n",
      " 13  twitter_username       15930 non-null  object \n",
      " 14  logo_url               21483 non-null  object \n",
      " 15  logo_width             22674 non-null  int64  \n",
      " 16  logo_height            22674 non-null  int64  \n",
      " 17  short_description      5180 non-null   object \n",
      " 18  description            15347 non-null  object \n",
      " 19  overview               22605 non-null  object \n",
      " 20  tag_list               11876 non-null  object \n",
      " 21  country_code           22674 non-null  object \n",
      " 22  state_code             15279 non-null  object \n",
      " 23  city                   22100 non-null  object \n",
      " 24  region                 22674 non-null  object \n",
      " 25  first_investment_at    203 non-null    object \n",
      " 26  last_investment_at     203 non-null    object \n",
      " 27  investment_rounds      22674 non-null  int64  \n",
      " 28  invested_companies     22674 non-null  int64  \n",
      " 29  first_funding_at       22674 non-null  object \n",
      " 30  last_funding_at        22674 non-null  object \n",
      " 31  funding_rounds         22674 non-null  int64  \n",
      " 32  funding_total_usd      22674 non-null  float64\n",
      " 33  first_milestone_at     14303 non-null  object \n",
      " 34  last_milestone_at      14303 non-null  object \n",
      " 35  milestones             22674 non-null  int64  \n",
      " 36  relationships          22674 non-null  int64  \n",
      " 37  created_by             18346 non-null  object \n",
      " 38  created_at             22674 non-null  object \n",
      " 39  updated_at             22674 non-null  object \n",
      " 40  founded_at_year        22674 non-null  int64  \n",
      " 41  object_id              22674 non-null  object \n",
      " 42  raised_amount_mln_usd  22674 non-null  float64\n",
      " 43  funded_at_year         22674 non-null  int64  \n",
      "dtypes: float64(2), int64(10), object(32)\n",
      "memory usage: 7.6+ MB\n",
      "None\n"
     ]
    }
   ],
   "source": [
    "max_raised_amount_by_company = pd.merge(left=companies, right=max_raised_amount, left_on='id', right_on='object_id')\n",
    "print(max_raised_amount_by_company.info())"
   ]
  },
  {
   "cell_type": "code",
   "execution_count": 38,
   "metadata": {},
   "outputs": [
    {
     "data": {
      "text/html": [
       "<div>\n",
       "<style scoped>\n",
       "    .dataframe tbody tr th:only-of-type {\n",
       "        vertical-align: middle;\n",
       "    }\n",
       "\n",
       "    .dataframe tbody tr th {\n",
       "        vertical-align: top;\n",
       "    }\n",
       "\n",
       "    .dataframe thead th {\n",
       "        text-align: right;\n",
       "    }\n",
       "</style>\n",
       "<table border=\"1\" class=\"dataframe\">\n",
       "  <thead>\n",
       "    <tr style=\"text-align: right;\">\n",
       "      <th></th>\n",
       "      <th>object_id</th>\n",
       "      <th>raised_amount_mln_usd</th>\n",
       "      <th>funded_at_year</th>\n",
       "      <th>founded_at_year</th>\n",
       "      <th>time_gap</th>\n",
       "    </tr>\n",
       "  </thead>\n",
       "  <tbody>\n",
       "    <tr>\n",
       "      <th>0</th>\n",
       "      <td>c:1</td>\n",
       "      <td>25.0</td>\n",
       "      <td>2008</td>\n",
       "      <td>2005</td>\n",
       "      <td>3</td>\n",
       "    </tr>\n",
       "    <tr>\n",
       "      <th>1</th>\n",
       "      <td>c:1001</td>\n",
       "      <td>5.0</td>\n",
       "      <td>2008</td>\n",
       "      <td>2007</td>\n",
       "      <td>1</td>\n",
       "    </tr>\n",
       "    <tr>\n",
       "      <th>2</th>\n",
       "      <td>c:10014</td>\n",
       "      <td>0.0</td>\n",
       "      <td>2008</td>\n",
       "      <td>2008</td>\n",
       "      <td>0</td>\n",
       "    </tr>\n",
       "    <tr>\n",
       "      <th>3</th>\n",
       "      <td>c:10015</td>\n",
       "      <td>43.0</td>\n",
       "      <td>2013</td>\n",
       "      <td>2007</td>\n",
       "      <td>6</td>\n",
       "    </tr>\n",
       "    <tr>\n",
       "      <th>4</th>\n",
       "      <td>c:100155</td>\n",
       "      <td>6.5</td>\n",
       "      <td>2011</td>\n",
       "      <td>2003</td>\n",
       "      <td>8</td>\n",
       "    </tr>\n",
       "  </tbody>\n",
       "</table>\n",
       "</div>"
      ],
      "text/plain": [
       "  object_id  raised_amount_mln_usd  funded_at_year  founded_at_year  time_gap\n",
       "0       c:1                   25.0            2008             2005         3\n",
       "1    c:1001                    5.0            2008             2007         1\n",
       "2   c:10014                    0.0            2008             2008         0\n",
       "3   c:10015                   43.0            2013             2007         6\n",
       "4  c:100155                    6.5            2011             2003         8"
      ]
     },
     "execution_count": 38,
     "metadata": {},
     "output_type": "execute_result"
    }
   ],
   "source": [
    "max_raised_amount_by_company['time_gap'] = max_raised_amount_by_company['funded_at_year'] - max_raised_amount_by_company['founded_at_year']\n",
    "max_raised_amount_by_company = max_raised_amount_by_company[['object_id', 'raised_amount_mln_usd', 'funded_at_year', 'founded_at_year', 'time_gap']]\n",
    "max_raised_amount_by_company.head()"
   ]
  },
  {
   "cell_type": "code",
   "execution_count": 40,
   "metadata": {},
   "outputs": [
    {
     "data": {
      "text/plain": [
       "Text(0.5, 0, 'time gap between founding and biggest round')"
      ]
     },
     "execution_count": 40,
     "metadata": {},
     "output_type": "execute_result"
    },
    {
     "data": {
      "image/png": "[encoded data removed]",
      "text/plain": [
       "<Figure size 640x480 with 1 Axes>"
      ]
     },
     "metadata": {},
     "output_type": "display_data"
    }
   ],
   "source": [
    "p = sns.scatterplot(data=max_raised_amount_by_company, x='time_gap', y='raised_amount_mln_usd')\n",
    "p.set_xlabel('time gap between founding and biggest round')"
   ]
  }
 ],
 "metadata": {
  "kernelspec": {
   "display_name": ".venv",
   "language": "python",
   "name": "python3"
  },
  "language_info": {
   "codemirror_mode": {
    "name": "ipython",
    "version": 3
   },
   "file_extension": ".py",
   "mimetype": "text/x-python",
   "name": "python",
   "nbconvert_exporter": "python",
   "pygments_lexer": "ipython3",
   "version": "3.12.2"
  }
 },
 "nbformat": 4,
 "nbformat_minor": 2
}
